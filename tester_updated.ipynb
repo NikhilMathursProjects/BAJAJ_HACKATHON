{
 "cells": [
  {
   "cell_type": "code",
   "execution_count": 1,
   "id": "d89c003a",
   "metadata": {},
   "outputs": [
    {
     "name": "stdout",
     "output_type": "stream",
     "text": [
      "hii\n"
     ]
    }
   ],
   "source": [
    "print(\"hii\")"
   ]
  },
  {
   "cell_type": "code",
   "execution_count": 5,
   "id": "bf2b9de2",
   "metadata": {},
   "outputs": [
    {
     "name": "stdout",
     "output_type": "stream",
     "text": [
      "Defaulting to user installation because normal site-packages is not writeableNote: you may need to restart the kernel to use updated packages.\n",
      "\n",
      "Requirement already satisfied: pymupdf in c:\\users\\user\\appdata\\local\\packages\\pythonsoftwarefoundation.python.3.12_qbz5n2kfra8p0\\localcache\\local-packages\\python312\\site-packages (1.26.3)\n",
      "Collecting ctransformers\n",
      "  Using cached ctransformers-0.2.27-py3-none-any.whl.metadata (17 kB)\n",
      "Requirement already satisfied: llama-index in c:\\users\\user\\appdata\\local\\packages\\pythonsoftwarefoundation.python.3.12_qbz5n2kfra8p0\\localcache\\local-packages\\python312\\site-packages (0.12.35)\n",
      "Collecting llama-cpp-python\n",
      "  Downloading llama_cpp_python-0.3.15.tar.gz (50.6 MB)\n",
      "     ---------------------------------------- 0.0/50.6 MB ? eta -:--:--\n",
      "     ---------------------------------------- 0.0/50.6 MB ? eta -:--:--\n",
      "     ---------------------------------------- 0.3/50.6 MB ? eta -:--:--\n",
      "     ---------------------------------------- 0.5/50.6 MB 1.1 MB/s eta 0:00:45\n",
      "      --------------------------------------- 1.0/50.6 MB 1.5 MB/s eta 0:00:34\n",
      "     - -------------------------------------- 1.3/50.6 MB 1.5 MB/s eta 0:00:33\n",
      "     - -------------------------------------- 1.8/50.6 MB 1.7 MB/s eta 0:00:30\n",
      "     - -------------------------------------- 2.4/50.6 MB 1.8 MB/s eta 0:00:27\n",
      "     -- ------------------------------------- 2.9/50.6 MB 1.9 MB/s eta 0:00:26\n",
      "     -- ------------------------------------- 3.1/50.6 MB 1.9 MB/s eta 0:00:25\n",
      "     -- ------------------------------------- 3.7/50.6 MB 1.9 MB/s eta 0:00:25\n",
      "     --- ------------------------------------ 4.2/50.6 MB 2.0 MB/s eta 0:00:24\n",
      "     --- ------------------------------------ 4.7/50.6 MB 2.0 MB/s eta 0:00:24\n",
      "     --- ------------------------------------ 5.0/50.6 MB 2.0 MB/s eta 0:00:23\n",
      "     --- ------------------------------------ 5.0/50.6 MB 2.0 MB/s eta 0:00:23\n",
      "     ---- ----------------------------------- 5.5/50.6 MB 1.8 MB/s eta 0:00:25\n",
      "     ---- ----------------------------------- 5.8/50.6 MB 1.8 MB/s eta 0:00:25\n",
      "     ---- ----------------------------------- 6.3/50.6 MB 1.8 MB/s eta 0:00:25\n",
      "     ----- ---------------------------------- 6.8/50.6 MB 1.9 MB/s eta 0:00:24\n",
      "     ----- ---------------------------------- 7.3/50.6 MB 1.9 MB/s eta 0:00:23\n",
      "     ------ --------------------------------- 8.1/50.6 MB 2.0 MB/s eta 0:00:22\n",
      "     ------- -------------------------------- 8.9/50.6 MB 2.1 MB/s eta 0:00:21\n",
      "     ------- -------------------------------- 9.2/50.6 MB 2.1 MB/s eta 0:00:20\n",
      "     ------- -------------------------------- 9.7/50.6 MB 2.1 MB/s eta 0:00:20\n",
      "     -------- ------------------------------- 10.2/50.6 MB 2.1 MB/s eta 0:00:20\n",
      "     -------- ------------------------------- 10.5/50.6 MB 2.1 MB/s eta 0:00:20\n",
      "     -------- ------------------------------- 11.3/50.6 MB 2.1 MB/s eta 0:00:19\n",
      "     --------- ------------------------------ 11.8/50.6 MB 2.1 MB/s eta 0:00:19\n",
      "     --------- ------------------------------ 12.6/50.6 MB 2.2 MB/s eta 0:00:18\n",
      "     ---------- ----------------------------- 13.4/50.6 MB 2.3 MB/s eta 0:00:17\n",
      "     ---------- ----------------------------- 13.9/50.6 MB 2.3 MB/s eta 0:00:17\n",
      "     ----------- ---------------------------- 14.2/50.6 MB 2.3 MB/s eta 0:00:17\n"
     ]
    },
    {
     "name": "stderr",
     "output_type": "stream",
     "text": [
      "ERROR: Could not install packages due to an OSError: [Errno 28] No space left on device\n",
      "\n",
      "\n",
      "[notice] A new release of pip is available: 25.0.1 -> 25.2\n",
      "[notice] To update, run: C:\\Users\\user\\AppData\\Local\\Microsoft\\WindowsApps\\PythonSoftwareFoundation.Python.3.12_qbz5n2kfra8p0\\python.exe -m pip install --upgrade pip\n"
     ]
    }
   ],
   "source": [
    "pip install pymupdf ctransformers llama-index llama-cpp-python sentence-transformers transformers"
   ]
  },
  {
   "cell_type": "code",
   "execution_count": null,
   "id": "7066e091",
   "metadata": {},
   "outputs": [
    {
     "name": "stderr",
     "output_type": "stream",
     "text": [
      "C:\\Users\\user\\AppData\\Local\\Packages\\PythonSoftwareFoundation.Python.3.12_qbz5n2kfra8p0\\LocalCache\\local-packages\\Python312\\site-packages\\tqdm\\auto.py:21: TqdmWarning: IProgress not found. Please update jupyter and ipywidgets. See https://ipywidgets.readthedocs.io/en/stable/user_install.html\n",
      "  from .autonotebook import tqdm as notebook_tqdm\n"
     ]
    },
    {
     "ename": "ModuleNotFoundError",
     "evalue": "No module named 'sentence_transformers'",
     "output_type": "error",
     "traceback": [
      "\u001b[1;31m---------------------------------------------------------------------------\u001b[0m",
      "\u001b[1;31mModuleNotFoundError\u001b[0m                       Traceback (most recent call last)",
      "Cell \u001b[1;32mIn[1], line 5\u001b[0m\n\u001b[0;32m      3\u001b[0m \u001b[38;5;28;01mimport\u001b[39;00m \u001b[38;5;21;01mpymupdf\u001b[39;00m\n\u001b[0;32m      4\u001b[0m \u001b[38;5;28;01mimport\u001b[39;00m \u001b[38;5;21;01mre\u001b[39;00m\n\u001b[1;32m----> 5\u001b[0m \u001b[38;5;28;01mfrom\u001b[39;00m \u001b[38;5;21;01msentence_transformers\u001b[39;00m \u001b[38;5;28;01mimport\u001b[39;00m SentenceTransformer\n\u001b[0;32m      6\u001b[0m \u001b[38;5;28;01mfrom\u001b[39;00m \u001b[38;5;21;01msklearn\u001b[39;00m\u001b[38;5;21;01m.\u001b[39;00m\u001b[38;5;21;01mmetrics\u001b[39;00m\u001b[38;5;21;01m.\u001b[39;00m\u001b[38;5;21;01mpairwise\u001b[39;00m \u001b[38;5;28;01mimport\u001b[39;00m cosine_similarity\n\u001b[0;32m      7\u001b[0m \u001b[38;5;28;01mimport\u001b[39;00m \u001b[38;5;21;01mnumpy\u001b[39;00m \u001b[38;5;28;01mas\u001b[39;00m \u001b[38;5;21;01mnp\u001b[39;00m\n",
      "\u001b[1;31mModuleNotFoundError\u001b[0m: No module named 'sentence_transformers'"
     ]
    }
   ],
   "source": [
    "\n",
    "from transformers import pipeline, AutoTokenizer\n",
    "import time\n",
    "import pymupdf\n",
    "import re\n",
    "from sentence_transformers import SentenceTransformer\n",
    "from sklearn.metrics.pairwise import cosine_similarity\n",
    "import numpy as np\n",
    "from ctransformers import AutoModelForCausalLM\n",
    "from llama_index.core import PromptTemplate#used to creata prompt template\n",
    "from llama_cpp import Llama\n",
    "import json"
   ]
  },
  {
   "cell_type": "code",
   "execution_count": null,
   "id": "6885a4e3",
   "metadata": {},
   "outputs": [],
   "source": [
    "def dynamic_threshold(query_text):\n",
    "    if len(query_text.split()) <= 6:\n",
    "        return 0.5  # short query → use low threshold\n",
    "    elif len(query_text.split()) <= 12:\n",
    "        return 0.6\n",
    "    else:\n",
    "        return 0.754"
   ]
  },
  {
   "cell_type": "code",
   "execution_count": null,
   "id": "6676a9d0",
   "metadata": {},
   "outputs": [
    {
     "name": "stderr",
     "output_type": "stream",
     "text": [
      "[nltk_data] Downloading package punkt to\n",
      "[nltk_data]     C:\\Users\\user\\AppData\\Roaming\\nltk_data...\n",
      "[nltk_data]   Package punkt is already up-to-date!\n"
     ]
    }
   ],
   "source": [
    "\n",
    "import nltk\n",
    "nltk.download('punkt')\n",
    "from nltk.tokenize import sent_tokenize\n",
    "\n",
    "def smart_chunk_text(text, max_chars=800):\n",
    "    sentences = sent_tokenize(text)\n",
    "    chunks, chunk = [], \"\"\n",
    "    for sentence in sentences:\n",
    "        if len(chunk) + len(sentence) <= max_chars:\n",
    "            chunk += \" \" + sentence\n",
    "        else:\n",
    "            chunks.append(chunk.strip())\n",
    "            chunk = sentence\n",
    "    if chunk:\n",
    "        chunks.append(chunk.strip())\n",
    "    return chunks\n",
    "\n",
    "def extract_paragraphs_from_pdf(pdf_path):\n",
    "    doc = pymupdf.open(pdf_path)\n",
    "    all_text = \"\"\n",
    "    for page in doc:\n",
    "        all_text += page.get_text()\n",
    "    paragraphs = smart_chunk_text(all_text)\n",
    "    return paragraphs\n"
   ]
  },
  {
   "cell_type": "code",
   "execution_count": 4,
   "id": "ac011140",
   "metadata": {},
   "outputs": [],
   "source": [
    "\n",
    "from sentence_transformers import CrossEncoder\n",
    "\n",
    "cross_encoder = CrossEncoder('cross-encoder/ms-marco-MiniLM-L-6-v2')  # lightweight and local-friendly\n",
    "\n",
    "def rerank(query, passages):\n",
    "    pairs = [(query, passage) for passage in passages]\n",
    "    scores = cross_encoder.predict(pairs)\n",
    "    sorted_passages = [p for _, p in sorted(zip(scores, passages), reverse=True)]\n",
    "    return sorted_passages\n"
   ]
  },
  {
   "cell_type": "code",
   "execution_count": 6,
   "id": "a77a1797",
   "metadata": {},
   "outputs": [],
   "source": [
    "\n",
    "def build_llm_prompt(query, clauses):\n",
    "    prompt_template = \"\"\"Query: {query}\n",
    "Relevant Clauses:\n",
    "{clauses}\n",
    "\n",
    "Instructions:\n",
    "Based on the query and clauses, return a JSON with:\n",
    "- decision: Approved or Rejected\n",
    "- amount: if mentioned\n",
    "- justification: list of clause-based reasoning\n",
    "\n",
    "Respond ONLY with JSON.\n",
    "\"\"\"\n",
    "    return prompt_template.format(query=query, clauses=\"\\n\\n\".join(clauses))\n"
   ]
  },
  {
   "cell_type": "code",
   "execution_count": null,
   "id": "15dae500",
   "metadata": {},
   "outputs": [],
   "source": [
    "pdf_path='BAJHLIP23020V012223.pdf'\n",
    "model_path=\"models\"\n",
    "embedding_path='stronger_embedding_model'"
   ]
  },
  {
   "cell_type": "code",
   "execution_count": null,
   "id": "bae5c848",
   "metadata": {},
   "outputs": [],
   "source": [
    "def extract_paragraphs_from_pdf(pdf_path):\n",
    "    doc = pymupdf.open(pdf_path)\n",
    "    all_text = \"\"\n",
    "\n",
    "    for page in doc:\n",
    "        all_text += page.get_text()\n",
    "    paragraphs = re.split(r'\\n\\s*\\n', all_text)\n",
    "\n",
    "    \n",
    "    return paragraphs"
   ]
  },
  {
   "cell_type": "code",
   "execution_count": 9,
   "id": "2cf01052",
   "metadata": {},
   "outputs": [
    {
     "name": "stderr",
     "output_type": "stream",
     "text": [
      "Device set to use cpu\n"
     ]
    }
   ],
   "source": [
    "summarizer = pipeline(\"summarization\", model=model_path)\n",
    "tokenizer = AutoTokenizer.from_pretrained(model_path)\n",
    "# model = SentenceTransformer('sentence-transformers/all-MiniLM-L6-v2')\n",
    "model=SentenceTransformer(embedding_path)"
   ]
  },
  {
   "cell_type": "code",
   "execution_count": 10,
   "id": "0f9ab2c1",
   "metadata": {},
   "outputs": [],
   "source": [
    "paragraph=extract_paragraphs_from_pdf(pdf_path)\n",
    "answers=[]\n",
    "datas=[]"
   ]
  },
  {
   "cell_type": "code",
   "execution_count": 11,
   "id": "86c4c7ad",
   "metadata": {},
   "outputs": [
    {
     "name": "stderr",
     "output_type": "stream",
     "text": [
      "The following generation flags are not valid and may be ignored: ['early_stopping', 'length_penalty']. Set `TRANSFORMERS_VERBOSITY=info` for more details.\n"
     ]
    },
    {
     "name": "stderr",
     "output_type": "stream",
     "text": [
      "The following generation flags are not valid and may be ignored: ['early_stopping', 'length_penalty']. Set `TRANSFORMERS_VERBOSITY=info` for more details.\n"
     ]
    },
    {
     "name": "stdout",
     "output_type": "stream",
     "text": [
      "Time elapsed: 1.43 seconds\n"
     ]
    },
    {
     "name": "stderr",
     "output_type": "stream",
     "text": [
      "Your min_length=10 must be inferior than your max_length=4.\n",
      "The following generation flags are not valid and may be ignored: ['early_stopping', 'length_penalty']. Set `TRANSFORMERS_VERBOSITY=info` for more details.\n",
      "d:\\free_python\\.venv\\Lib\\site-packages\\transformers\\generation\\utils.py:1640: UserWarning: Unfeasible length constraints: `min_length` (10) is larger than the maximum possible length (4). Generation will stop at the defined maximum length. You should decrease the minimum length and/or increase the maximum length.\n",
      "  warnings.warn(\n",
      "The following generation flags are not valid and may be ignored: ['early_stopping', 'length_penalty']. Set `TRANSFORMERS_VERBOSITY=info` for more details.\n"
     ]
    },
    {
     "name": "stdout",
     "output_type": "stream",
     "text": [
      "Time elapsed: 3.65 seconds\n",
      "Time elapsed: 3.78 seconds\n"
     ]
    },
    {
     "name": "stderr",
     "output_type": "stream",
     "text": [
      "The following generation flags are not valid and may be ignored: ['early_stopping', 'length_penalty']. Set `TRANSFORMERS_VERBOSITY=info` for more details.\n"
     ]
    },
    {
     "name": "stdout",
     "output_type": "stream",
     "text": [
      "Time elapsed: 4.31 seconds\n"
     ]
    },
    {
     "name": "stderr",
     "output_type": "stream",
     "text": [
      "The following generation flags are not valid and may be ignored: ['early_stopping', 'length_penalty']. Set `TRANSFORMERS_VERBOSITY=info` for more details.\n"
     ]
    },
    {
     "name": "stdout",
     "output_type": "stream",
     "text": [
      "Time elapsed: 8.80 seconds\n"
     ]
    },
    {
     "name": "stderr",
     "output_type": "stream",
     "text": [
      "The following generation flags are not valid and may be ignored: ['early_stopping', 'length_penalty']. Set `TRANSFORMERS_VERBOSITY=info` for more details.\n"
     ]
    },
    {
     "name": "stdout",
     "output_type": "stream",
     "text": [
      "Time elapsed: 10.76 seconds\n"
     ]
    },
    {
     "name": "stderr",
     "output_type": "stream",
     "text": [
      "The following generation flags are not valid and may be ignored: ['early_stopping', 'length_penalty']. Set `TRANSFORMERS_VERBOSITY=info` for more details.\n"
     ]
    },
    {
     "name": "stdout",
     "output_type": "stream",
     "text": [
      "Time elapsed: 11.37 seconds\n"
     ]
    },
    {
     "name": "stderr",
     "output_type": "stream",
     "text": [
      "The following generation flags are not valid and may be ignored: ['early_stopping', 'length_penalty']. Set `TRANSFORMERS_VERBOSITY=info` for more details.\n"
     ]
    },
    {
     "name": "stdout",
     "output_type": "stream",
     "text": [
      "Time elapsed: 12.52 seconds\n"
     ]
    },
    {
     "name": "stderr",
     "output_type": "stream",
     "text": [
      "The following generation flags are not valid and may be ignored: ['early_stopping', 'length_penalty']. Set `TRANSFORMERS_VERBOSITY=info` for more details.\n"
     ]
    },
    {
     "name": "stdout",
     "output_type": "stream",
     "text": [
      "Time elapsed: 16.81 seconds\n"
     ]
    },
    {
     "name": "stderr",
     "output_type": "stream",
     "text": [
      "The following generation flags are not valid and may be ignored: ['early_stopping', 'length_penalty']. Set `TRANSFORMERS_VERBOSITY=info` for more details.\n"
     ]
    },
    {
     "name": "stdout",
     "output_type": "stream",
     "text": [
      "Time elapsed: 20.65 seconds\n"
     ]
    },
    {
     "name": "stderr",
     "output_type": "stream",
     "text": [
      "The following generation flags are not valid and may be ignored: ['early_stopping', 'length_penalty']. Set `TRANSFORMERS_VERBOSITY=info` for more details.\n"
     ]
    },
    {
     "name": "stdout",
     "output_type": "stream",
     "text": [
      "Time elapsed: 22.18 seconds\n"
     ]
    },
    {
     "name": "stderr",
     "output_type": "stream",
     "text": [
      "The following generation flags are not valid and may be ignored: ['early_stopping', 'length_penalty']. Set `TRANSFORMERS_VERBOSITY=info` for more details.\n"
     ]
    },
    {
     "name": "stdout",
     "output_type": "stream",
     "text": [
      "Time elapsed: 24.76 seconds\n"
     ]
    },
    {
     "name": "stderr",
     "output_type": "stream",
     "text": [
      "The following generation flags are not valid and may be ignored: ['early_stopping', 'length_penalty']. Set `TRANSFORMERS_VERBOSITY=info` for more details.\n"
     ]
    },
    {
     "name": "stdout",
     "output_type": "stream",
     "text": [
      "Time elapsed: 26.54 seconds\n"
     ]
    },
    {
     "name": "stderr",
     "output_type": "stream",
     "text": [
      "The following generation flags are not valid and may be ignored: ['early_stopping', 'length_penalty']. Set `TRANSFORMERS_VERBOSITY=info` for more details.\n"
     ]
    },
    {
     "name": "stdout",
     "output_type": "stream",
     "text": [
      "Time elapsed: 27.56 seconds\n"
     ]
    },
    {
     "name": "stderr",
     "output_type": "stream",
     "text": [
      "The following generation flags are not valid and may be ignored: ['early_stopping', 'length_penalty']. Set `TRANSFORMERS_VERBOSITY=info` for more details.\n"
     ]
    },
    {
     "name": "stdout",
     "output_type": "stream",
     "text": [
      "Time elapsed: 29.98 seconds\n"
     ]
    },
    {
     "name": "stderr",
     "output_type": "stream",
     "text": [
      "The following generation flags are not valid and may be ignored: ['early_stopping', 'length_penalty']. Set `TRANSFORMERS_VERBOSITY=info` for more details.\n"
     ]
    },
    {
     "name": "stdout",
     "output_type": "stream",
     "text": [
      "Time elapsed: 31.40 seconds\n"
     ]
    },
    {
     "name": "stderr",
     "output_type": "stream",
     "text": [
      "The following generation flags are not valid and may be ignored: ['early_stopping', 'length_penalty']. Set `TRANSFORMERS_VERBOSITY=info` for more details.\n"
     ]
    },
    {
     "name": "stdout",
     "output_type": "stream",
     "text": [
      "Time elapsed: 32.35 seconds\n"
     ]
    },
    {
     "name": "stderr",
     "output_type": "stream",
     "text": [
      "The following generation flags are not valid and may be ignored: ['early_stopping', 'length_penalty']. Set `TRANSFORMERS_VERBOSITY=info` for more details.\n"
     ]
    },
    {
     "name": "stdout",
     "output_type": "stream",
     "text": [
      "Time elapsed: 35.05 seconds\n"
     ]
    },
    {
     "name": "stderr",
     "output_type": "stream",
     "text": [
      "The following generation flags are not valid and may be ignored: ['early_stopping', 'length_penalty']. Set `TRANSFORMERS_VERBOSITY=info` for more details.\n"
     ]
    },
    {
     "name": "stdout",
     "output_type": "stream",
     "text": [
      "Time elapsed: 36.79 seconds\n"
     ]
    },
    {
     "name": "stderr",
     "output_type": "stream",
     "text": [
      "The following generation flags are not valid and may be ignored: ['early_stopping', 'length_penalty']. Set `TRANSFORMERS_VERBOSITY=info` for more details.\n"
     ]
    },
    {
     "name": "stdout",
     "output_type": "stream",
     "text": [
      "Time elapsed: 38.47 seconds\n"
     ]
    },
    {
     "name": "stderr",
     "output_type": "stream",
     "text": [
      "The following generation flags are not valid and may be ignored: ['early_stopping', 'length_penalty']. Set `TRANSFORMERS_VERBOSITY=info` for more details.\n"
     ]
    },
    {
     "name": "stdout",
     "output_type": "stream",
     "text": [
      "Time elapsed: 39.48 seconds\n"
     ]
    },
    {
     "name": "stderr",
     "output_type": "stream",
     "text": [
      "The following generation flags are not valid and may be ignored: ['early_stopping', 'length_penalty']. Set `TRANSFORMERS_VERBOSITY=info` for more details.\n"
     ]
    },
    {
     "name": "stdout",
     "output_type": "stream",
     "text": [
      "Time elapsed: 40.92 seconds\n"
     ]
    },
    {
     "name": "stderr",
     "output_type": "stream",
     "text": [
      "The following generation flags are not valid and may be ignored: ['early_stopping', 'length_penalty']. Set `TRANSFORMERS_VERBOSITY=info` for more details.\n"
     ]
    },
    {
     "name": "stdout",
     "output_type": "stream",
     "text": [
      "Time elapsed: 42.67 seconds\n"
     ]
    },
    {
     "name": "stderr",
     "output_type": "stream",
     "text": [
      "The following generation flags are not valid and may be ignored: ['early_stopping', 'length_penalty']. Set `TRANSFORMERS_VERBOSITY=info` for more details.\n"
     ]
    },
    {
     "name": "stdout",
     "output_type": "stream",
     "text": [
      "Time elapsed: 44.58 seconds\n"
     ]
    },
    {
     "name": "stderr",
     "output_type": "stream",
     "text": [
      "The following generation flags are not valid and may be ignored: ['early_stopping', 'length_penalty']. Set `TRANSFORMERS_VERBOSITY=info` for more details.\n"
     ]
    },
    {
     "name": "stdout",
     "output_type": "stream",
     "text": [
      "Time elapsed: 47.66 seconds\n"
     ]
    },
    {
     "name": "stderr",
     "output_type": "stream",
     "text": [
      "The following generation flags are not valid and may be ignored: ['early_stopping', 'length_penalty']. Set `TRANSFORMERS_VERBOSITY=info` for more details.\n"
     ]
    },
    {
     "name": "stdout",
     "output_type": "stream",
     "text": [
      "Time elapsed: 50.41 seconds\n"
     ]
    },
    {
     "name": "stderr",
     "output_type": "stream",
     "text": [
      "The following generation flags are not valid and may be ignored: ['early_stopping', 'length_penalty']. Set `TRANSFORMERS_VERBOSITY=info` for more details.\n"
     ]
    },
    {
     "name": "stdout",
     "output_type": "stream",
     "text": [
      "Time elapsed: 56.68 seconds\n"
     ]
    },
    {
     "name": "stderr",
     "output_type": "stream",
     "text": [
      "The following generation flags are not valid and may be ignored: ['early_stopping', 'length_penalty']. Set `TRANSFORMERS_VERBOSITY=info` for more details.\n"
     ]
    },
    {
     "name": "stdout",
     "output_type": "stream",
     "text": [
      "Time elapsed: 58.71 seconds\n"
     ]
    },
    {
     "name": "stderr",
     "output_type": "stream",
     "text": [
      "The following generation flags are not valid and may be ignored: ['early_stopping', 'length_penalty']. Set `TRANSFORMERS_VERBOSITY=info` for more details.\n"
     ]
    },
    {
     "name": "stdout",
     "output_type": "stream",
     "text": [
      "Time elapsed: 66.57 seconds\n"
     ]
    },
    {
     "name": "stderr",
     "output_type": "stream",
     "text": [
      "The following generation flags are not valid and may be ignored: ['early_stopping', 'length_penalty']. Set `TRANSFORMERS_VERBOSITY=info` for more details.\n"
     ]
    },
    {
     "name": "stdout",
     "output_type": "stream",
     "text": [
      "Time elapsed: 68.80 seconds\n"
     ]
    },
    {
     "name": "stderr",
     "output_type": "stream",
     "text": [
      "The following generation flags are not valid and may be ignored: ['early_stopping', 'length_penalty']. Set `TRANSFORMERS_VERBOSITY=info` for more details.\n"
     ]
    },
    {
     "name": "stdout",
     "output_type": "stream",
     "text": [
      "Time elapsed: 70.90 seconds\n"
     ]
    },
    {
     "name": "stderr",
     "output_type": "stream",
     "text": [
      "The following generation flags are not valid and may be ignored: ['early_stopping', 'length_penalty']. Set `TRANSFORMERS_VERBOSITY=info` for more details.\n"
     ]
    },
    {
     "name": "stdout",
     "output_type": "stream",
     "text": [
      "Time elapsed: 74.34 seconds\n"
     ]
    },
    {
     "name": "stderr",
     "output_type": "stream",
     "text": [
      "The following generation flags are not valid and may be ignored: ['early_stopping', 'length_penalty']. Set `TRANSFORMERS_VERBOSITY=info` for more details.\n"
     ]
    },
    {
     "name": "stdout",
     "output_type": "stream",
     "text": [
      "Time elapsed: 77.16 seconds\n"
     ]
    },
    {
     "name": "stderr",
     "output_type": "stream",
     "text": [
      "The following generation flags are not valid and may be ignored: ['early_stopping', 'length_penalty']. Set `TRANSFORMERS_VERBOSITY=info` for more details.\n"
     ]
    },
    {
     "name": "stdout",
     "output_type": "stream",
     "text": [
      "Time elapsed: 82.36 seconds\n"
     ]
    },
    {
     "name": "stderr",
     "output_type": "stream",
     "text": [
      "The following generation flags are not valid and may be ignored: ['early_stopping', 'length_penalty']. Set `TRANSFORMERS_VERBOSITY=info` for more details.\n"
     ]
    },
    {
     "name": "stdout",
     "output_type": "stream",
     "text": [
      "Time elapsed: 84.90 seconds\n"
     ]
    },
    {
     "name": "stderr",
     "output_type": "stream",
     "text": [
      "The following generation flags are not valid and may be ignored: ['early_stopping', 'length_penalty']. Set `TRANSFORMERS_VERBOSITY=info` for more details.\n"
     ]
    },
    {
     "name": "stdout",
     "output_type": "stream",
     "text": [
      "Time elapsed: 88.76 seconds\n"
     ]
    },
    {
     "name": "stderr",
     "output_type": "stream",
     "text": [
      "The following generation flags are not valid and may be ignored: ['early_stopping', 'length_penalty']. Set `TRANSFORMERS_VERBOSITY=info` for more details.\n"
     ]
    },
    {
     "name": "stdout",
     "output_type": "stream",
     "text": [
      "Time elapsed: 91.06 seconds\n"
     ]
    },
    {
     "name": "stderr",
     "output_type": "stream",
     "text": [
      "The following generation flags are not valid and may be ignored: ['early_stopping', 'length_penalty']. Set `TRANSFORMERS_VERBOSITY=info` for more details.\n"
     ]
    },
    {
     "name": "stdout",
     "output_type": "stream",
     "text": [
      "Time elapsed: 92.51 seconds\n"
     ]
    },
    {
     "name": "stderr",
     "output_type": "stream",
     "text": [
      "The following generation flags are not valid and may be ignored: ['early_stopping', 'length_penalty']. Set `TRANSFORMERS_VERBOSITY=info` for more details.\n"
     ]
    },
    {
     "name": "stdout",
     "output_type": "stream",
     "text": [
      "Time elapsed: 95.23 seconds\n"
     ]
    },
    {
     "name": "stderr",
     "output_type": "stream",
     "text": [
      "The following generation flags are not valid and may be ignored: ['early_stopping', 'length_penalty']. Set `TRANSFORMERS_VERBOSITY=info` for more details.\n"
     ]
    },
    {
     "name": "stdout",
     "output_type": "stream",
     "text": [
      "Time elapsed: 97.45 seconds\n"
     ]
    },
    {
     "name": "stderr",
     "output_type": "stream",
     "text": [
      "The following generation flags are not valid and may be ignored: ['early_stopping', 'length_penalty']. Set `TRANSFORMERS_VERBOSITY=info` for more details.\n"
     ]
    },
    {
     "name": "stdout",
     "output_type": "stream",
     "text": [
      "Time elapsed: 101.51 seconds\n"
     ]
    },
    {
     "name": "stderr",
     "output_type": "stream",
     "text": [
      "The following generation flags are not valid and may be ignored: ['early_stopping', 'length_penalty']. Set `TRANSFORMERS_VERBOSITY=info` for more details.\n"
     ]
    },
    {
     "name": "stdout",
     "output_type": "stream",
     "text": [
      "Time elapsed: 103.39 seconds\n"
     ]
    },
    {
     "name": "stderr",
     "output_type": "stream",
     "text": [
      "The following generation flags are not valid and may be ignored: ['early_stopping', 'length_penalty']. Set `TRANSFORMERS_VERBOSITY=info` for more details.\n"
     ]
    },
    {
     "name": "stdout",
     "output_type": "stream",
     "text": [
      "Time elapsed: 105.06 seconds\n"
     ]
    },
    {
     "name": "stderr",
     "output_type": "stream",
     "text": [
      "The following generation flags are not valid and may be ignored: ['early_stopping', 'length_penalty']. Set `TRANSFORMERS_VERBOSITY=info` for more details.\n"
     ]
    },
    {
     "name": "stdout",
     "output_type": "stream",
     "text": [
      "Time elapsed: 106.15 seconds\n"
     ]
    },
    {
     "name": "stderr",
     "output_type": "stream",
     "text": [
      "The following generation flags are not valid and may be ignored: ['early_stopping', 'length_penalty']. Set `TRANSFORMERS_VERBOSITY=info` for more details.\n"
     ]
    },
    {
     "name": "stdout",
     "output_type": "stream",
     "text": [
      "Time elapsed: 107.43 seconds\n"
     ]
    },
    {
     "name": "stderr",
     "output_type": "stream",
     "text": [
      "The following generation flags are not valid and may be ignored: ['early_stopping', 'length_penalty']. Set `TRANSFORMERS_VERBOSITY=info` for more details.\n"
     ]
    },
    {
     "name": "stdout",
     "output_type": "stream",
     "text": [
      "Time elapsed: 108.94 seconds\n"
     ]
    },
    {
     "name": "stderr",
     "output_type": "stream",
     "text": [
      "The following generation flags are not valid and may be ignored: ['early_stopping', 'length_penalty']. Set `TRANSFORMERS_VERBOSITY=info` for more details.\n"
     ]
    },
    {
     "name": "stdout",
     "output_type": "stream",
     "text": [
      "Time elapsed: 111.22 seconds\n"
     ]
    },
    {
     "name": "stderr",
     "output_type": "stream",
     "text": [
      "The following generation flags are not valid and may be ignored: ['early_stopping', 'length_penalty']. Set `TRANSFORMERS_VERBOSITY=info` for more details.\n"
     ]
    },
    {
     "name": "stdout",
     "output_type": "stream",
     "text": [
      "Time elapsed: 113.11 seconds\n"
     ]
    },
    {
     "name": "stderr",
     "output_type": "stream",
     "text": [
      "The following generation flags are not valid and may be ignored: ['early_stopping', 'length_penalty']. Set `TRANSFORMERS_VERBOSITY=info` for more details.\n"
     ]
    },
    {
     "name": "stdout",
     "output_type": "stream",
     "text": [
      "Time elapsed: 115.51 seconds\n"
     ]
    },
    {
     "name": "stderr",
     "output_type": "stream",
     "text": [
      "The following generation flags are not valid and may be ignored: ['early_stopping', 'length_penalty']. Set `TRANSFORMERS_VERBOSITY=info` for more details.\n"
     ]
    },
    {
     "name": "stdout",
     "output_type": "stream",
     "text": [
      "Time elapsed: 120.43 seconds\n"
     ]
    },
    {
     "name": "stderr",
     "output_type": "stream",
     "text": [
      "The following generation flags are not valid and may be ignored: ['early_stopping', 'length_penalty']. Set `TRANSFORMERS_VERBOSITY=info` for more details.\n"
     ]
    },
    {
     "name": "stdout",
     "output_type": "stream",
     "text": [
      "Time elapsed: 124.87 seconds\n"
     ]
    },
    {
     "name": "stderr",
     "output_type": "stream",
     "text": [
      "The following generation flags are not valid and may be ignored: ['early_stopping', 'length_penalty']. Set `TRANSFORMERS_VERBOSITY=info` for more details.\n"
     ]
    },
    {
     "name": "stdout",
     "output_type": "stream",
     "text": [
      "Time elapsed: 128.64 seconds\n"
     ]
    },
    {
     "name": "stderr",
     "output_type": "stream",
     "text": [
      "The following generation flags are not valid and may be ignored: ['early_stopping', 'length_penalty']. Set `TRANSFORMERS_VERBOSITY=info` for more details.\n"
     ]
    },
    {
     "name": "stdout",
     "output_type": "stream",
     "text": [
      "Time elapsed: 133.10 seconds\n"
     ]
    },
    {
     "name": "stderr",
     "output_type": "stream",
     "text": [
      "The following generation flags are not valid and may be ignored: ['early_stopping', 'length_penalty']. Set `TRANSFORMERS_VERBOSITY=info` for more details.\n"
     ]
    },
    {
     "name": "stdout",
     "output_type": "stream",
     "text": [
      "Time elapsed: 135.90 seconds\n"
     ]
    },
    {
     "name": "stderr",
     "output_type": "stream",
     "text": [
      "The following generation flags are not valid and may be ignored: ['early_stopping', 'length_penalty']. Set `TRANSFORMERS_VERBOSITY=info` for more details.\n"
     ]
    },
    {
     "name": "stdout",
     "output_type": "stream",
     "text": [
      "Time elapsed: 137.59 seconds\n"
     ]
    },
    {
     "name": "stderr",
     "output_type": "stream",
     "text": [
      "The following generation flags are not valid and may be ignored: ['early_stopping', 'length_penalty']. Set `TRANSFORMERS_VERBOSITY=info` for more details.\n"
     ]
    },
    {
     "name": "stdout",
     "output_type": "stream",
     "text": [
      "Time elapsed: 140.12 seconds\n"
     ]
    },
    {
     "name": "stderr",
     "output_type": "stream",
     "text": [
      "The following generation flags are not valid and may be ignored: ['early_stopping', 'length_penalty']. Set `TRANSFORMERS_VERBOSITY=info` for more details.\n"
     ]
    },
    {
     "name": "stdout",
     "output_type": "stream",
     "text": [
      "Time elapsed: 141.41 seconds\n"
     ]
    },
    {
     "name": "stderr",
     "output_type": "stream",
     "text": [
      "The following generation flags are not valid and may be ignored: ['early_stopping', 'length_penalty']. Set `TRANSFORMERS_VERBOSITY=info` for more details.\n"
     ]
    },
    {
     "name": "stdout",
     "output_type": "stream",
     "text": [
      "Time elapsed: 144.23 seconds\n"
     ]
    },
    {
     "name": "stderr",
     "output_type": "stream",
     "text": [
      "The following generation flags are not valid and may be ignored: ['early_stopping', 'length_penalty']. Set `TRANSFORMERS_VERBOSITY=info` for more details.\n"
     ]
    },
    {
     "name": "stdout",
     "output_type": "stream",
     "text": [
      "Time elapsed: 146.04 seconds\n"
     ]
    },
    {
     "name": "stderr",
     "output_type": "stream",
     "text": [
      "The following generation flags are not valid and may be ignored: ['early_stopping', 'length_penalty']. Set `TRANSFORMERS_VERBOSITY=info` for more details.\n"
     ]
    },
    {
     "name": "stdout",
     "output_type": "stream",
     "text": [
      "Time elapsed: 146.55 seconds\n"
     ]
    },
    {
     "name": "stderr",
     "output_type": "stream",
     "text": [
      "The following generation flags are not valid and may be ignored: ['early_stopping', 'length_penalty']. Set `TRANSFORMERS_VERBOSITY=info` for more details.\n"
     ]
    },
    {
     "name": "stdout",
     "output_type": "stream",
     "text": [
      "Time elapsed: 147.16 seconds\n"
     ]
    },
    {
     "name": "stderr",
     "output_type": "stream",
     "text": [
      "The following generation flags are not valid and may be ignored: ['early_stopping', 'length_penalty']. Set `TRANSFORMERS_VERBOSITY=info` for more details.\n"
     ]
    },
    {
     "name": "stdout",
     "output_type": "stream",
     "text": [
      "Time elapsed: 153.01 seconds\n"
     ]
    },
    {
     "name": "stderr",
     "output_type": "stream",
     "text": [
      "The following generation flags are not valid and may be ignored: ['early_stopping', 'length_penalty']. Set `TRANSFORMERS_VERBOSITY=info` for more details.\n"
     ]
    },
    {
     "name": "stdout",
     "output_type": "stream",
     "text": [
      "Time elapsed: 154.97 seconds\n"
     ]
    },
    {
     "name": "stderr",
     "output_type": "stream",
     "text": [
      "The following generation flags are not valid and may be ignored: ['early_stopping', 'length_penalty']. Set `TRANSFORMERS_VERBOSITY=info` for more details.\n"
     ]
    },
    {
     "name": "stdout",
     "output_type": "stream",
     "text": [
      "Time elapsed: 158.30 seconds\n"
     ]
    },
    {
     "name": "stderr",
     "output_type": "stream",
     "text": [
      "The following generation flags are not valid and may be ignored: ['early_stopping', 'length_penalty']. Set `TRANSFORMERS_VERBOSITY=info` for more details.\n"
     ]
    },
    {
     "name": "stdout",
     "output_type": "stream",
     "text": [
      "Time elapsed: 164.14 seconds\n"
     ]
    },
    {
     "name": "stderr",
     "output_type": "stream",
     "text": [
      "The following generation flags are not valid and may be ignored: ['early_stopping', 'length_penalty']. Set `TRANSFORMERS_VERBOSITY=info` for more details.\n"
     ]
    },
    {
     "name": "stdout",
     "output_type": "stream",
     "text": [
      "Time elapsed: 166.83 seconds\n"
     ]
    },
    {
     "name": "stderr",
     "output_type": "stream",
     "text": [
      "The following generation flags are not valid and may be ignored: ['early_stopping', 'length_penalty']. Set `TRANSFORMERS_VERBOSITY=info` for more details.\n"
     ]
    },
    {
     "name": "stdout",
     "output_type": "stream",
     "text": [
      "Time elapsed: 168.77 seconds\n"
     ]
    },
    {
     "name": "stderr",
     "output_type": "stream",
     "text": [
      "The following generation flags are not valid and may be ignored: ['early_stopping', 'length_penalty']. Set `TRANSFORMERS_VERBOSITY=info` for more details.\n"
     ]
    },
    {
     "name": "stdout",
     "output_type": "stream",
     "text": [
      "Time elapsed: 170.84 seconds\n"
     ]
    },
    {
     "name": "stderr",
     "output_type": "stream",
     "text": [
      "The following generation flags are not valid and may be ignored: ['early_stopping', 'length_penalty']. Set `TRANSFORMERS_VERBOSITY=info` for more details.\n"
     ]
    },
    {
     "name": "stdout",
     "output_type": "stream",
     "text": [
      "Time elapsed: 174.48 seconds\n"
     ]
    },
    {
     "name": "stderr",
     "output_type": "stream",
     "text": [
      "The following generation flags are not valid and may be ignored: ['early_stopping', 'length_penalty']. Set `TRANSFORMERS_VERBOSITY=info` for more details.\n"
     ]
    },
    {
     "name": "stdout",
     "output_type": "stream",
     "text": [
      "Time elapsed: 175.90 seconds\n"
     ]
    },
    {
     "name": "stderr",
     "output_type": "stream",
     "text": [
      "The following generation flags are not valid and may be ignored: ['early_stopping', 'length_penalty']. Set `TRANSFORMERS_VERBOSITY=info` for more details.\n"
     ]
    },
    {
     "name": "stdout",
     "output_type": "stream",
     "text": [
      "Time elapsed: 180.42 seconds\n"
     ]
    },
    {
     "name": "stderr",
     "output_type": "stream",
     "text": [
      "The following generation flags are not valid and may be ignored: ['early_stopping', 'length_penalty']. Set `TRANSFORMERS_VERBOSITY=info` for more details.\n"
     ]
    },
    {
     "name": "stdout",
     "output_type": "stream",
     "text": [
      "Time elapsed: 181.90 seconds\n"
     ]
    },
    {
     "name": "stderr",
     "output_type": "stream",
     "text": [
      "The following generation flags are not valid and may be ignored: ['early_stopping', 'length_penalty']. Set `TRANSFORMERS_VERBOSITY=info` for more details.\n"
     ]
    },
    {
     "name": "stdout",
     "output_type": "stream",
     "text": [
      "Time elapsed: 182.93 seconds\n"
     ]
    },
    {
     "name": "stderr",
     "output_type": "stream",
     "text": [
      "The following generation flags are not valid and may be ignored: ['early_stopping', 'length_penalty']. Set `TRANSFORMERS_VERBOSITY=info` for more details.\n"
     ]
    },
    {
     "name": "stdout",
     "output_type": "stream",
     "text": [
      "Time elapsed: 184.97 seconds\n"
     ]
    },
    {
     "name": "stderr",
     "output_type": "stream",
     "text": [
      "The following generation flags are not valid and may be ignored: ['early_stopping', 'length_penalty']. Set `TRANSFORMERS_VERBOSITY=info` for more details.\n"
     ]
    },
    {
     "name": "stdout",
     "output_type": "stream",
     "text": [
      "Time elapsed: 186.23 seconds\n"
     ]
    },
    {
     "name": "stderr",
     "output_type": "stream",
     "text": [
      "The following generation flags are not valid and may be ignored: ['early_stopping', 'length_penalty']. Set `TRANSFORMERS_VERBOSITY=info` for more details.\n"
     ]
    },
    {
     "name": "stdout",
     "output_type": "stream",
     "text": [
      "Time elapsed: 187.41 seconds\n"
     ]
    },
    {
     "name": "stderr",
     "output_type": "stream",
     "text": [
      "The following generation flags are not valid and may be ignored: ['early_stopping', 'length_penalty']. Set `TRANSFORMERS_VERBOSITY=info` for more details.\n"
     ]
    },
    {
     "name": "stdout",
     "output_type": "stream",
     "text": [
      "Time elapsed: 189.39 seconds\n"
     ]
    },
    {
     "name": "stderr",
     "output_type": "stream",
     "text": [
      "The following generation flags are not valid and may be ignored: ['early_stopping', 'length_penalty']. Set `TRANSFORMERS_VERBOSITY=info` for more details.\n"
     ]
    },
    {
     "name": "stdout",
     "output_type": "stream",
     "text": [
      "Time elapsed: 191.60 seconds\n"
     ]
    },
    {
     "name": "stderr",
     "output_type": "stream",
     "text": [
      "The following generation flags are not valid and may be ignored: ['early_stopping', 'length_penalty']. Set `TRANSFORMERS_VERBOSITY=info` for more details.\n"
     ]
    },
    {
     "name": "stdout",
     "output_type": "stream",
     "text": [
      "Time elapsed: 195.32 seconds\n"
     ]
    },
    {
     "name": "stderr",
     "output_type": "stream",
     "text": [
      "The following generation flags are not valid and may be ignored: ['early_stopping', 'length_penalty']. Set `TRANSFORMERS_VERBOSITY=info` for more details.\n"
     ]
    },
    {
     "name": "stdout",
     "output_type": "stream",
     "text": [
      "Time elapsed: 197.32 seconds\n"
     ]
    },
    {
     "name": "stderr",
     "output_type": "stream",
     "text": [
      "The following generation flags are not valid and may be ignored: ['early_stopping', 'length_penalty']. Set `TRANSFORMERS_VERBOSITY=info` for more details.\n"
     ]
    },
    {
     "name": "stdout",
     "output_type": "stream",
     "text": [
      "Time elapsed: 202.63 seconds\n"
     ]
    },
    {
     "name": "stderr",
     "output_type": "stream",
     "text": [
      "The following generation flags are not valid and may be ignored: ['early_stopping', 'length_penalty']. Set `TRANSFORMERS_VERBOSITY=info` for more details.\n"
     ]
    },
    {
     "name": "stdout",
     "output_type": "stream",
     "text": [
      "Time elapsed: 206.53 seconds\n"
     ]
    },
    {
     "name": "stderr",
     "output_type": "stream",
     "text": [
      "The following generation flags are not valid and may be ignored: ['early_stopping', 'length_penalty']. Set `TRANSFORMERS_VERBOSITY=info` for more details.\n"
     ]
    },
    {
     "name": "stdout",
     "output_type": "stream",
     "text": [
      "Time elapsed: 207.64 seconds\n"
     ]
    },
    {
     "name": "stderr",
     "output_type": "stream",
     "text": [
      "The following generation flags are not valid and may be ignored: ['early_stopping', 'length_penalty']. Set `TRANSFORMERS_VERBOSITY=info` for more details.\n"
     ]
    },
    {
     "name": "stdout",
     "output_type": "stream",
     "text": [
      "Time elapsed: 208.61 seconds\n"
     ]
    },
    {
     "name": "stderr",
     "output_type": "stream",
     "text": [
      "The following generation flags are not valid and may be ignored: ['early_stopping', 'length_penalty']. Set `TRANSFORMERS_VERBOSITY=info` for more details.\n"
     ]
    },
    {
     "name": "stdout",
     "output_type": "stream",
     "text": [
      "Time elapsed: 213.22 seconds\n"
     ]
    },
    {
     "name": "stderr",
     "output_type": "stream",
     "text": [
      "The following generation flags are not valid and may be ignored: ['early_stopping', 'length_penalty']. Set `TRANSFORMERS_VERBOSITY=info` for more details.\n"
     ]
    },
    {
     "name": "stdout",
     "output_type": "stream",
     "text": [
      "Time elapsed: 213.94 seconds\n"
     ]
    },
    {
     "name": "stderr",
     "output_type": "stream",
     "text": [
      "The following generation flags are not valid and may be ignored: ['early_stopping', 'length_penalty']. Set `TRANSFORMERS_VERBOSITY=info` for more details.\n"
     ]
    },
    {
     "name": "stdout",
     "output_type": "stream",
     "text": [
      "Time elapsed: 216.97 seconds\n"
     ]
    },
    {
     "name": "stderr",
     "output_type": "stream",
     "text": [
      "The following generation flags are not valid and may be ignored: ['early_stopping', 'length_penalty']. Set `TRANSFORMERS_VERBOSITY=info` for more details.\n"
     ]
    },
    {
     "name": "stdout",
     "output_type": "stream",
     "text": [
      "Time elapsed: 219.93 seconds\n"
     ]
    },
    {
     "name": "stderr",
     "output_type": "stream",
     "text": [
      "The following generation flags are not valid and may be ignored: ['early_stopping', 'length_penalty']. Set `TRANSFORMERS_VERBOSITY=info` for more details.\n"
     ]
    },
    {
     "name": "stdout",
     "output_type": "stream",
     "text": [
      "Time elapsed: 223.14 seconds\n"
     ]
    },
    {
     "name": "stderr",
     "output_type": "stream",
     "text": [
      "The following generation flags are not valid and may be ignored: ['early_stopping', 'length_penalty']. Set `TRANSFORMERS_VERBOSITY=info` for more details.\n"
     ]
    },
    {
     "name": "stdout",
     "output_type": "stream",
     "text": [
      "Time elapsed: 224.44 seconds\n"
     ]
    },
    {
     "name": "stderr",
     "output_type": "stream",
     "text": [
      "The following generation flags are not valid and may be ignored: ['early_stopping', 'length_penalty']. Set `TRANSFORMERS_VERBOSITY=info` for more details.\n"
     ]
    },
    {
     "name": "stdout",
     "output_type": "stream",
     "text": [
      "Time elapsed: 226.48 seconds\n"
     ]
    },
    {
     "name": "stderr",
     "output_type": "stream",
     "text": [
      "The following generation flags are not valid and may be ignored: ['early_stopping', 'length_penalty']. Set `TRANSFORMERS_VERBOSITY=info` for more details.\n"
     ]
    },
    {
     "name": "stdout",
     "output_type": "stream",
     "text": [
      "Time elapsed: 228.32 seconds\n"
     ]
    },
    {
     "name": "stderr",
     "output_type": "stream",
     "text": [
      "The following generation flags are not valid and may be ignored: ['early_stopping', 'length_penalty']. Set `TRANSFORMERS_VERBOSITY=info` for more details.\n"
     ]
    },
    {
     "name": "stdout",
     "output_type": "stream",
     "text": [
      "Time elapsed: 231.59 seconds\n"
     ]
    },
    {
     "name": "stderr",
     "output_type": "stream",
     "text": [
      "The following generation flags are not valid and may be ignored: ['early_stopping', 'length_penalty']. Set `TRANSFORMERS_VERBOSITY=info` for more details.\n"
     ]
    },
    {
     "name": "stdout",
     "output_type": "stream",
     "text": [
      "Time elapsed: 233.73 seconds\n"
     ]
    },
    {
     "name": "stderr",
     "output_type": "stream",
     "text": [
      "The following generation flags are not valid and may be ignored: ['early_stopping', 'length_penalty']. Set `TRANSFORMERS_VERBOSITY=info` for more details.\n"
     ]
    },
    {
     "name": "stdout",
     "output_type": "stream",
     "text": [
      "Time elapsed: 235.02 seconds\n"
     ]
    },
    {
     "name": "stderr",
     "output_type": "stream",
     "text": [
      "The following generation flags are not valid and may be ignored: ['early_stopping', 'length_penalty']. Set `TRANSFORMERS_VERBOSITY=info` for more details.\n"
     ]
    },
    {
     "name": "stdout",
     "output_type": "stream",
     "text": [
      "Time elapsed: 236.16 seconds\n"
     ]
    },
    {
     "name": "stderr",
     "output_type": "stream",
     "text": [
      "The following generation flags are not valid and may be ignored: ['early_stopping', 'length_penalty']. Set `TRANSFORMERS_VERBOSITY=info` for more details.\n"
     ]
    },
    {
     "name": "stdout",
     "output_type": "stream",
     "text": [
      "Time elapsed: 239.57 seconds\n"
     ]
    },
    {
     "name": "stderr",
     "output_type": "stream",
     "text": [
      "The following generation flags are not valid and may be ignored: ['early_stopping', 'length_penalty']. Set `TRANSFORMERS_VERBOSITY=info` for more details.\n"
     ]
    },
    {
     "name": "stdout",
     "output_type": "stream",
     "text": [
      "Time elapsed: 241.53 seconds\n"
     ]
    },
    {
     "name": "stderr",
     "output_type": "stream",
     "text": [
      "The following generation flags are not valid and may be ignored: ['early_stopping', 'length_penalty']. Set `TRANSFORMERS_VERBOSITY=info` for more details.\n"
     ]
    },
    {
     "name": "stdout",
     "output_type": "stream",
     "text": [
      "Time elapsed: 241.98 seconds\n"
     ]
    },
    {
     "name": "stderr",
     "output_type": "stream",
     "text": [
      "The following generation flags are not valid and may be ignored: ['early_stopping', 'length_penalty']. Set `TRANSFORMERS_VERBOSITY=info` for more details.\n"
     ]
    },
    {
     "name": "stdout",
     "output_type": "stream",
     "text": [
      "Time elapsed: 245.70 seconds\n"
     ]
    },
    {
     "name": "stderr",
     "output_type": "stream",
     "text": [
      "The following generation flags are not valid and may be ignored: ['early_stopping', 'length_penalty']. Set `TRANSFORMERS_VERBOSITY=info` for more details.\n"
     ]
    },
    {
     "name": "stdout",
     "output_type": "stream",
     "text": [
      "Time elapsed: 251.65 seconds\n"
     ]
    },
    {
     "name": "stderr",
     "output_type": "stream",
     "text": [
      "The following generation flags are not valid and may be ignored: ['early_stopping', 'length_penalty']. Set `TRANSFORMERS_VERBOSITY=info` for more details.\n"
     ]
    },
    {
     "name": "stdout",
     "output_type": "stream",
     "text": [
      "Time elapsed: 254.16 seconds\n"
     ]
    },
    {
     "name": "stderr",
     "output_type": "stream",
     "text": [
      "The following generation flags are not valid and may be ignored: ['early_stopping', 'length_penalty']. Set `TRANSFORMERS_VERBOSITY=info` for more details.\n"
     ]
    },
    {
     "name": "stdout",
     "output_type": "stream",
     "text": [
      "Time elapsed: 255.38 seconds\n"
     ]
    },
    {
     "name": "stderr",
     "output_type": "stream",
     "text": [
      "The following generation flags are not valid and may be ignored: ['early_stopping', 'length_penalty']. Set `TRANSFORMERS_VERBOSITY=info` for more details.\n"
     ]
    },
    {
     "name": "stdout",
     "output_type": "stream",
     "text": [
      "Time elapsed: 256.66 seconds\n"
     ]
    },
    {
     "name": "stderr",
     "output_type": "stream",
     "text": [
      "The following generation flags are not valid and may be ignored: ['early_stopping', 'length_penalty']. Set `TRANSFORMERS_VERBOSITY=info` for more details.\n"
     ]
    },
    {
     "name": "stdout",
     "output_type": "stream",
     "text": [
      "Time elapsed: 260.20 seconds\n"
     ]
    },
    {
     "name": "stderr",
     "output_type": "stream",
     "text": [
      "The following generation flags are not valid and may be ignored: ['early_stopping', 'length_penalty']. Set `TRANSFORMERS_VERBOSITY=info` for more details.\n"
     ]
    },
    {
     "name": "stdout",
     "output_type": "stream",
     "text": [
      "Time elapsed: 263.33 seconds\n"
     ]
    },
    {
     "name": "stderr",
     "output_type": "stream",
     "text": [
      "The following generation flags are not valid and may be ignored: ['early_stopping', 'length_penalty']. Set `TRANSFORMERS_VERBOSITY=info` for more details.\n"
     ]
    },
    {
     "name": "stdout",
     "output_type": "stream",
     "text": [
      "Time elapsed: 266.40 seconds\n"
     ]
    },
    {
     "name": "stderr",
     "output_type": "stream",
     "text": [
      "The following generation flags are not valid and may be ignored: ['early_stopping', 'length_penalty']. Set `TRANSFORMERS_VERBOSITY=info` for more details.\n"
     ]
    },
    {
     "name": "stdout",
     "output_type": "stream",
     "text": [
      "Time elapsed: 268.98 seconds\n"
     ]
    },
    {
     "name": "stderr",
     "output_type": "stream",
     "text": [
      "The following generation flags are not valid and may be ignored: ['early_stopping', 'length_penalty']. Set `TRANSFORMERS_VERBOSITY=info` for more details.\n"
     ]
    },
    {
     "name": "stdout",
     "output_type": "stream",
     "text": [
      "Time elapsed: 270.90 seconds\n"
     ]
    },
    {
     "name": "stderr",
     "output_type": "stream",
     "text": [
      "The following generation flags are not valid and may be ignored: ['early_stopping', 'length_penalty']. Set `TRANSFORMERS_VERBOSITY=info` for more details.\n"
     ]
    },
    {
     "name": "stdout",
     "output_type": "stream",
     "text": [
      "Time elapsed: 271.58 seconds\n"
     ]
    },
    {
     "name": "stderr",
     "output_type": "stream",
     "text": [
      "The following generation flags are not valid and may be ignored: ['early_stopping', 'length_penalty']. Set `TRANSFORMERS_VERBOSITY=info` for more details.\n"
     ]
    },
    {
     "name": "stdout",
     "output_type": "stream",
     "text": [
      "Time elapsed: 276.53 seconds\n"
     ]
    },
    {
     "name": "stderr",
     "output_type": "stream",
     "text": [
      "The following generation flags are not valid and may be ignored: ['early_stopping', 'length_penalty']. Set `TRANSFORMERS_VERBOSITY=info` for more details.\n"
     ]
    },
    {
     "name": "stdout",
     "output_type": "stream",
     "text": [
      "Time elapsed: 278.93 seconds\n"
     ]
    },
    {
     "name": "stderr",
     "output_type": "stream",
     "text": [
      "The following generation flags are not valid and may be ignored: ['early_stopping', 'length_penalty']. Set `TRANSFORMERS_VERBOSITY=info` for more details.\n"
     ]
    },
    {
     "name": "stdout",
     "output_type": "stream",
     "text": [
      "Time elapsed: 280.27 seconds\n"
     ]
    },
    {
     "name": "stderr",
     "output_type": "stream",
     "text": [
      "The following generation flags are not valid and may be ignored: ['early_stopping', 'length_penalty']. Set `TRANSFORMERS_VERBOSITY=info` for more details.\n"
     ]
    },
    {
     "name": "stdout",
     "output_type": "stream",
     "text": [
      "Time elapsed: 281.51 seconds\n"
     ]
    },
    {
     "name": "stderr",
     "output_type": "stream",
     "text": [
      "The following generation flags are not valid and may be ignored: ['early_stopping', 'length_penalty']. Set `TRANSFORMERS_VERBOSITY=info` for more details.\n"
     ]
    },
    {
     "name": "stdout",
     "output_type": "stream",
     "text": [
      "Time elapsed: 284.24 seconds\n"
     ]
    },
    {
     "name": "stderr",
     "output_type": "stream",
     "text": [
      "The following generation flags are not valid and may be ignored: ['early_stopping', 'length_penalty']. Set `TRANSFORMERS_VERBOSITY=info` for more details.\n"
     ]
    },
    {
     "name": "stdout",
     "output_type": "stream",
     "text": [
      "Time elapsed: 286.11 seconds\n"
     ]
    },
    {
     "name": "stderr",
     "output_type": "stream",
     "text": [
      "The following generation flags are not valid and may be ignored: ['early_stopping', 'length_penalty']. Set `TRANSFORMERS_VERBOSITY=info` for more details.\n"
     ]
    },
    {
     "name": "stdout",
     "output_type": "stream",
     "text": [
      "Time elapsed: 287.55 seconds\n"
     ]
    },
    {
     "name": "stderr",
     "output_type": "stream",
     "text": [
      "The following generation flags are not valid and may be ignored: ['early_stopping', 'length_penalty']. Set `TRANSFORMERS_VERBOSITY=info` for more details.\n"
     ]
    },
    {
     "name": "stdout",
     "output_type": "stream",
     "text": [
      "Time elapsed: 288.96 seconds\n"
     ]
    },
    {
     "name": "stderr",
     "output_type": "stream",
     "text": [
      "The following generation flags are not valid and may be ignored: ['early_stopping', 'length_penalty']. Set `TRANSFORMERS_VERBOSITY=info` for more details.\n"
     ]
    },
    {
     "name": "stdout",
     "output_type": "stream",
     "text": [
      "Time elapsed: 289.70 seconds\n"
     ]
    },
    {
     "name": "stderr",
     "output_type": "stream",
     "text": [
      "The following generation flags are not valid and may be ignored: ['early_stopping', 'length_penalty']. Set `TRANSFORMERS_VERBOSITY=info` for more details.\n"
     ]
    },
    {
     "name": "stdout",
     "output_type": "stream",
     "text": [
      "Time elapsed: 292.58 seconds\n"
     ]
    },
    {
     "name": "stderr",
     "output_type": "stream",
     "text": [
      "The following generation flags are not valid and may be ignored: ['early_stopping', 'length_penalty']. Set `TRANSFORMERS_VERBOSITY=info` for more details.\n"
     ]
    },
    {
     "name": "stdout",
     "output_type": "stream",
     "text": [
      "Time elapsed: 295.48 seconds\n"
     ]
    },
    {
     "name": "stderr",
     "output_type": "stream",
     "text": [
      "The following generation flags are not valid and may be ignored: ['early_stopping', 'length_penalty']. Set `TRANSFORMERS_VERBOSITY=info` for more details.\n"
     ]
    },
    {
     "name": "stdout",
     "output_type": "stream",
     "text": [
      "Time elapsed: 299.80 seconds\n"
     ]
    },
    {
     "name": "stderr",
     "output_type": "stream",
     "text": [
      "The following generation flags are not valid and may be ignored: ['early_stopping', 'length_penalty']. Set `TRANSFORMERS_VERBOSITY=info` for more details.\n"
     ]
    },
    {
     "name": "stdout",
     "output_type": "stream",
     "text": [
      "Time elapsed: 301.32 seconds\n"
     ]
    },
    {
     "name": "stderr",
     "output_type": "stream",
     "text": [
      "The following generation flags are not valid and may be ignored: ['early_stopping', 'length_penalty']. Set `TRANSFORMERS_VERBOSITY=info` for more details.\n"
     ]
    },
    {
     "name": "stdout",
     "output_type": "stream",
     "text": [
      "Time elapsed: 302.85 seconds\n"
     ]
    },
    {
     "name": "stderr",
     "output_type": "stream",
     "text": [
      "The following generation flags are not valid and may be ignored: ['early_stopping', 'length_penalty']. Set `TRANSFORMERS_VERBOSITY=info` for more details.\n"
     ]
    },
    {
     "name": "stdout",
     "output_type": "stream",
     "text": [
      "Time elapsed: 304.61 seconds\n"
     ]
    },
    {
     "name": "stderr",
     "output_type": "stream",
     "text": [
      "The following generation flags are not valid and may be ignored: ['early_stopping', 'length_penalty']. Set `TRANSFORMERS_VERBOSITY=info` for more details.\n"
     ]
    },
    {
     "name": "stdout",
     "output_type": "stream",
     "text": [
      "Time elapsed: 306.13 seconds\n"
     ]
    },
    {
     "name": "stderr",
     "output_type": "stream",
     "text": [
      "The following generation flags are not valid and may be ignored: ['early_stopping', 'length_penalty']. Set `TRANSFORMERS_VERBOSITY=info` for more details.\n"
     ]
    },
    {
     "name": "stdout",
     "output_type": "stream",
     "text": [
      "Time elapsed: 307.22 seconds\n"
     ]
    },
    {
     "name": "stderr",
     "output_type": "stream",
     "text": [
      "Your min_length=10 must be inferior than your max_length=5.\n",
      "The following generation flags are not valid and may be ignored: ['early_stopping', 'length_penalty']. Set `TRANSFORMERS_VERBOSITY=info` for more details.\n",
      "d:\\free_python\\.venv\\Lib\\site-packages\\transformers\\generation\\utils.py:1640: UserWarning: Unfeasible length constraints: `min_length` (10) is larger than the maximum possible length (5). Generation will stop at the defined maximum length. You should decrease the minimum length and/or increase the maximum length.\n",
      "  warnings.warn(\n",
      "Your min_length=10 must be inferior than your max_length=7.\n"
     ]
    },
    {
     "name": "stdout",
     "output_type": "stream",
     "text": [
      "Time elapsed: 307.81 seconds\n",
      "Time elapsed: 308.02 seconds\n"
     ]
    },
    {
     "name": "stderr",
     "output_type": "stream",
     "text": [
      "The following generation flags are not valid and may be ignored: ['early_stopping', 'length_penalty']. Set `TRANSFORMERS_VERBOSITY=info` for more details.\n",
      "d:\\free_python\\.venv\\Lib\\site-packages\\transformers\\generation\\utils.py:1640: UserWarning: Unfeasible length constraints: `min_length` (10) is larger than the maximum possible length (7). Generation will stop at the defined maximum length. You should decrease the minimum length and/or increase the maximum length.\n",
      "  warnings.warn(\n",
      "The following generation flags are not valid and may be ignored: ['early_stopping', 'length_penalty']. Set `TRANSFORMERS_VERBOSITY=info` for more details.\n"
     ]
    },
    {
     "name": "stdout",
     "output_type": "stream",
     "text": [
      "Time elapsed: 308.30 seconds\n"
     ]
    },
    {
     "name": "stderr",
     "output_type": "stream",
     "text": [
      "The following generation flags are not valid and may be ignored: ['early_stopping', 'length_penalty']. Set `TRANSFORMERS_VERBOSITY=info` for more details.\n"
     ]
    },
    {
     "name": "stdout",
     "output_type": "stream",
     "text": [
      "Time elapsed: 310.24 seconds\n"
     ]
    },
    {
     "name": "stderr",
     "output_type": "stream",
     "text": [
      "The following generation flags are not valid and may be ignored: ['early_stopping', 'length_penalty']. Set `TRANSFORMERS_VERBOSITY=info` for more details.\n"
     ]
    },
    {
     "name": "stdout",
     "output_type": "stream",
     "text": [
      "Time elapsed: 310.80 seconds\n"
     ]
    },
    {
     "name": "stderr",
     "output_type": "stream",
     "text": [
      "The following generation flags are not valid and may be ignored: ['early_stopping', 'length_penalty']. Set `TRANSFORMERS_VERBOSITY=info` for more details.\n"
     ]
    },
    {
     "name": "stdout",
     "output_type": "stream",
     "text": [
      "Time elapsed: 311.31 seconds\n"
     ]
    },
    {
     "name": "stderr",
     "output_type": "stream",
     "text": [
      "The following generation flags are not valid and may be ignored: ['early_stopping', 'length_penalty']. Set `TRANSFORMERS_VERBOSITY=info` for more details.\n"
     ]
    },
    {
     "name": "stdout",
     "output_type": "stream",
     "text": [
      "Time elapsed: 319.40 seconds\n"
     ]
    },
    {
     "name": "stderr",
     "output_type": "stream",
     "text": [
      "The following generation flags are not valid and may be ignored: ['early_stopping', 'length_penalty']. Set `TRANSFORMERS_VERBOSITY=info` for more details.\n"
     ]
    },
    {
     "name": "stdout",
     "output_type": "stream",
     "text": [
      "Time elapsed: 321.70 seconds\n"
     ]
    },
    {
     "name": "stderr",
     "output_type": "stream",
     "text": [
      "The following generation flags are not valid and may be ignored: ['early_stopping', 'length_penalty']. Set `TRANSFORMERS_VERBOSITY=info` for more details.\n"
     ]
    },
    {
     "name": "stdout",
     "output_type": "stream",
     "text": [
      "Time elapsed: 323.49 seconds\n"
     ]
    },
    {
     "name": "stderr",
     "output_type": "stream",
     "text": [
      "The following generation flags are not valid and may be ignored: ['early_stopping', 'length_penalty']. Set `TRANSFORMERS_VERBOSITY=info` for more details.\n"
     ]
    },
    {
     "name": "stdout",
     "output_type": "stream",
     "text": [
      "Time elapsed: 327.13 seconds\n"
     ]
    },
    {
     "name": "stderr",
     "output_type": "stream",
     "text": [
      "The following generation flags are not valid and may be ignored: ['early_stopping', 'length_penalty']. Set `TRANSFORMERS_VERBOSITY=info` for more details.\n"
     ]
    },
    {
     "name": "stdout",
     "output_type": "stream",
     "text": [
      "Time elapsed: 329.55 seconds\n"
     ]
    },
    {
     "name": "stderr",
     "output_type": "stream",
     "text": [
      "The following generation flags are not valid and may be ignored: ['early_stopping', 'length_penalty']. Set `TRANSFORMERS_VERBOSITY=info` for more details.\n"
     ]
    },
    {
     "name": "stdout",
     "output_type": "stream",
     "text": [
      "Time elapsed: 331.81 seconds\n"
     ]
    },
    {
     "name": "stderr",
     "output_type": "stream",
     "text": [
      "The following generation flags are not valid and may be ignored: ['early_stopping', 'length_penalty']. Set `TRANSFORMERS_VERBOSITY=info` for more details.\n"
     ]
    },
    {
     "name": "stdout",
     "output_type": "stream",
     "text": [
      "Time elapsed: 335.80 seconds\n"
     ]
    },
    {
     "name": "stderr",
     "output_type": "stream",
     "text": [
      "The following generation flags are not valid and may be ignored: ['early_stopping', 'length_penalty']. Set `TRANSFORMERS_VERBOSITY=info` for more details.\n"
     ]
    },
    {
     "name": "stdout",
     "output_type": "stream",
     "text": [
      "Time elapsed: 338.33 seconds\n"
     ]
    },
    {
     "name": "stderr",
     "output_type": "stream",
     "text": [
      "The following generation flags are not valid and may be ignored: ['early_stopping', 'length_penalty']. Set `TRANSFORMERS_VERBOSITY=info` for more details.\n"
     ]
    },
    {
     "name": "stdout",
     "output_type": "stream",
     "text": [
      "Time elapsed: 342.16 seconds\n"
     ]
    },
    {
     "name": "stderr",
     "output_type": "stream",
     "text": [
      "The following generation flags are not valid and may be ignored: ['early_stopping', 'length_penalty']. Set `TRANSFORMERS_VERBOSITY=info` for more details.\n"
     ]
    },
    {
     "name": "stdout",
     "output_type": "stream",
     "text": [
      "Time elapsed: 346.91 seconds\n"
     ]
    },
    {
     "name": "stderr",
     "output_type": "stream",
     "text": [
      "The following generation flags are not valid and may be ignored: ['early_stopping', 'length_penalty']. Set `TRANSFORMERS_VERBOSITY=info` for more details.\n"
     ]
    },
    {
     "name": "stdout",
     "output_type": "stream",
     "text": [
      "Time elapsed: 351.53 seconds\n"
     ]
    },
    {
     "name": "stderr",
     "output_type": "stream",
     "text": [
      "The following generation flags are not valid and may be ignored: ['early_stopping', 'length_penalty']. Set `TRANSFORMERS_VERBOSITY=info` for more details.\n"
     ]
    },
    {
     "name": "stdout",
     "output_type": "stream",
     "text": [
      "Time elapsed: 352.92 seconds\n"
     ]
    },
    {
     "name": "stderr",
     "output_type": "stream",
     "text": [
      "The following generation flags are not valid and may be ignored: ['early_stopping', 'length_penalty']. Set `TRANSFORMERS_VERBOSITY=info` for more details.\n"
     ]
    },
    {
     "name": "stdout",
     "output_type": "stream",
     "text": [
      "Time elapsed: 355.37 seconds\n"
     ]
    },
    {
     "name": "stderr",
     "output_type": "stream",
     "text": [
      "The following generation flags are not valid and may be ignored: ['early_stopping', 'length_penalty']. Set `TRANSFORMERS_VERBOSITY=info` for more details.\n"
     ]
    },
    {
     "name": "stdout",
     "output_type": "stream",
     "text": [
      "Time elapsed: 358.38 seconds\n"
     ]
    },
    {
     "name": "stderr",
     "output_type": "stream",
     "text": [
      "The following generation flags are not valid and may be ignored: ['early_stopping', 'length_penalty']. Set `TRANSFORMERS_VERBOSITY=info` for more details.\n"
     ]
    },
    {
     "name": "stdout",
     "output_type": "stream",
     "text": [
      "Time elapsed: 361.35 seconds\n"
     ]
    },
    {
     "name": "stderr",
     "output_type": "stream",
     "text": [
      "The following generation flags are not valid and may be ignored: ['early_stopping', 'length_penalty']. Set `TRANSFORMERS_VERBOSITY=info` for more details.\n"
     ]
    },
    {
     "name": "stdout",
     "output_type": "stream",
     "text": [
      "Time elapsed: 365.63 seconds\n"
     ]
    },
    {
     "name": "stderr",
     "output_type": "stream",
     "text": [
      "The following generation flags are not valid and may be ignored: ['early_stopping', 'length_penalty']. Set `TRANSFORMERS_VERBOSITY=info` for more details.\n"
     ]
    },
    {
     "name": "stdout",
     "output_type": "stream",
     "text": [
      "Time elapsed: 369.35 seconds\n"
     ]
    },
    {
     "name": "stderr",
     "output_type": "stream",
     "text": [
      "Your min_length=10 must be inferior than your max_length=9.\n",
      "The following generation flags are not valid and may be ignored: ['early_stopping', 'length_penalty']. Set `TRANSFORMERS_VERBOSITY=info` for more details.\n"
     ]
    },
    {
     "name": "stdout",
     "output_type": "stream",
     "text": [
      "Time elapsed: 374.78 seconds\n"
     ]
    },
    {
     "name": "stderr",
     "output_type": "stream",
     "text": [
      "d:\\free_python\\.venv\\Lib\\site-packages\\transformers\\generation\\utils.py:1640: UserWarning: Unfeasible length constraints: `min_length` (10) is larger than the maximum possible length (9). Generation will stop at the defined maximum length. You should decrease the minimum length and/or increase the maximum length.\n",
      "  warnings.warn(\n",
      "The following generation flags are not valid and may be ignored: ['early_stopping', 'length_penalty']. Set `TRANSFORMERS_VERBOSITY=info` for more details.\n"
     ]
    },
    {
     "name": "stdout",
     "output_type": "stream",
     "text": [
      "Time elapsed: 375.15 seconds\n"
     ]
    },
    {
     "name": "stderr",
     "output_type": "stream",
     "text": [
      "The following generation flags are not valid and may be ignored: ['early_stopping', 'length_penalty']. Set `TRANSFORMERS_VERBOSITY=info` for more details.\n"
     ]
    },
    {
     "name": "stdout",
     "output_type": "stream",
     "text": [
      "Time elapsed: 376.90 seconds\n"
     ]
    },
    {
     "name": "stderr",
     "output_type": "stream",
     "text": [
      "The following generation flags are not valid and may be ignored: ['early_stopping', 'length_penalty']. Set `TRANSFORMERS_VERBOSITY=info` for more details.\n"
     ]
    },
    {
     "name": "stdout",
     "output_type": "stream",
     "text": [
      "Time elapsed: 378.77 seconds\n"
     ]
    },
    {
     "name": "stderr",
     "output_type": "stream",
     "text": [
      "The following generation flags are not valid and may be ignored: ['early_stopping', 'length_penalty']. Set `TRANSFORMERS_VERBOSITY=info` for more details.\n"
     ]
    },
    {
     "name": "stdout",
     "output_type": "stream",
     "text": [
      "Time elapsed: 382.23 seconds\n"
     ]
    },
    {
     "name": "stderr",
     "output_type": "stream",
     "text": [
      "Your min_length=10 must be inferior than your max_length=7.\n",
      "The following generation flags are not valid and may be ignored: ['early_stopping', 'length_penalty']. Set `TRANSFORMERS_VERBOSITY=info` for more details.\n"
     ]
    },
    {
     "name": "stdout",
     "output_type": "stream",
     "text": [
      "Time elapsed: 392.11 seconds\n"
     ]
    },
    {
     "name": "stderr",
     "output_type": "stream",
     "text": [
      "The following generation flags are not valid and may be ignored: ['early_stopping', 'length_penalty']. Set `TRANSFORMERS_VERBOSITY=info` for more details.\n"
     ]
    },
    {
     "name": "stdout",
     "output_type": "stream",
     "text": [
      "Time elapsed: 392.40 seconds\n"
     ]
    },
    {
     "name": "stderr",
     "output_type": "stream",
     "text": [
      "The following generation flags are not valid and may be ignored: ['early_stopping', 'length_penalty']. Set `TRANSFORMERS_VERBOSITY=info` for more details.\n"
     ]
    },
    {
     "name": "stdout",
     "output_type": "stream",
     "text": [
      "Time elapsed: 392.91 seconds\n"
     ]
    },
    {
     "name": "stderr",
     "output_type": "stream",
     "text": [
      "The following generation flags are not valid and may be ignored: ['early_stopping', 'length_penalty']. Set `TRANSFORMERS_VERBOSITY=info` for more details.\n"
     ]
    },
    {
     "name": "stdout",
     "output_type": "stream",
     "text": [
      "Time elapsed: 400.34 seconds\n"
     ]
    },
    {
     "name": "stderr",
     "output_type": "stream",
     "text": [
      "The following generation flags are not valid and may be ignored: ['early_stopping', 'length_penalty']. Set `TRANSFORMERS_VERBOSITY=info` for more details.\n"
     ]
    },
    {
     "name": "stdout",
     "output_type": "stream",
     "text": [
      "Time elapsed: 401.50 seconds\n"
     ]
    },
    {
     "name": "stderr",
     "output_type": "stream",
     "text": [
      "The following generation flags are not valid and may be ignored: ['early_stopping', 'length_penalty']. Set `TRANSFORMERS_VERBOSITY=info` for more details.\n"
     ]
    },
    {
     "name": "stdout",
     "output_type": "stream",
     "text": [
      "Time elapsed: 402.16 seconds\n"
     ]
    },
    {
     "name": "stderr",
     "output_type": "stream",
     "text": [
      "The following generation flags are not valid and may be ignored: ['early_stopping', 'length_penalty']. Set `TRANSFORMERS_VERBOSITY=info` for more details.\n"
     ]
    },
    {
     "name": "stdout",
     "output_type": "stream",
     "text": [
      "Time elapsed: 404.09 seconds\n"
     ]
    },
    {
     "name": "stderr",
     "output_type": "stream",
     "text": [
      "The following generation flags are not valid and may be ignored: ['early_stopping', 'length_penalty']. Set `TRANSFORMERS_VERBOSITY=info` for more details.\n"
     ]
    },
    {
     "name": "stdout",
     "output_type": "stream",
     "text": [
      "Time elapsed: 407.37 seconds\n"
     ]
    },
    {
     "name": "stderr",
     "output_type": "stream",
     "text": [
      "The following generation flags are not valid and may be ignored: ['early_stopping', 'length_penalty']. Set `TRANSFORMERS_VERBOSITY=info` for more details.\n"
     ]
    },
    {
     "name": "stdout",
     "output_type": "stream",
     "text": [
      "Time elapsed: 409.69 seconds\n"
     ]
    },
    {
     "name": "stderr",
     "output_type": "stream",
     "text": [
      "The following generation flags are not valid and may be ignored: ['early_stopping', 'length_penalty']. Set `TRANSFORMERS_VERBOSITY=info` for more details.\n"
     ]
    },
    {
     "name": "stdout",
     "output_type": "stream",
     "text": [
      "Time elapsed: 410.67 seconds\n"
     ]
    },
    {
     "name": "stderr",
     "output_type": "stream",
     "text": [
      "The following generation flags are not valid and may be ignored: ['early_stopping', 'length_penalty']. Set `TRANSFORMERS_VERBOSITY=info` for more details.\n"
     ]
    },
    {
     "name": "stdout",
     "output_type": "stream",
     "text": [
      "Time elapsed: 413.03 seconds\n"
     ]
    },
    {
     "name": "stderr",
     "output_type": "stream",
     "text": [
      "The following generation flags are not valid and may be ignored: ['early_stopping', 'length_penalty']. Set `TRANSFORMERS_VERBOSITY=info` for more details.\n"
     ]
    },
    {
     "name": "stdout",
     "output_type": "stream",
     "text": [
      "Time elapsed: 414.47 seconds\n"
     ]
    },
    {
     "name": "stderr",
     "output_type": "stream",
     "text": [
      "The following generation flags are not valid and may be ignored: ['early_stopping', 'length_penalty']. Set `TRANSFORMERS_VERBOSITY=info` for more details.\n"
     ]
    },
    {
     "name": "stdout",
     "output_type": "stream",
     "text": [
      "Time elapsed: 416.78 seconds\n"
     ]
    },
    {
     "name": "stderr",
     "output_type": "stream",
     "text": [
      "The following generation flags are not valid and may be ignored: ['early_stopping', 'length_penalty']. Set `TRANSFORMERS_VERBOSITY=info` for more details.\n"
     ]
    },
    {
     "name": "stdout",
     "output_type": "stream",
     "text": [
      "Time elapsed: 421.41 seconds\n"
     ]
    },
    {
     "name": "stderr",
     "output_type": "stream",
     "text": [
      "The following generation flags are not valid and may be ignored: ['early_stopping', 'length_penalty']. Set `TRANSFORMERS_VERBOSITY=info` for more details.\n"
     ]
    },
    {
     "name": "stdout",
     "output_type": "stream",
     "text": [
      "Time elapsed: 422.51 seconds\n"
     ]
    },
    {
     "name": "stderr",
     "output_type": "stream",
     "text": [
      "The following generation flags are not valid and may be ignored: ['early_stopping', 'length_penalty']. Set `TRANSFORMERS_VERBOSITY=info` for more details.\n"
     ]
    },
    {
     "name": "stdout",
     "output_type": "stream",
     "text": [
      "Time elapsed: 426.58 seconds\n"
     ]
    },
    {
     "name": "stderr",
     "output_type": "stream",
     "text": [
      "The following generation flags are not valid and may be ignored: ['early_stopping', 'length_penalty']. Set `TRANSFORMERS_VERBOSITY=info` for more details.\n"
     ]
    },
    {
     "name": "stdout",
     "output_type": "stream",
     "text": [
      "Time elapsed: 430.49 seconds\n"
     ]
    },
    {
     "name": "stderr",
     "output_type": "stream",
     "text": [
      "The following generation flags are not valid and may be ignored: ['early_stopping', 'length_penalty']. Set `TRANSFORMERS_VERBOSITY=info` for more details.\n"
     ]
    },
    {
     "name": "stdout",
     "output_type": "stream",
     "text": [
      "Time elapsed: 431.59 seconds\n"
     ]
    },
    {
     "name": "stderr",
     "output_type": "stream",
     "text": [
      "The following generation flags are not valid and may be ignored: ['early_stopping', 'length_penalty']. Set `TRANSFORMERS_VERBOSITY=info` for more details.\n"
     ]
    },
    {
     "name": "stdout",
     "output_type": "stream",
     "text": [
      "Time elapsed: 437.19 seconds\n"
     ]
    },
    {
     "name": "stderr",
     "output_type": "stream",
     "text": [
      "The following generation flags are not valid and may be ignored: ['early_stopping', 'length_penalty']. Set `TRANSFORMERS_VERBOSITY=info` for more details.\n"
     ]
    },
    {
     "name": "stdout",
     "output_type": "stream",
     "text": [
      "Time elapsed: 439.90 seconds\n"
     ]
    },
    {
     "name": "stderr",
     "output_type": "stream",
     "text": [
      "The following generation flags are not valid and may be ignored: ['early_stopping', 'length_penalty']. Set `TRANSFORMERS_VERBOSITY=info` for more details.\n"
     ]
    },
    {
     "name": "stdout",
     "output_type": "stream",
     "text": [
      "Time elapsed: 443.37 seconds\n"
     ]
    },
    {
     "name": "stderr",
     "output_type": "stream",
     "text": [
      "The following generation flags are not valid and may be ignored: ['early_stopping', 'length_penalty']. Set `TRANSFORMERS_VERBOSITY=info` for more details.\n"
     ]
    },
    {
     "name": "stdout",
     "output_type": "stream",
     "text": [
      "Time elapsed: 445.41 seconds\n"
     ]
    },
    {
     "name": "stderr",
     "output_type": "stream",
     "text": [
      "The following generation flags are not valid and may be ignored: ['early_stopping', 'length_penalty']. Set `TRANSFORMERS_VERBOSITY=info` for more details.\n"
     ]
    },
    {
     "name": "stdout",
     "output_type": "stream",
     "text": [
      "Time elapsed: 450.39 seconds\n"
     ]
    },
    {
     "name": "stderr",
     "output_type": "stream",
     "text": [
      "The following generation flags are not valid and may be ignored: ['early_stopping', 'length_penalty']. Set `TRANSFORMERS_VERBOSITY=info` for more details.\n"
     ]
    },
    {
     "name": "stdout",
     "output_type": "stream",
     "text": [
      "Time elapsed: 451.76 seconds\n"
     ]
    },
    {
     "name": "stderr",
     "output_type": "stream",
     "text": [
      "The following generation flags are not valid and may be ignored: ['early_stopping', 'length_penalty']. Set `TRANSFORMERS_VERBOSITY=info` for more details.\n"
     ]
    },
    {
     "name": "stdout",
     "output_type": "stream",
     "text": [
      "Time elapsed: 453.87 seconds\n"
     ]
    },
    {
     "name": "stderr",
     "output_type": "stream",
     "text": [
      "The following generation flags are not valid and may be ignored: ['early_stopping', 'length_penalty']. Set `TRANSFORMERS_VERBOSITY=info` for more details.\n"
     ]
    },
    {
     "name": "stdout",
     "output_type": "stream",
     "text": [
      "Time elapsed: 455.33 seconds\n"
     ]
    },
    {
     "name": "stderr",
     "output_type": "stream",
     "text": [
      "The following generation flags are not valid and may be ignored: ['early_stopping', 'length_penalty']. Set `TRANSFORMERS_VERBOSITY=info` for more details.\n"
     ]
    },
    {
     "name": "stdout",
     "output_type": "stream",
     "text": [
      "Time elapsed: 457.80 seconds\n"
     ]
    },
    {
     "name": "stderr",
     "output_type": "stream",
     "text": [
      "The following generation flags are not valid and may be ignored: ['early_stopping', 'length_penalty']. Set `TRANSFORMERS_VERBOSITY=info` for more details.\n"
     ]
    },
    {
     "name": "stdout",
     "output_type": "stream",
     "text": [
      "Time elapsed: 460.13 seconds\n"
     ]
    },
    {
     "name": "stderr",
     "output_type": "stream",
     "text": [
      "The following generation flags are not valid and may be ignored: ['early_stopping', 'length_penalty']. Set `TRANSFORMERS_VERBOSITY=info` for more details.\n"
     ]
    },
    {
     "name": "stdout",
     "output_type": "stream",
     "text": [
      "Time elapsed: 461.51 seconds\n"
     ]
    },
    {
     "name": "stderr",
     "output_type": "stream",
     "text": [
      "The following generation flags are not valid and may be ignored: ['early_stopping', 'length_penalty']. Set `TRANSFORMERS_VERBOSITY=info` for more details.\n"
     ]
    },
    {
     "name": "stdout",
     "output_type": "stream",
     "text": [
      "Time elapsed: 464.92 seconds\n"
     ]
    },
    {
     "name": "stderr",
     "output_type": "stream",
     "text": [
      "The following generation flags are not valid and may be ignored: ['early_stopping', 'length_penalty']. Set `TRANSFORMERS_VERBOSITY=info` for more details.\n"
     ]
    },
    {
     "name": "stdout",
     "output_type": "stream",
     "text": [
      "Time elapsed: 468.07 seconds\n"
     ]
    },
    {
     "name": "stderr",
     "output_type": "stream",
     "text": [
      "The following generation flags are not valid and may be ignored: ['early_stopping', 'length_penalty']. Set `TRANSFORMERS_VERBOSITY=info` for more details.\n"
     ]
    },
    {
     "name": "stdout",
     "output_type": "stream",
     "text": [
      "Time elapsed: 468.98 seconds\n"
     ]
    },
    {
     "name": "stderr",
     "output_type": "stream",
     "text": [
      "The following generation flags are not valid and may be ignored: ['early_stopping', 'length_penalty']. Set `TRANSFORMERS_VERBOSITY=info` for more details.\n"
     ]
    },
    {
     "name": "stdout",
     "output_type": "stream",
     "text": [
      "Time elapsed: 470.24 seconds\n"
     ]
    },
    {
     "name": "stderr",
     "output_type": "stream",
     "text": [
      "The following generation flags are not valid and may be ignored: ['early_stopping', 'length_penalty']. Set `TRANSFORMERS_VERBOSITY=info` for more details.\n"
     ]
    },
    {
     "name": "stdout",
     "output_type": "stream",
     "text": [
      "Time elapsed: 472.24 seconds\n"
     ]
    },
    {
     "name": "stderr",
     "output_type": "stream",
     "text": [
      "The following generation flags are not valid and may be ignored: ['early_stopping', 'length_penalty']. Set `TRANSFORMERS_VERBOSITY=info` for more details.\n"
     ]
    },
    {
     "name": "stdout",
     "output_type": "stream",
     "text": [
      "Time elapsed: 473.55 seconds\n"
     ]
    },
    {
     "name": "stderr",
     "output_type": "stream",
     "text": [
      "The following generation flags are not valid and may be ignored: ['early_stopping', 'length_penalty']. Set `TRANSFORMERS_VERBOSITY=info` for more details.\n"
     ]
    },
    {
     "name": "stdout",
     "output_type": "stream",
     "text": [
      "Time elapsed: 474.23 seconds\n"
     ]
    },
    {
     "name": "stderr",
     "output_type": "stream",
     "text": [
      "The following generation flags are not valid and may be ignored: ['early_stopping', 'length_penalty']. Set `TRANSFORMERS_VERBOSITY=info` for more details.\n"
     ]
    },
    {
     "name": "stdout",
     "output_type": "stream",
     "text": [
      "Time elapsed: 477.25 seconds\n"
     ]
    },
    {
     "name": "stderr",
     "output_type": "stream",
     "text": [
      "The following generation flags are not valid and may be ignored: ['early_stopping', 'length_penalty']. Set `TRANSFORMERS_VERBOSITY=info` for more details.\n"
     ]
    },
    {
     "name": "stdout",
     "output_type": "stream",
     "text": [
      "Time elapsed: 478.00 seconds\n"
     ]
    },
    {
     "name": "stderr",
     "output_type": "stream",
     "text": [
      "The following generation flags are not valid and may be ignored: ['early_stopping', 'length_penalty']. Set `TRANSFORMERS_VERBOSITY=info` for more details.\n"
     ]
    },
    {
     "name": "stdout",
     "output_type": "stream",
     "text": [
      "Time elapsed: 481.17 seconds\n"
     ]
    },
    {
     "name": "stderr",
     "output_type": "stream",
     "text": [
      "The following generation flags are not valid and may be ignored: ['early_stopping', 'length_penalty']. Set `TRANSFORMERS_VERBOSITY=info` for more details.\n"
     ]
    },
    {
     "name": "stdout",
     "output_type": "stream",
     "text": [
      "Time elapsed: 483.41 seconds\n"
     ]
    },
    {
     "name": "stderr",
     "output_type": "stream",
     "text": [
      "The following generation flags are not valid and may be ignored: ['early_stopping', 'length_penalty']. Set `TRANSFORMERS_VERBOSITY=info` for more details.\n"
     ]
    },
    {
     "name": "stdout",
     "output_type": "stream",
     "text": [
      "Time elapsed: 485.10 seconds\n"
     ]
    },
    {
     "name": "stderr",
     "output_type": "stream",
     "text": [
      "The following generation flags are not valid and may be ignored: ['early_stopping', 'length_penalty']. Set `TRANSFORMERS_VERBOSITY=info` for more details.\n"
     ]
    },
    {
     "name": "stdout",
     "output_type": "stream",
     "text": [
      "Time elapsed: 487.27 seconds\n"
     ]
    },
    {
     "name": "stderr",
     "output_type": "stream",
     "text": [
      "The following generation flags are not valid and may be ignored: ['early_stopping', 'length_penalty']. Set `TRANSFORMERS_VERBOSITY=info` for more details.\n"
     ]
    },
    {
     "name": "stdout",
     "output_type": "stream",
     "text": [
      "Time elapsed: 487.65 seconds\n"
     ]
    },
    {
     "name": "stderr",
     "output_type": "stream",
     "text": [
      "The following generation flags are not valid and may be ignored: ['early_stopping', 'length_penalty']. Set `TRANSFORMERS_VERBOSITY=info` for more details.\n"
     ]
    },
    {
     "name": "stdout",
     "output_type": "stream",
     "text": [
      "Time elapsed: 489.00 seconds\n"
     ]
    },
    {
     "name": "stderr",
     "output_type": "stream",
     "text": [
      "The following generation flags are not valid and may be ignored: ['early_stopping', 'length_penalty']. Set `TRANSFORMERS_VERBOSITY=info` for more details.\n"
     ]
    },
    {
     "name": "stdout",
     "output_type": "stream",
     "text": [
      "Time elapsed: 491.29 seconds\n"
     ]
    },
    {
     "name": "stderr",
     "output_type": "stream",
     "text": [
      "The following generation flags are not valid and may be ignored: ['early_stopping', 'length_penalty']. Set `TRANSFORMERS_VERBOSITY=info` for more details.\n"
     ]
    },
    {
     "name": "stdout",
     "output_type": "stream",
     "text": [
      "Time elapsed: 493.69 seconds\n"
     ]
    },
    {
     "name": "stderr",
     "output_type": "stream",
     "text": [
      "The following generation flags are not valid and may be ignored: ['early_stopping', 'length_penalty']. Set `TRANSFORMERS_VERBOSITY=info` for more details.\n"
     ]
    },
    {
     "name": "stdout",
     "output_type": "stream",
     "text": [
      "Time elapsed: 494.52 seconds\n"
     ]
    },
    {
     "name": "stderr",
     "output_type": "stream",
     "text": [
      "The following generation flags are not valid and may be ignored: ['early_stopping', 'length_penalty']. Set `TRANSFORMERS_VERBOSITY=info` for more details.\n"
     ]
    },
    {
     "name": "stdout",
     "output_type": "stream",
     "text": [
      "Time elapsed: 495.59 seconds\n"
     ]
    },
    {
     "name": "stderr",
     "output_type": "stream",
     "text": [
      "The following generation flags are not valid and may be ignored: ['early_stopping', 'length_penalty']. Set `TRANSFORMERS_VERBOSITY=info` for more details.\n"
     ]
    },
    {
     "name": "stdout",
     "output_type": "stream",
     "text": [
      "Time elapsed: 496.37 seconds\n"
     ]
    },
    {
     "name": "stderr",
     "output_type": "stream",
     "text": [
      "The following generation flags are not valid and may be ignored: ['early_stopping', 'length_penalty']. Set `TRANSFORMERS_VERBOSITY=info` for more details.\n"
     ]
    },
    {
     "name": "stdout",
     "output_type": "stream",
     "text": [
      "Time elapsed: 497.94 seconds\n"
     ]
    },
    {
     "name": "stderr",
     "output_type": "stream",
     "text": [
      "The following generation flags are not valid and may be ignored: ['early_stopping', 'length_penalty']. Set `TRANSFORMERS_VERBOSITY=info` for more details.\n"
     ]
    },
    {
     "name": "stdout",
     "output_type": "stream",
     "text": [
      "Time elapsed: 500.29 seconds\n"
     ]
    },
    {
     "name": "stderr",
     "output_type": "stream",
     "text": [
      "The following generation flags are not valid and may be ignored: ['early_stopping', 'length_penalty']. Set `TRANSFORMERS_VERBOSITY=info` for more details.\n"
     ]
    },
    {
     "name": "stdout",
     "output_type": "stream",
     "text": [
      "Time elapsed: 500.77 seconds\n"
     ]
    },
    {
     "name": "stderr",
     "output_type": "stream",
     "text": [
      "The following generation flags are not valid and may be ignored: ['early_stopping', 'length_penalty']. Set `TRANSFORMERS_VERBOSITY=info` for more details.\n"
     ]
    },
    {
     "name": "stdout",
     "output_type": "stream",
     "text": [
      "Time elapsed: 501.56 seconds\n"
     ]
    },
    {
     "name": "stderr",
     "output_type": "stream",
     "text": [
      "The following generation flags are not valid and may be ignored: ['early_stopping', 'length_penalty']. Set `TRANSFORMERS_VERBOSITY=info` for more details.\n"
     ]
    },
    {
     "name": "stdout",
     "output_type": "stream",
     "text": [
      "Time elapsed: 502.72 seconds\n"
     ]
    },
    {
     "name": "stderr",
     "output_type": "stream",
     "text": [
      "The following generation flags are not valid and may be ignored: ['early_stopping', 'length_penalty']. Set `TRANSFORMERS_VERBOSITY=info` for more details.\n"
     ]
    },
    {
     "name": "stdout",
     "output_type": "stream",
     "text": [
      "Time elapsed: 504.62 seconds\n"
     ]
    },
    {
     "name": "stderr",
     "output_type": "stream",
     "text": [
      "The following generation flags are not valid and may be ignored: ['early_stopping', 'length_penalty']. Set `TRANSFORMERS_VERBOSITY=info` for more details.\n"
     ]
    },
    {
     "name": "stdout",
     "output_type": "stream",
     "text": [
      "Time elapsed: 507.55 seconds\n"
     ]
    },
    {
     "name": "stderr",
     "output_type": "stream",
     "text": [
      "The following generation flags are not valid and may be ignored: ['early_stopping', 'length_penalty']. Set `TRANSFORMERS_VERBOSITY=info` for more details.\n"
     ]
    },
    {
     "name": "stdout",
     "output_type": "stream",
     "text": [
      "Time elapsed: 508.91 seconds\n"
     ]
    },
    {
     "name": "stderr",
     "output_type": "stream",
     "text": [
      "The following generation flags are not valid and may be ignored: ['early_stopping', 'length_penalty']. Set `TRANSFORMERS_VERBOSITY=info` for more details.\n"
     ]
    },
    {
     "name": "stdout",
     "output_type": "stream",
     "text": [
      "Time elapsed: 510.39 seconds\n"
     ]
    },
    {
     "name": "stderr",
     "output_type": "stream",
     "text": [
      "The following generation flags are not valid and may be ignored: ['early_stopping', 'length_penalty']. Set `TRANSFORMERS_VERBOSITY=info` for more details.\n"
     ]
    },
    {
     "name": "stdout",
     "output_type": "stream",
     "text": [
      "Time elapsed: 512.68 seconds\n"
     ]
    },
    {
     "name": "stderr",
     "output_type": "stream",
     "text": [
      "The following generation flags are not valid and may be ignored: ['early_stopping', 'length_penalty']. Set `TRANSFORMERS_VERBOSITY=info` for more details.\n"
     ]
    },
    {
     "name": "stdout",
     "output_type": "stream",
     "text": [
      "Time elapsed: 513.25 seconds\n"
     ]
    },
    {
     "name": "stderr",
     "output_type": "stream",
     "text": [
      "The following generation flags are not valid and may be ignored: ['early_stopping', 'length_penalty']. Set `TRANSFORMERS_VERBOSITY=info` for more details.\n"
     ]
    },
    {
     "name": "stdout",
     "output_type": "stream",
     "text": [
      "Time elapsed: 514.78 seconds\n"
     ]
    },
    {
     "name": "stderr",
     "output_type": "stream",
     "text": [
      "The following generation flags are not valid and may be ignored: ['early_stopping', 'length_penalty']. Set `TRANSFORMERS_VERBOSITY=info` for more details.\n"
     ]
    },
    {
     "name": "stdout",
     "output_type": "stream",
     "text": [
      "Time elapsed: 516.28 seconds\n"
     ]
    },
    {
     "name": "stderr",
     "output_type": "stream",
     "text": [
      "The following generation flags are not valid and may be ignored: ['early_stopping', 'length_penalty']. Set `TRANSFORMERS_VERBOSITY=info` for more details.\n"
     ]
    },
    {
     "name": "stdout",
     "output_type": "stream",
     "text": [
      "Time elapsed: 519.35 seconds\n"
     ]
    },
    {
     "name": "stderr",
     "output_type": "stream",
     "text": [
      "The following generation flags are not valid and may be ignored: ['early_stopping', 'length_penalty']. Set `TRANSFORMERS_VERBOSITY=info` for more details.\n"
     ]
    },
    {
     "name": "stdout",
     "output_type": "stream",
     "text": [
      "Time elapsed: 521.00 seconds\n"
     ]
    },
    {
     "name": "stderr",
     "output_type": "stream",
     "text": [
      "The following generation flags are not valid and may be ignored: ['early_stopping', 'length_penalty']. Set `TRANSFORMERS_VERBOSITY=info` for more details.\n"
     ]
    },
    {
     "name": "stdout",
     "output_type": "stream",
     "text": [
      "Time elapsed: 522.78 seconds\n"
     ]
    },
    {
     "name": "stderr",
     "output_type": "stream",
     "text": [
      "The following generation flags are not valid and may be ignored: ['early_stopping', 'length_penalty']. Set `TRANSFORMERS_VERBOSITY=info` for more details.\n"
     ]
    },
    {
     "name": "stdout",
     "output_type": "stream",
     "text": [
      "Time elapsed: 524.32 seconds\n"
     ]
    },
    {
     "name": "stderr",
     "output_type": "stream",
     "text": [
      "The following generation flags are not valid and may be ignored: ['early_stopping', 'length_penalty']. Set `TRANSFORMERS_VERBOSITY=info` for more details.\n"
     ]
    },
    {
     "name": "stdout",
     "output_type": "stream",
     "text": [
      "Time elapsed: 526.18 seconds\n"
     ]
    },
    {
     "name": "stderr",
     "output_type": "stream",
     "text": [
      "The following generation flags are not valid and may be ignored: ['early_stopping', 'length_penalty']. Set `TRANSFORMERS_VERBOSITY=info` for more details.\n"
     ]
    },
    {
     "name": "stdout",
     "output_type": "stream",
     "text": [
      "Time elapsed: 527.50 seconds\n"
     ]
    },
    {
     "name": "stderr",
     "output_type": "stream",
     "text": [
      "The following generation flags are not valid and may be ignored: ['early_stopping', 'length_penalty']. Set `TRANSFORMERS_VERBOSITY=info` for more details.\n"
     ]
    },
    {
     "name": "stdout",
     "output_type": "stream",
     "text": [
      "Time elapsed: 529.38 seconds\n"
     ]
    },
    {
     "name": "stderr",
     "output_type": "stream",
     "text": [
      "The following generation flags are not valid and may be ignored: ['early_stopping', 'length_penalty']. Set `TRANSFORMERS_VERBOSITY=info` for more details.\n"
     ]
    },
    {
     "name": "stdout",
     "output_type": "stream",
     "text": [
      "Time elapsed: 530.82 seconds\n"
     ]
    },
    {
     "name": "stderr",
     "output_type": "stream",
     "text": [
      "The following generation flags are not valid and may be ignored: ['early_stopping', 'length_penalty']. Set `TRANSFORMERS_VERBOSITY=info` for more details.\n"
     ]
    },
    {
     "name": "stdout",
     "output_type": "stream",
     "text": [
      "Time elapsed: 533.10 seconds\n"
     ]
    },
    {
     "name": "stderr",
     "output_type": "stream",
     "text": [
      "The following generation flags are not valid and may be ignored: ['early_stopping', 'length_penalty']. Set `TRANSFORMERS_VERBOSITY=info` for more details.\n"
     ]
    },
    {
     "name": "stdout",
     "output_type": "stream",
     "text": [
      "Time elapsed: 534.07 seconds\n"
     ]
    },
    {
     "name": "stderr",
     "output_type": "stream",
     "text": [
      "The following generation flags are not valid and may be ignored: ['early_stopping', 'length_penalty']. Set `TRANSFORMERS_VERBOSITY=info` for more details.\n"
     ]
    },
    {
     "name": "stdout",
     "output_type": "stream",
     "text": [
      "Time elapsed: 535.03 seconds\n"
     ]
    },
    {
     "name": "stderr",
     "output_type": "stream",
     "text": [
      "The following generation flags are not valid and may be ignored: ['early_stopping', 'length_penalty']. Set `TRANSFORMERS_VERBOSITY=info` for more details.\n"
     ]
    },
    {
     "name": "stdout",
     "output_type": "stream",
     "text": [
      "Time elapsed: 535.91 seconds\n"
     ]
    },
    {
     "name": "stderr",
     "output_type": "stream",
     "text": [
      "The following generation flags are not valid and may be ignored: ['early_stopping', 'length_penalty']. Set `TRANSFORMERS_VERBOSITY=info` for more details.\n"
     ]
    },
    {
     "name": "stdout",
     "output_type": "stream",
     "text": [
      "Time elapsed: 537.02 seconds\n"
     ]
    },
    {
     "name": "stderr",
     "output_type": "stream",
     "text": [
      "The following generation flags are not valid and may be ignored: ['early_stopping', 'length_penalty']. Set `TRANSFORMERS_VERBOSITY=info` for more details.\n"
     ]
    },
    {
     "name": "stdout",
     "output_type": "stream",
     "text": [
      "Time elapsed: 538.14 seconds\n"
     ]
    },
    {
     "name": "stderr",
     "output_type": "stream",
     "text": [
      "The following generation flags are not valid and may be ignored: ['early_stopping', 'length_penalty']. Set `TRANSFORMERS_VERBOSITY=info` for more details.\n"
     ]
    },
    {
     "name": "stdout",
     "output_type": "stream",
     "text": [
      "Time elapsed: 546.33 seconds\n"
     ]
    },
    {
     "name": "stderr",
     "output_type": "stream",
     "text": [
      "The following generation flags are not valid and may be ignored: ['early_stopping', 'length_penalty']. Set `TRANSFORMERS_VERBOSITY=info` for more details.\n"
     ]
    },
    {
     "name": "stdout",
     "output_type": "stream",
     "text": [
      "Time elapsed: 547.66 seconds\n"
     ]
    },
    {
     "name": "stderr",
     "output_type": "stream",
     "text": [
      "The following generation flags are not valid and may be ignored: ['early_stopping', 'length_penalty']. Set `TRANSFORMERS_VERBOSITY=info` for more details.\n"
     ]
    },
    {
     "name": "stdout",
     "output_type": "stream",
     "text": [
      "Time elapsed: 549.96 seconds\n"
     ]
    },
    {
     "name": "stderr",
     "output_type": "stream",
     "text": [
      "The following generation flags are not valid and may be ignored: ['early_stopping', 'length_penalty']. Set `TRANSFORMERS_VERBOSITY=info` for more details.\n"
     ]
    },
    {
     "name": "stdout",
     "output_type": "stream",
     "text": [
      "Time elapsed: 556.92 seconds\n"
     ]
    },
    {
     "name": "stderr",
     "output_type": "stream",
     "text": [
      "The following generation flags are not valid and may be ignored: ['early_stopping', 'length_penalty']. Set `TRANSFORMERS_VERBOSITY=info` for more details.\n"
     ]
    },
    {
     "name": "stdout",
     "output_type": "stream",
     "text": [
      "Time elapsed: 557.96 seconds\n"
     ]
    },
    {
     "name": "stderr",
     "output_type": "stream",
     "text": [
      "The following generation flags are not valid and may be ignored: ['early_stopping', 'length_penalty']. Set `TRANSFORMERS_VERBOSITY=info` for more details.\n"
     ]
    },
    {
     "name": "stdout",
     "output_type": "stream",
     "text": [
      "Time elapsed: 561.78 seconds\n"
     ]
    },
    {
     "name": "stderr",
     "output_type": "stream",
     "text": [
      "The following generation flags are not valid and may be ignored: ['early_stopping', 'length_penalty']. Set `TRANSFORMERS_VERBOSITY=info` for more details.\n"
     ]
    },
    {
     "name": "stdout",
     "output_type": "stream",
     "text": [
      "Time elapsed: 565.95 seconds\n"
     ]
    },
    {
     "name": "stderr",
     "output_type": "stream",
     "text": [
      "The following generation flags are not valid and may be ignored: ['early_stopping', 'length_penalty']. Set `TRANSFORMERS_VERBOSITY=info` for more details.\n"
     ]
    },
    {
     "name": "stdout",
     "output_type": "stream",
     "text": [
      "Time elapsed: 567.30 seconds\n"
     ]
    },
    {
     "name": "stderr",
     "output_type": "stream",
     "text": [
      "The following generation flags are not valid and may be ignored: ['early_stopping', 'length_penalty']. Set `TRANSFORMERS_VERBOSITY=info` for more details.\n"
     ]
    },
    {
     "name": "stdout",
     "output_type": "stream",
     "text": [
      "Time elapsed: 569.54 seconds\n"
     ]
    },
    {
     "name": "stderr",
     "output_type": "stream",
     "text": [
      "The following generation flags are not valid and may be ignored: ['early_stopping', 'length_penalty']. Set `TRANSFORMERS_VERBOSITY=info` for more details.\n"
     ]
    },
    {
     "name": "stdout",
     "output_type": "stream",
     "text": [
      "Time elapsed: 572.94 seconds\n"
     ]
    },
    {
     "name": "stderr",
     "output_type": "stream",
     "text": [
      "The following generation flags are not valid and may be ignored: ['early_stopping', 'length_penalty']. Set `TRANSFORMERS_VERBOSITY=info` for more details.\n"
     ]
    },
    {
     "name": "stdout",
     "output_type": "stream",
     "text": [
      "Time elapsed: 578.24 seconds\n"
     ]
    },
    {
     "name": "stderr",
     "output_type": "stream",
     "text": [
      "The following generation flags are not valid and may be ignored: ['early_stopping', 'length_penalty']. Set `TRANSFORMERS_VERBOSITY=info` for more details.\n"
     ]
    },
    {
     "name": "stdout",
     "output_type": "stream",
     "text": [
      "Time elapsed: 580.19 seconds\n"
     ]
    },
    {
     "name": "stderr",
     "output_type": "stream",
     "text": [
      "The following generation flags are not valid and may be ignored: ['early_stopping', 'length_penalty']. Set `TRANSFORMERS_VERBOSITY=info` for more details.\n"
     ]
    },
    {
     "name": "stdout",
     "output_type": "stream",
     "text": [
      "Time elapsed: 581.26 seconds\n"
     ]
    },
    {
     "name": "stderr",
     "output_type": "stream",
     "text": [
      "The following generation flags are not valid and may be ignored: ['early_stopping', 'length_penalty']. Set `TRANSFORMERS_VERBOSITY=info` for more details.\n"
     ]
    },
    {
     "name": "stdout",
     "output_type": "stream",
     "text": [
      "Time elapsed: 583.27 seconds\n"
     ]
    },
    {
     "name": "stderr",
     "output_type": "stream",
     "text": [
      "The following generation flags are not valid and may be ignored: ['early_stopping', 'length_penalty']. Set `TRANSFORMERS_VERBOSITY=info` for more details.\n"
     ]
    },
    {
     "name": "stdout",
     "output_type": "stream",
     "text": [
      "Time elapsed: 586.07 seconds\n"
     ]
    },
    {
     "name": "stderr",
     "output_type": "stream",
     "text": [
      "The following generation flags are not valid and may be ignored: ['early_stopping', 'length_penalty']. Set `TRANSFORMERS_VERBOSITY=info` for more details.\n"
     ]
    },
    {
     "name": "stdout",
     "output_type": "stream",
     "text": [
      "Time elapsed: 587.41 seconds\n"
     ]
    },
    {
     "name": "stderr",
     "output_type": "stream",
     "text": [
      "The following generation flags are not valid and may be ignored: ['early_stopping', 'length_penalty']. Set `TRANSFORMERS_VERBOSITY=info` for more details.\n"
     ]
    },
    {
     "name": "stdout",
     "output_type": "stream",
     "text": [
      "Time elapsed: 589.67 seconds\n"
     ]
    },
    {
     "name": "stderr",
     "output_type": "stream",
     "text": [
      "The following generation flags are not valid and may be ignored: ['early_stopping', 'length_penalty']. Set `TRANSFORMERS_VERBOSITY=info` for more details.\n"
     ]
    },
    {
     "name": "stdout",
     "output_type": "stream",
     "text": [
      "Time elapsed: 590.68 seconds\n"
     ]
    },
    {
     "name": "stderr",
     "output_type": "stream",
     "text": [
      "The following generation flags are not valid and may be ignored: ['early_stopping', 'length_penalty']. Set `TRANSFORMERS_VERBOSITY=info` for more details.\n"
     ]
    },
    {
     "name": "stdout",
     "output_type": "stream",
     "text": [
      "Time elapsed: 591.75 seconds\n"
     ]
    },
    {
     "name": "stderr",
     "output_type": "stream",
     "text": [
      "The following generation flags are not valid and may be ignored: ['early_stopping', 'length_penalty']. Set `TRANSFORMERS_VERBOSITY=info` for more details.\n"
     ]
    },
    {
     "name": "stdout",
     "output_type": "stream",
     "text": [
      "Time elapsed: 593.94 seconds\n"
     ]
    },
    {
     "name": "stderr",
     "output_type": "stream",
     "text": [
      "The following generation flags are not valid and may be ignored: ['early_stopping', 'length_penalty']. Set `TRANSFORMERS_VERBOSITY=info` for more details.\n"
     ]
    },
    {
     "name": "stdout",
     "output_type": "stream",
     "text": [
      "Time elapsed: 595.54 seconds\n"
     ]
    },
    {
     "name": "stderr",
     "output_type": "stream",
     "text": [
      "The following generation flags are not valid and may be ignored: ['early_stopping', 'length_penalty']. Set `TRANSFORMERS_VERBOSITY=info` for more details.\n"
     ]
    },
    {
     "name": "stdout",
     "output_type": "stream",
     "text": [
      "Time elapsed: 596.57 seconds\n"
     ]
    },
    {
     "name": "stderr",
     "output_type": "stream",
     "text": [
      "The following generation flags are not valid and may be ignored: ['early_stopping', 'length_penalty']. Set `TRANSFORMERS_VERBOSITY=info` for more details.\n"
     ]
    },
    {
     "name": "stdout",
     "output_type": "stream",
     "text": [
      "Time elapsed: 598.33 seconds\n"
     ]
    },
    {
     "name": "stderr",
     "output_type": "stream",
     "text": [
      "The following generation flags are not valid and may be ignored: ['early_stopping', 'length_penalty']. Set `TRANSFORMERS_VERBOSITY=info` for more details.\n"
     ]
    },
    {
     "name": "stdout",
     "output_type": "stream",
     "text": [
      "Time elapsed: 599.00 seconds\n"
     ]
    },
    {
     "name": "stderr",
     "output_type": "stream",
     "text": [
      "The following generation flags are not valid and may be ignored: ['early_stopping', 'length_penalty']. Set `TRANSFORMERS_VERBOSITY=info` for more details.\n"
     ]
    },
    {
     "name": "stdout",
     "output_type": "stream",
     "text": [
      "Time elapsed: 600.34 seconds\n"
     ]
    },
    {
     "name": "stderr",
     "output_type": "stream",
     "text": [
      "The following generation flags are not valid and may be ignored: ['early_stopping', 'length_penalty']. Set `TRANSFORMERS_VERBOSITY=info` for more details.\n"
     ]
    },
    {
     "name": "stdout",
     "output_type": "stream",
     "text": [
      "Time elapsed: 601.32 seconds\n"
     ]
    },
    {
     "name": "stderr",
     "output_type": "stream",
     "text": [
      "The following generation flags are not valid and may be ignored: ['early_stopping', 'length_penalty']. Set `TRANSFORMERS_VERBOSITY=info` for more details.\n"
     ]
    },
    {
     "name": "stdout",
     "output_type": "stream",
     "text": [
      "Time elapsed: 602.25 seconds\n"
     ]
    },
    {
     "name": "stderr",
     "output_type": "stream",
     "text": [
      "The following generation flags are not valid and may be ignored: ['early_stopping', 'length_penalty']. Set `TRANSFORMERS_VERBOSITY=info` for more details.\n"
     ]
    },
    {
     "name": "stdout",
     "output_type": "stream",
     "text": [
      "Time elapsed: 603.57 seconds\n"
     ]
    },
    {
     "name": "stderr",
     "output_type": "stream",
     "text": [
      "The following generation flags are not valid and may be ignored: ['early_stopping', 'length_penalty']. Set `TRANSFORMERS_VERBOSITY=info` for more details.\n"
     ]
    },
    {
     "name": "stdout",
     "output_type": "stream",
     "text": [
      "Time elapsed: 605.71 seconds\n"
     ]
    },
    {
     "name": "stderr",
     "output_type": "stream",
     "text": [
      "The following generation flags are not valid and may be ignored: ['early_stopping', 'length_penalty']. Set `TRANSFORMERS_VERBOSITY=info` for more details.\n"
     ]
    },
    {
     "name": "stdout",
     "output_type": "stream",
     "text": [
      "Time elapsed: 607.23 seconds\n"
     ]
    },
    {
     "name": "stderr",
     "output_type": "stream",
     "text": [
      "The following generation flags are not valid and may be ignored: ['early_stopping', 'length_penalty']. Set `TRANSFORMERS_VERBOSITY=info` for more details.\n"
     ]
    },
    {
     "name": "stdout",
     "output_type": "stream",
     "text": [
      "Time elapsed: 608.57 seconds\n"
     ]
    },
    {
     "name": "stderr",
     "output_type": "stream",
     "text": [
      "The following generation flags are not valid and may be ignored: ['early_stopping', 'length_penalty']. Set `TRANSFORMERS_VERBOSITY=info` for more details.\n"
     ]
    },
    {
     "name": "stdout",
     "output_type": "stream",
     "text": [
      "Time elapsed: 610.88 seconds\n"
     ]
    },
    {
     "name": "stderr",
     "output_type": "stream",
     "text": [
      "The following generation flags are not valid and may be ignored: ['early_stopping', 'length_penalty']. Set `TRANSFORMERS_VERBOSITY=info` for more details.\n"
     ]
    },
    {
     "name": "stdout",
     "output_type": "stream",
     "text": [
      "Time elapsed: 611.85 seconds\n"
     ]
    },
    {
     "name": "stderr",
     "output_type": "stream",
     "text": [
      "Token indices sequence length is longer than the specified maximum sequence length for this model (1084 > 1024). Running this sequence through the model will result in indexing errors\n",
      "The following generation flags are not valid and may be ignored: ['early_stopping', 'length_penalty']. Set `TRANSFORMERS_VERBOSITY=info` for more details.\n"
     ]
    },
    {
     "name": "stdout",
     "output_type": "stream",
     "text": [
      "Time elapsed: 612.45 seconds\n"
     ]
    },
    {
     "ename": "IndexError",
     "evalue": "index out of range in self",
     "output_type": "error",
     "traceback": [
      "\u001b[31m---------------------------------------------------------------------------\u001b[39m",
      "\u001b[31mIndexError\u001b[39m                                Traceback (most recent call last)",
      "\u001b[36mCell\u001b[39m\u001b[36m \u001b[39m\u001b[32mIn[11]\u001b[39m\u001b[32m, line 21\u001b[39m\n\u001b[32m     18\u001b[39m \u001b[38;5;66;03m# Ensure max_len is shorter than input_len\u001b[39;00m\n\u001b[32m     19\u001b[39m max_len = \u001b[38;5;28mmin\u001b[39m(max_len, input_len - \u001b[32m1\u001b[39m)\n\u001b[32m---> \u001b[39m\u001b[32m21\u001b[39m summary = \u001b[43msummarizer\u001b[49m\u001b[43m(\u001b[49m\u001b[43mpara\u001b[49m\u001b[43m,\u001b[49m\u001b[43m \u001b[49m\u001b[43mmax_length\u001b[49m\u001b[43m=\u001b[49m\u001b[43mmax_len\u001b[49m\u001b[43m,\u001b[49m\u001b[43m \u001b[49m\u001b[43mmin_length\u001b[49m\u001b[43m=\u001b[49m\u001b[43mmin_len\u001b[49m\u001b[43m,\u001b[49m\u001b[43m \u001b[49m\u001b[43mnum_beams\u001b[49m\u001b[43m=\u001b[49m\u001b[32;43m1\u001b[39;49m\u001b[43m,\u001b[49m\u001b[43m \u001b[49m\u001b[43mdo_sample\u001b[49m\u001b[43m=\u001b[49m\u001b[38;5;28;43;01mFalse\u001b[39;49;00m\u001b[43m)\u001b[49m[\u001b[32m0\u001b[39m][\u001b[33m'\u001b[39m\u001b[33msummary_text\u001b[39m\u001b[33m'\u001b[39m]\n\u001b[32m     22\u001b[39m answers.append(summary)\n\u001b[32m     23\u001b[39m datas.append(para)\n",
      "\u001b[36mFile \u001b[39m\u001b[32md:\\free_python\\.venv\\Lib\\site-packages\\transformers\\pipelines\\text2text_generation.py:303\u001b[39m, in \u001b[36mSummarizationPipeline.__call__\u001b[39m\u001b[34m(self, *args, **kwargs)\u001b[39m\n\u001b[32m    279\u001b[39m \u001b[38;5;28;01mdef\u001b[39;00m\u001b[38;5;250m \u001b[39m\u001b[34m__call__\u001b[39m(\u001b[38;5;28mself\u001b[39m, *args, **kwargs):\n\u001b[32m    280\u001b[39m \u001b[38;5;250m    \u001b[39m\u001b[33mr\u001b[39m\u001b[33;03m\"\"\"\u001b[39;00m\n\u001b[32m    281\u001b[39m \u001b[33;03m    Summarize the text(s) given as inputs.\u001b[39;00m\n\u001b[32m    282\u001b[39m \n\u001b[32m   (...)\u001b[39m\u001b[32m    301\u001b[39m \u001b[33;03m          ids of the summary.\u001b[39;00m\n\u001b[32m    302\u001b[39m \u001b[33;03m    \"\"\"\u001b[39;00m\n\u001b[32m--> \u001b[39m\u001b[32m303\u001b[39m     \u001b[38;5;28;01mreturn\u001b[39;00m \u001b[38;5;28;43msuper\u001b[39;49m\u001b[43m(\u001b[49m\u001b[43m)\u001b[49m\u001b[43m.\u001b[49m\u001b[34;43m__call__\u001b[39;49m\u001b[43m(\u001b[49m\u001b[43m*\u001b[49m\u001b[43margs\u001b[49m\u001b[43m,\u001b[49m\u001b[43m \u001b[49m\u001b[43m*\u001b[49m\u001b[43m*\u001b[49m\u001b[43mkwargs\u001b[49m\u001b[43m)\u001b[49m\n",
      "\u001b[36mFile \u001b[39m\u001b[32md:\\free_python\\.venv\\Lib\\site-packages\\transformers\\pipelines\\text2text_generation.py:191\u001b[39m, in \u001b[36mText2TextGenerationPipeline.__call__\u001b[39m\u001b[34m(self, *args, **kwargs)\u001b[39m\n\u001b[32m    162\u001b[39m \u001b[38;5;28;01mdef\u001b[39;00m\u001b[38;5;250m \u001b[39m\u001b[34m__call__\u001b[39m(\u001b[38;5;28mself\u001b[39m, *args: Union[\u001b[38;5;28mstr\u001b[39m, \u001b[38;5;28mlist\u001b[39m[\u001b[38;5;28mstr\u001b[39m]], **kwargs: Any) -> \u001b[38;5;28mlist\u001b[39m[\u001b[38;5;28mdict\u001b[39m[\u001b[38;5;28mstr\u001b[39m, \u001b[38;5;28mstr\u001b[39m]]:\n\u001b[32m    163\u001b[39m \u001b[38;5;250m    \u001b[39m\u001b[33mr\u001b[39m\u001b[33;03m\"\"\"\u001b[39;00m\n\u001b[32m    164\u001b[39m \u001b[33;03m    Generate the output text(s) using text(s) given as inputs.\u001b[39;00m\n\u001b[32m    165\u001b[39m \n\u001b[32m   (...)\u001b[39m\u001b[32m    188\u001b[39m \u001b[33;03m          ids of the generated text.\u001b[39;00m\n\u001b[32m    189\u001b[39m \u001b[33;03m    \"\"\"\u001b[39;00m\n\u001b[32m--> \u001b[39m\u001b[32m191\u001b[39m     result = \u001b[38;5;28;43msuper\u001b[39;49m\u001b[43m(\u001b[49m\u001b[43m)\u001b[49m\u001b[43m.\u001b[49m\u001b[34;43m__call__\u001b[39;49m\u001b[43m(\u001b[49m\u001b[43m*\u001b[49m\u001b[43margs\u001b[49m\u001b[43m,\u001b[49m\u001b[43m \u001b[49m\u001b[43m*\u001b[49m\u001b[43m*\u001b[49m\u001b[43mkwargs\u001b[49m\u001b[43m)\u001b[49m\n\u001b[32m    192\u001b[39m     \u001b[38;5;28;01mif\u001b[39;00m (\n\u001b[32m    193\u001b[39m         \u001b[38;5;28misinstance\u001b[39m(args[\u001b[32m0\u001b[39m], \u001b[38;5;28mlist\u001b[39m)\n\u001b[32m    194\u001b[39m         \u001b[38;5;129;01mand\u001b[39;00m \u001b[38;5;28mall\u001b[39m(\u001b[38;5;28misinstance\u001b[39m(el, \u001b[38;5;28mstr\u001b[39m) \u001b[38;5;28;01mfor\u001b[39;00m el \u001b[38;5;129;01min\u001b[39;00m args[\u001b[32m0\u001b[39m])\n\u001b[32m    195\u001b[39m         \u001b[38;5;129;01mand\u001b[39;00m \u001b[38;5;28mall\u001b[39m(\u001b[38;5;28mlen\u001b[39m(res) == \u001b[32m1\u001b[39m \u001b[38;5;28;01mfor\u001b[39;00m res \u001b[38;5;129;01min\u001b[39;00m result)\n\u001b[32m    196\u001b[39m     ):\n\u001b[32m    197\u001b[39m         \u001b[38;5;28;01mreturn\u001b[39;00m [res[\u001b[32m0\u001b[39m] \u001b[38;5;28;01mfor\u001b[39;00m res \u001b[38;5;129;01min\u001b[39;00m result]\n",
      "\u001b[36mFile \u001b[39m\u001b[32md:\\free_python\\.venv\\Lib\\site-packages\\transformers\\pipelines\\base.py:1458\u001b[39m, in \u001b[36mPipeline.__call__\u001b[39m\u001b[34m(self, inputs, num_workers, batch_size, *args, **kwargs)\u001b[39m\n\u001b[32m   1450\u001b[39m     \u001b[38;5;28;01mreturn\u001b[39;00m \u001b[38;5;28mnext\u001b[39m(\n\u001b[32m   1451\u001b[39m         \u001b[38;5;28miter\u001b[39m(\n\u001b[32m   1452\u001b[39m             \u001b[38;5;28mself\u001b[39m.get_iterator(\n\u001b[32m   (...)\u001b[39m\u001b[32m   1455\u001b[39m         )\n\u001b[32m   1456\u001b[39m     )\n\u001b[32m   1457\u001b[39m \u001b[38;5;28;01melse\u001b[39;00m:\n\u001b[32m-> \u001b[39m\u001b[32m1458\u001b[39m     \u001b[38;5;28;01mreturn\u001b[39;00m \u001b[38;5;28;43mself\u001b[39;49m\u001b[43m.\u001b[49m\u001b[43mrun_single\u001b[49m\u001b[43m(\u001b[49m\u001b[43minputs\u001b[49m\u001b[43m,\u001b[49m\u001b[43m \u001b[49m\u001b[43mpreprocess_params\u001b[49m\u001b[43m,\u001b[49m\u001b[43m \u001b[49m\u001b[43mforward_params\u001b[49m\u001b[43m,\u001b[49m\u001b[43m \u001b[49m\u001b[43mpostprocess_params\u001b[49m\u001b[43m)\u001b[49m\n",
      "\u001b[36mFile \u001b[39m\u001b[32md:\\free_python\\.venv\\Lib\\site-packages\\transformers\\pipelines\\base.py:1465\u001b[39m, in \u001b[36mPipeline.run_single\u001b[39m\u001b[34m(self, inputs, preprocess_params, forward_params, postprocess_params)\u001b[39m\n\u001b[32m   1463\u001b[39m \u001b[38;5;28;01mdef\u001b[39;00m\u001b[38;5;250m \u001b[39m\u001b[34mrun_single\u001b[39m(\u001b[38;5;28mself\u001b[39m, inputs, preprocess_params, forward_params, postprocess_params):\n\u001b[32m   1464\u001b[39m     model_inputs = \u001b[38;5;28mself\u001b[39m.preprocess(inputs, **preprocess_params)\n\u001b[32m-> \u001b[39m\u001b[32m1465\u001b[39m     model_outputs = \u001b[38;5;28;43mself\u001b[39;49m\u001b[43m.\u001b[49m\u001b[43mforward\u001b[49m\u001b[43m(\u001b[49m\u001b[43mmodel_inputs\u001b[49m\u001b[43m,\u001b[49m\u001b[43m \u001b[49m\u001b[43m*\u001b[49m\u001b[43m*\u001b[49m\u001b[43mforward_params\u001b[49m\u001b[43m)\u001b[49m\n\u001b[32m   1466\u001b[39m     outputs = \u001b[38;5;28mself\u001b[39m.postprocess(model_outputs, **postprocess_params)\n\u001b[32m   1467\u001b[39m     \u001b[38;5;28;01mreturn\u001b[39;00m outputs\n",
      "\u001b[36mFile \u001b[39m\u001b[32md:\\free_python\\.venv\\Lib\\site-packages\\transformers\\pipelines\\base.py:1365\u001b[39m, in \u001b[36mPipeline.forward\u001b[39m\u001b[34m(self, model_inputs, **forward_params)\u001b[39m\n\u001b[32m   1363\u001b[39m     \u001b[38;5;28;01mwith\u001b[39;00m inference_context():\n\u001b[32m   1364\u001b[39m         model_inputs = \u001b[38;5;28mself\u001b[39m._ensure_tensor_on_device(model_inputs, device=\u001b[38;5;28mself\u001b[39m.device)\n\u001b[32m-> \u001b[39m\u001b[32m1365\u001b[39m         model_outputs = \u001b[38;5;28;43mself\u001b[39;49m\u001b[43m.\u001b[49m\u001b[43m_forward\u001b[49m\u001b[43m(\u001b[49m\u001b[43mmodel_inputs\u001b[49m\u001b[43m,\u001b[49m\u001b[43m \u001b[49m\u001b[43m*\u001b[49m\u001b[43m*\u001b[49m\u001b[43mforward_params\u001b[49m\u001b[43m)\u001b[49m\n\u001b[32m   1366\u001b[39m         model_outputs = \u001b[38;5;28mself\u001b[39m._ensure_tensor_on_device(model_outputs, device=torch.device(\u001b[33m\"\u001b[39m\u001b[33mcpu\u001b[39m\u001b[33m\"\u001b[39m))\n\u001b[32m   1367\u001b[39m \u001b[38;5;28;01melse\u001b[39;00m:\n",
      "\u001b[36mFile \u001b[39m\u001b[32md:\\free_python\\.venv\\Lib\\site-packages\\transformers\\pipelines\\text2text_generation.py:220\u001b[39m, in \u001b[36mText2TextGenerationPipeline._forward\u001b[39m\u001b[34m(self, model_inputs, **generate_kwargs)\u001b[39m\n\u001b[32m    217\u001b[39m \u001b[38;5;28;01mif\u001b[39;00m \u001b[33m\"\u001b[39m\u001b[33mgeneration_config\u001b[39m\u001b[33m\"\u001b[39m \u001b[38;5;129;01mnot\u001b[39;00m \u001b[38;5;129;01min\u001b[39;00m generate_kwargs:\n\u001b[32m    218\u001b[39m     generate_kwargs[\u001b[33m\"\u001b[39m\u001b[33mgeneration_config\u001b[39m\u001b[33m\"\u001b[39m] = \u001b[38;5;28mself\u001b[39m.generation_config\n\u001b[32m--> \u001b[39m\u001b[32m220\u001b[39m output_ids = \u001b[38;5;28;43mself\u001b[39;49m\u001b[43m.\u001b[49m\u001b[43mmodel\u001b[49m\u001b[43m.\u001b[49m\u001b[43mgenerate\u001b[49m\u001b[43m(\u001b[49m\u001b[43m*\u001b[49m\u001b[43m*\u001b[49m\u001b[43mmodel_inputs\u001b[49m\u001b[43m,\u001b[49m\u001b[43m \u001b[49m\u001b[43m*\u001b[49m\u001b[43m*\u001b[49m\u001b[43mgenerate_kwargs\u001b[49m\u001b[43m)\u001b[49m\n\u001b[32m    221\u001b[39m out_b = output_ids.shape[\u001b[32m0\u001b[39m]\n\u001b[32m    222\u001b[39m \u001b[38;5;28;01mif\u001b[39;00m \u001b[38;5;28mself\u001b[39m.framework == \u001b[33m\"\u001b[39m\u001b[33mpt\u001b[39m\u001b[33m\"\u001b[39m:\n",
      "\u001b[36mFile \u001b[39m\u001b[32md:\\free_python\\.venv\\Lib\\site-packages\\torch\\utils\\_contextlib.py:116\u001b[39m, in \u001b[36mcontext_decorator.<locals>.decorate_context\u001b[39m\u001b[34m(*args, **kwargs)\u001b[39m\n\u001b[32m    113\u001b[39m \u001b[38;5;129m@functools\u001b[39m.wraps(func)\n\u001b[32m    114\u001b[39m \u001b[38;5;28;01mdef\u001b[39;00m\u001b[38;5;250m \u001b[39m\u001b[34mdecorate_context\u001b[39m(*args, **kwargs):\n\u001b[32m    115\u001b[39m     \u001b[38;5;28;01mwith\u001b[39;00m ctx_factory():\n\u001b[32m--> \u001b[39m\u001b[32m116\u001b[39m         \u001b[38;5;28;01mreturn\u001b[39;00m \u001b[43mfunc\u001b[49m\u001b[43m(\u001b[49m\u001b[43m*\u001b[49m\u001b[43margs\u001b[49m\u001b[43m,\u001b[49m\u001b[43m \u001b[49m\u001b[43m*\u001b[49m\u001b[43m*\u001b[49m\u001b[43mkwargs\u001b[49m\u001b[43m)\u001b[49m\n",
      "\u001b[36mFile \u001b[39m\u001b[32md:\\free_python\\.venv\\Lib\\site-packages\\transformers\\generation\\utils.py:2438\u001b[39m, in \u001b[36mGenerationMixin.generate\u001b[39m\u001b[34m(self, inputs, generation_config, logits_processor, stopping_criteria, prefix_allowed_tokens_fn, synced_gpus, assistant_model, streamer, negative_prompt_ids, negative_prompt_attention_mask, use_model_defaults, custom_generate, **kwargs)\u001b[39m\n\u001b[32m   2434\u001b[39m         \u001b[38;5;28;01mraise\u001b[39;00m \u001b[38;5;167;01mValueError\u001b[39;00m(\u001b[33m\"\u001b[39m\u001b[33m`attention_mask` passed to `generate` must be 2D.\u001b[39m\u001b[33m\"\u001b[39m)\n\u001b[32m   2436\u001b[39m \u001b[38;5;28;01mif\u001b[39;00m \u001b[38;5;28mself\u001b[39m.config.is_encoder_decoder \u001b[38;5;129;01mand\u001b[39;00m \u001b[33m\"\u001b[39m\u001b[33mencoder_outputs\u001b[39m\u001b[33m\"\u001b[39m \u001b[38;5;129;01mnot\u001b[39;00m \u001b[38;5;129;01min\u001b[39;00m model_kwargs:\n\u001b[32m   2437\u001b[39m     \u001b[38;5;66;03m# if model is encoder decoder encoder_outputs are created and added to `model_kwargs`\u001b[39;00m\n\u001b[32m-> \u001b[39m\u001b[32m2438\u001b[39m     model_kwargs = \u001b[38;5;28;43mself\u001b[39;49m\u001b[43m.\u001b[49m\u001b[43m_prepare_encoder_decoder_kwargs_for_generation\u001b[49m\u001b[43m(\u001b[49m\n\u001b[32m   2439\u001b[39m \u001b[43m        \u001b[49m\u001b[43minputs_tensor\u001b[49m\u001b[43m,\u001b[49m\u001b[43m \u001b[49m\u001b[43mmodel_kwargs\u001b[49m\u001b[43m,\u001b[49m\u001b[43m \u001b[49m\u001b[43mmodel_input_name\u001b[49m\u001b[43m,\u001b[49m\u001b[43m \u001b[49m\u001b[43mgeneration_config\u001b[49m\n\u001b[32m   2440\u001b[39m \u001b[43m    \u001b[49m\u001b[43m)\u001b[49m\n\u001b[32m   2442\u001b[39m \u001b[38;5;66;03m# 5. Prepare `input_ids` which will be used for auto-regressive generation\u001b[39;00m\n\u001b[32m   2443\u001b[39m \u001b[38;5;28;01mif\u001b[39;00m \u001b[38;5;28mself\u001b[39m.config.is_encoder_decoder:\n",
      "\u001b[36mFile \u001b[39m\u001b[32md:\\free_python\\.venv\\Lib\\site-packages\\transformers\\generation\\utils.py:878\u001b[39m, in \u001b[36mGenerationMixin._prepare_encoder_decoder_kwargs_for_generation\u001b[39m\u001b[34m(self, inputs_tensor, model_kwargs, model_input_name, generation_config)\u001b[39m\n\u001b[32m    876\u001b[39m encoder_kwargs[\u001b[33m\"\u001b[39m\u001b[33mreturn_dict\u001b[39m\u001b[33m\"\u001b[39m] = \u001b[38;5;28;01mTrue\u001b[39;00m\n\u001b[32m    877\u001b[39m encoder_kwargs[model_input_name] = inputs_tensor\n\u001b[32m--> \u001b[39m\u001b[32m878\u001b[39m model_kwargs[\u001b[33m\"\u001b[39m\u001b[33mencoder_outputs\u001b[39m\u001b[33m\"\u001b[39m]: ModelOutput = \u001b[43mencoder\u001b[49m\u001b[43m(\u001b[49m\u001b[43m*\u001b[49m\u001b[43m*\u001b[49m\u001b[43mencoder_kwargs\u001b[49m\u001b[43m)\u001b[49m  \u001b[38;5;66;03m# type: ignore\u001b[39;00m\n\u001b[32m    880\u001b[39m \u001b[38;5;28;01mreturn\u001b[39;00m model_kwargs\n",
      "\u001b[36mFile \u001b[39m\u001b[32md:\\free_python\\.venv\\Lib\\site-packages\\torch\\nn\\modules\\module.py:1751\u001b[39m, in \u001b[36mModule._wrapped_call_impl\u001b[39m\u001b[34m(self, *args, **kwargs)\u001b[39m\n\u001b[32m   1749\u001b[39m     \u001b[38;5;28;01mreturn\u001b[39;00m \u001b[38;5;28mself\u001b[39m._compiled_call_impl(*args, **kwargs)  \u001b[38;5;66;03m# type: ignore[misc]\u001b[39;00m\n\u001b[32m   1750\u001b[39m \u001b[38;5;28;01melse\u001b[39;00m:\n\u001b[32m-> \u001b[39m\u001b[32m1751\u001b[39m     \u001b[38;5;28;01mreturn\u001b[39;00m \u001b[38;5;28;43mself\u001b[39;49m\u001b[43m.\u001b[49m\u001b[43m_call_impl\u001b[49m\u001b[43m(\u001b[49m\u001b[43m*\u001b[49m\u001b[43margs\u001b[49m\u001b[43m,\u001b[49m\u001b[43m \u001b[49m\u001b[43m*\u001b[49m\u001b[43m*\u001b[49m\u001b[43mkwargs\u001b[49m\u001b[43m)\u001b[49m\n",
      "\u001b[36mFile \u001b[39m\u001b[32md:\\free_python\\.venv\\Lib\\site-packages\\torch\\nn\\modules\\module.py:1762\u001b[39m, in \u001b[36mModule._call_impl\u001b[39m\u001b[34m(self, *args, **kwargs)\u001b[39m\n\u001b[32m   1757\u001b[39m \u001b[38;5;66;03m# If we don't have any hooks, we want to skip the rest of the logic in\u001b[39;00m\n\u001b[32m   1758\u001b[39m \u001b[38;5;66;03m# this function, and just call forward.\u001b[39;00m\n\u001b[32m   1759\u001b[39m \u001b[38;5;28;01mif\u001b[39;00m \u001b[38;5;129;01mnot\u001b[39;00m (\u001b[38;5;28mself\u001b[39m._backward_hooks \u001b[38;5;129;01mor\u001b[39;00m \u001b[38;5;28mself\u001b[39m._backward_pre_hooks \u001b[38;5;129;01mor\u001b[39;00m \u001b[38;5;28mself\u001b[39m._forward_hooks \u001b[38;5;129;01mor\u001b[39;00m \u001b[38;5;28mself\u001b[39m._forward_pre_hooks\n\u001b[32m   1760\u001b[39m         \u001b[38;5;129;01mor\u001b[39;00m _global_backward_pre_hooks \u001b[38;5;129;01mor\u001b[39;00m _global_backward_hooks\n\u001b[32m   1761\u001b[39m         \u001b[38;5;129;01mor\u001b[39;00m _global_forward_hooks \u001b[38;5;129;01mor\u001b[39;00m _global_forward_pre_hooks):\n\u001b[32m-> \u001b[39m\u001b[32m1762\u001b[39m     \u001b[38;5;28;01mreturn\u001b[39;00m \u001b[43mforward_call\u001b[49m\u001b[43m(\u001b[49m\u001b[43m*\u001b[49m\u001b[43margs\u001b[49m\u001b[43m,\u001b[49m\u001b[43m \u001b[49m\u001b[43m*\u001b[49m\u001b[43m*\u001b[49m\u001b[43mkwargs\u001b[49m\u001b[43m)\u001b[49m\n\u001b[32m   1764\u001b[39m result = \u001b[38;5;28;01mNone\u001b[39;00m\n\u001b[32m   1765\u001b[39m called_always_called_hooks = \u001b[38;5;28mset\u001b[39m()\n",
      "\u001b[36mFile \u001b[39m\u001b[32md:\\free_python\\.venv\\Lib\\site-packages\\transformers\\models\\bart\\modeling_bart.py:833\u001b[39m, in \u001b[36mBartEncoder.forward\u001b[39m\u001b[34m(self, input_ids, attention_mask, head_mask, inputs_embeds, output_attentions, output_hidden_states, return_dict)\u001b[39m\n\u001b[32m    830\u001b[39m \u001b[38;5;28;01mif\u001b[39;00m inputs_embeds \u001b[38;5;129;01mis\u001b[39;00m \u001b[38;5;28;01mNone\u001b[39;00m:\n\u001b[32m    831\u001b[39m     inputs_embeds = \u001b[38;5;28mself\u001b[39m.embed_tokens(input_ids)\n\u001b[32m--> \u001b[39m\u001b[32m833\u001b[39m embed_pos = \u001b[38;5;28;43mself\u001b[39;49m\u001b[43m.\u001b[49m\u001b[43membed_positions\u001b[49m\u001b[43m(\u001b[49m\u001b[38;5;28;43minput\u001b[39;49m\u001b[43m)\u001b[49m\n\u001b[32m    834\u001b[39m embed_pos = embed_pos.to(inputs_embeds.device)\n\u001b[32m    836\u001b[39m hidden_states = inputs_embeds + embed_pos\n",
      "\u001b[36mFile \u001b[39m\u001b[32md:\\free_python\\.venv\\Lib\\site-packages\\torch\\nn\\modules\\module.py:1751\u001b[39m, in \u001b[36mModule._wrapped_call_impl\u001b[39m\u001b[34m(self, *args, **kwargs)\u001b[39m\n\u001b[32m   1749\u001b[39m     \u001b[38;5;28;01mreturn\u001b[39;00m \u001b[38;5;28mself\u001b[39m._compiled_call_impl(*args, **kwargs)  \u001b[38;5;66;03m# type: ignore[misc]\u001b[39;00m\n\u001b[32m   1750\u001b[39m \u001b[38;5;28;01melse\u001b[39;00m:\n\u001b[32m-> \u001b[39m\u001b[32m1751\u001b[39m     \u001b[38;5;28;01mreturn\u001b[39;00m \u001b[38;5;28;43mself\u001b[39;49m\u001b[43m.\u001b[49m\u001b[43m_call_impl\u001b[49m\u001b[43m(\u001b[49m\u001b[43m*\u001b[49m\u001b[43margs\u001b[49m\u001b[43m,\u001b[49m\u001b[43m \u001b[49m\u001b[43m*\u001b[49m\u001b[43m*\u001b[49m\u001b[43mkwargs\u001b[49m\u001b[43m)\u001b[49m\n",
      "\u001b[36mFile \u001b[39m\u001b[32md:\\free_python\\.venv\\Lib\\site-packages\\torch\\nn\\modules\\module.py:1762\u001b[39m, in \u001b[36mModule._call_impl\u001b[39m\u001b[34m(self, *args, **kwargs)\u001b[39m\n\u001b[32m   1757\u001b[39m \u001b[38;5;66;03m# If we don't have any hooks, we want to skip the rest of the logic in\u001b[39;00m\n\u001b[32m   1758\u001b[39m \u001b[38;5;66;03m# this function, and just call forward.\u001b[39;00m\n\u001b[32m   1759\u001b[39m \u001b[38;5;28;01mif\u001b[39;00m \u001b[38;5;129;01mnot\u001b[39;00m (\u001b[38;5;28mself\u001b[39m._backward_hooks \u001b[38;5;129;01mor\u001b[39;00m \u001b[38;5;28mself\u001b[39m._backward_pre_hooks \u001b[38;5;129;01mor\u001b[39;00m \u001b[38;5;28mself\u001b[39m._forward_hooks \u001b[38;5;129;01mor\u001b[39;00m \u001b[38;5;28mself\u001b[39m._forward_pre_hooks\n\u001b[32m   1760\u001b[39m         \u001b[38;5;129;01mor\u001b[39;00m _global_backward_pre_hooks \u001b[38;5;129;01mor\u001b[39;00m _global_backward_hooks\n\u001b[32m   1761\u001b[39m         \u001b[38;5;129;01mor\u001b[39;00m _global_forward_hooks \u001b[38;5;129;01mor\u001b[39;00m _global_forward_pre_hooks):\n\u001b[32m-> \u001b[39m\u001b[32m1762\u001b[39m     \u001b[38;5;28;01mreturn\u001b[39;00m \u001b[43mforward_call\u001b[49m\u001b[43m(\u001b[49m\u001b[43m*\u001b[49m\u001b[43margs\u001b[49m\u001b[43m,\u001b[49m\u001b[43m \u001b[49m\u001b[43m*\u001b[49m\u001b[43m*\u001b[49m\u001b[43mkwargs\u001b[49m\u001b[43m)\u001b[49m\n\u001b[32m   1764\u001b[39m result = \u001b[38;5;28;01mNone\u001b[39;00m\n\u001b[32m   1765\u001b[39m called_always_called_hooks = \u001b[38;5;28mset\u001b[39m()\n",
      "\u001b[36mFile \u001b[39m\u001b[32md:\\free_python\\.venv\\Lib\\site-packages\\transformers\\models\\bart\\modeling_bart.py:101\u001b[39m, in \u001b[36mBartLearnedPositionalEmbedding.forward\u001b[39m\u001b[34m(self, input_ids, past_key_values_length, position_ids)\u001b[39m\n\u001b[32m     98\u001b[39m \u001b[38;5;28;01melse\u001b[39;00m:\n\u001b[32m     99\u001b[39m     position_ids = position_ids.unsqueeze(\u001b[32m0\u001b[39m)\n\u001b[32m--> \u001b[39m\u001b[32m101\u001b[39m \u001b[38;5;28;01mreturn\u001b[39;00m \u001b[38;5;28;43msuper\u001b[39;49m\u001b[43m(\u001b[49m\u001b[43m)\u001b[49m\u001b[43m.\u001b[49m\u001b[43mforward\u001b[49m\u001b[43m(\u001b[49m\u001b[43mposition_ids\u001b[49m\u001b[43m \u001b[49m\u001b[43m+\u001b[49m\u001b[43m \u001b[49m\u001b[38;5;28;43mself\u001b[39;49m\u001b[43m.\u001b[49m\u001b[43moffset\u001b[49m\u001b[43m)\u001b[49m\n",
      "\u001b[36mFile \u001b[39m\u001b[32md:\\free_python\\.venv\\Lib\\site-packages\\torch\\nn\\modules\\sparse.py:190\u001b[39m, in \u001b[36mEmbedding.forward\u001b[39m\u001b[34m(self, input)\u001b[39m\n\u001b[32m    189\u001b[39m \u001b[38;5;28;01mdef\u001b[39;00m\u001b[38;5;250m \u001b[39m\u001b[34mforward\u001b[39m(\u001b[38;5;28mself\u001b[39m, \u001b[38;5;28minput\u001b[39m: Tensor) -> Tensor:\n\u001b[32m--> \u001b[39m\u001b[32m190\u001b[39m     \u001b[38;5;28;01mreturn\u001b[39;00m \u001b[43mF\u001b[49m\u001b[43m.\u001b[49m\u001b[43membedding\u001b[49m\u001b[43m(\u001b[49m\n\u001b[32m    191\u001b[39m \u001b[43m        \u001b[49m\u001b[38;5;28;43minput\u001b[39;49m\u001b[43m,\u001b[49m\n\u001b[32m    192\u001b[39m \u001b[43m        \u001b[49m\u001b[38;5;28;43mself\u001b[39;49m\u001b[43m.\u001b[49m\u001b[43mweight\u001b[49m\u001b[43m,\u001b[49m\n\u001b[32m    193\u001b[39m \u001b[43m        \u001b[49m\u001b[38;5;28;43mself\u001b[39;49m\u001b[43m.\u001b[49m\u001b[43mpadding_idx\u001b[49m\u001b[43m,\u001b[49m\n\u001b[32m    194\u001b[39m \u001b[43m        \u001b[49m\u001b[38;5;28;43mself\u001b[39;49m\u001b[43m.\u001b[49m\u001b[43mmax_norm\u001b[49m\u001b[43m,\u001b[49m\n\u001b[32m    195\u001b[39m \u001b[43m        \u001b[49m\u001b[38;5;28;43mself\u001b[39;49m\u001b[43m.\u001b[49m\u001b[43mnorm_type\u001b[49m\u001b[43m,\u001b[49m\n\u001b[32m    196\u001b[39m \u001b[43m        \u001b[49m\u001b[38;5;28;43mself\u001b[39;49m\u001b[43m.\u001b[49m\u001b[43mscale_grad_by_freq\u001b[49m\u001b[43m,\u001b[49m\n\u001b[32m    197\u001b[39m \u001b[43m        \u001b[49m\u001b[38;5;28;43mself\u001b[39;49m\u001b[43m.\u001b[49m\u001b[43msparse\u001b[49m\u001b[43m,\u001b[49m\n\u001b[32m    198\u001b[39m \u001b[43m    \u001b[49m\u001b[43m)\u001b[49m\n",
      "\u001b[36mFile \u001b[39m\u001b[32md:\\free_python\\.venv\\Lib\\site-packages\\torch\\nn\\functional.py:2551\u001b[39m, in \u001b[36membedding\u001b[39m\u001b[34m(input, weight, padding_idx, max_norm, norm_type, scale_grad_by_freq, sparse)\u001b[39m\n\u001b[32m   2545\u001b[39m     \u001b[38;5;66;03m# Note [embedding_renorm set_grad_enabled]\u001b[39;00m\n\u001b[32m   2546\u001b[39m     \u001b[38;5;66;03m# XXX: equivalent to\u001b[39;00m\n\u001b[32m   2547\u001b[39m     \u001b[38;5;66;03m# with torch.no_grad():\u001b[39;00m\n\u001b[32m   2548\u001b[39m     \u001b[38;5;66;03m#   torch.embedding_renorm_\u001b[39;00m\n\u001b[32m   2549\u001b[39m     \u001b[38;5;66;03m# remove once script supports set_grad_enabled\u001b[39;00m\n\u001b[32m   2550\u001b[39m     _no_grad_embedding_renorm_(weight, \u001b[38;5;28minput\u001b[39m, max_norm, norm_type)\n\u001b[32m-> \u001b[39m\u001b[32m2551\u001b[39m \u001b[38;5;28;01mreturn\u001b[39;00m \u001b[43mtorch\u001b[49m\u001b[43m.\u001b[49m\u001b[43membedding\u001b[49m\u001b[43m(\u001b[49m\u001b[43mweight\u001b[49m\u001b[43m,\u001b[49m\u001b[43m \u001b[49m\u001b[38;5;28;43minput\u001b[39;49m\u001b[43m,\u001b[49m\u001b[43m \u001b[49m\u001b[43mpadding_idx\u001b[49m\u001b[43m,\u001b[49m\u001b[43m \u001b[49m\u001b[43mscale_grad_by_freq\u001b[49m\u001b[43m,\u001b[49m\u001b[43m \u001b[49m\u001b[43msparse\u001b[49m\u001b[43m)\u001b[49m\n",
      "\u001b[31mIndexError\u001b[39m: index out of range in self"
     ]
    }
   ],
   "source": [
    "start=time.time()\n",
    "for i in range(len(paragraph)):\n",
    "    para = paragraph[i].strip()\n",
    "    if len(para)<10:\n",
    "        continue\n",
    "\n",
    "    # # print(f\"\\nParagraph {i + 1}:\")\n",
    "    # print(para, \"\\n\")\n",
    "\n",
    "    #token leng\n",
    "    tokens = tokenizer(para, return_tensors=\"pt\", truncation=True)\n",
    "    input_len = tokens.input_ids.shape[1]\n",
    "\n",
    "    # Dynamically set summarization length\n",
    "    max_len = int(input_len * 0.8)\n",
    "    min_len = max(10, int(input_len * 0.5))\n",
    "\n",
    "    # Ensure max_len is shorter than input_len\n",
    "    max_len = min(max_len, input_len - 1)\n",
    "\n",
    "    summary = summarizer(para, max_length=max_len, min_length=min_len, num_beams=1, do_sample=False)[0]['summary_text']\n",
    "    answers.append(summary)\n",
    "    datas.append(para)\n",
    "\n",
    "    # print(f\"Summary:\\n{summary}\")\n",
    "    print(f\"Time elapsed: {time.time() - start:.2f} seconds\")"
   ]
  },
  {
   "cell_type": "code",
   "execution_count": 12,
   "id": "3ab3dfb5",
   "metadata": {},
   "outputs": [
    {
     "name": "stderr",
     "output_type": "stream",
     "text": [
      "d:\\free_python\\.venv\\Lib\\site-packages\\torch\\nn\\modules\\module.py:1762: FutureWarning: `encoder_attention_mask` is deprecated and will be removed in version 4.55.0 for `BertSdpaSelfAttention.forward`.\n",
      "  return forward_call(*args, **kwargs)\n",
      "d:\\free_python\\.venv\\Lib\\site-packages\\torch\\nn\\modules\\module.py:1762: FutureWarning: `encoder_attention_mask` is deprecated and will be removed in version 4.55.0 for `BertSdpaSelfAttention.forward`.\n",
      "  return forward_call(*args, **kwargs)\n",
      "d:\\free_python\\.venv\\Lib\\site-packages\\torch\\nn\\modules\\module.py:1762: FutureWarning: `encoder_attention_mask` is deprecated and will be removed in version 4.55.0 for `BertSdpaSelfAttention.forward`.\n",
      "  return forward_call(*args, **kwargs)\n",
      "d:\\free_python\\.venv\\Lib\\site-packages\\torch\\nn\\modules\\module.py:1762: FutureWarning: `encoder_attention_mask` is deprecated and will be removed in version 4.55.0 for `BertSdpaSelfAttention.forward`.\n",
      "  return forward_call(*args, **kwargs)\n",
      "d:\\free_python\\.venv\\Lib\\site-packages\\torch\\nn\\modules\\module.py:1762: FutureWarning: `encoder_attention_mask` is deprecated and will be removed in version 4.55.0 for `BertSdpaSelfAttention.forward`.\n",
      "  return forward_call(*args, **kwargs)\n",
      "d:\\free_python\\.venv\\Lib\\site-packages\\torch\\nn\\modules\\module.py:1762: FutureWarning: `encoder_attention_mask` is deprecated and will be removed in version 4.55.0 for `BertSdpaSelfAttention.forward`.\n",
      "  return forward_call(*args, **kwargs)\n",
      "d:\\free_python\\.venv\\Lib\\site-packages\\torch\\nn\\modules\\module.py:1762: FutureWarning: `encoder_attention_mask` is deprecated and will be removed in version 4.55.0 for `BertSdpaSelfAttention.forward`.\n",
      "  return forward_call(*args, **kwargs)\n",
      "d:\\free_python\\.venv\\Lib\\site-packages\\torch\\nn\\modules\\module.py:1762: FutureWarning: `encoder_attention_mask` is deprecated and will be removed in version 4.55.0 for `BertSdpaSelfAttention.forward`.\n",
      "  return forward_call(*args, **kwargs)\n",
      "d:\\free_python\\.venv\\Lib\\site-packages\\torch\\nn\\modules\\module.py:1762: FutureWarning: `encoder_attention_mask` is deprecated and will be removed in version 4.55.0 for `BertSdpaSelfAttention.forward`.\n",
      "  return forward_call(*args, **kwargs)\n",
      "d:\\free_python\\.venv\\Lib\\site-packages\\torch\\nn\\modules\\module.py:1762: FutureWarning: `encoder_attention_mask` is deprecated and will be removed in version 4.55.0 for `BertSdpaSelfAttention.forward`.\n",
      "  return forward_call(*args, **kwargs)\n",
      "d:\\free_python\\.venv\\Lib\\site-packages\\torch\\nn\\modules\\module.py:1762: FutureWarning: `encoder_attention_mask` is deprecated and will be removed in version 4.55.0 for `BertSdpaSelfAttention.forward`.\n",
      "  return forward_call(*args, **kwargs)\n",
      "d:\\free_python\\.venv\\Lib\\site-packages\\torch\\nn\\modules\\module.py:1762: FutureWarning: `encoder_attention_mask` is deprecated and will be removed in version 4.55.0 for `BertSdpaSelfAttention.forward`.\n",
      "  return forward_call(*args, **kwargs)\n",
      "d:\\free_python\\.venv\\Lib\\site-packages\\torch\\nn\\modules\\module.py:1762: FutureWarning: `encoder_attention_mask` is deprecated and will be removed in version 4.55.0 for `BertSdpaSelfAttention.forward`.\n",
      "  return forward_call(*args, **kwargs)\n",
      "d:\\free_python\\.venv\\Lib\\site-packages\\torch\\nn\\modules\\module.py:1762: FutureWarning: `encoder_attention_mask` is deprecated and will be removed in version 4.55.0 for `BertSdpaSelfAttention.forward`.\n",
      "  return forward_call(*args, **kwargs)\n",
      "d:\\free_python\\.venv\\Lib\\site-packages\\torch\\nn\\modules\\module.py:1762: FutureWarning: `encoder_attention_mask` is deprecated and will be removed in version 4.55.0 for `BertSdpaSelfAttention.forward`.\n",
      "  return forward_call(*args, **kwargs)\n",
      "d:\\free_python\\.venv\\Lib\\site-packages\\torch\\nn\\modules\\module.py:1762: FutureWarning: `encoder_attention_mask` is deprecated and will be removed in version 4.55.0 for `BertSdpaSelfAttention.forward`.\n",
      "  return forward_call(*args, **kwargs)\n",
      "d:\\free_python\\.venv\\Lib\\site-packages\\torch\\nn\\modules\\module.py:1762: FutureWarning: `encoder_attention_mask` is deprecated and will be removed in version 4.55.0 for `BertSdpaSelfAttention.forward`.\n",
      "  return forward_call(*args, **kwargs)\n",
      "d:\\free_python\\.venv\\Lib\\site-packages\\torch\\nn\\modules\\module.py:1762: FutureWarning: `encoder_attention_mask` is deprecated and will be removed in version 4.55.0 for `BertSdpaSelfAttention.forward`.\n",
      "  return forward_call(*args, **kwargs)\n",
      "d:\\free_python\\.venv\\Lib\\site-packages\\torch\\nn\\modules\\module.py:1762: FutureWarning: `encoder_attention_mask` is deprecated and will be removed in version 4.55.0 for `BertSdpaSelfAttention.forward`.\n",
      "  return forward_call(*args, **kwargs)\n",
      "d:\\free_python\\.venv\\Lib\\site-packages\\torch\\nn\\modules\\module.py:1762: FutureWarning: `encoder_attention_mask` is deprecated and will be removed in version 4.55.0 for `BertSdpaSelfAttention.forward`.\n",
      "  return forward_call(*args, **kwargs)\n",
      "d:\\free_python\\.venv\\Lib\\site-packages\\torch\\nn\\modules\\module.py:1762: FutureWarning: `encoder_attention_mask` is deprecated and will be removed in version 4.55.0 for `BertSdpaSelfAttention.forward`.\n",
      "  return forward_call(*args, **kwargs)\n",
      "d:\\free_python\\.venv\\Lib\\site-packages\\torch\\nn\\modules\\module.py:1762: FutureWarning: `encoder_attention_mask` is deprecated and will be removed in version 4.55.0 for `BertSdpaSelfAttention.forward`.\n",
      "  return forward_call(*args, **kwargs)\n",
      "d:\\free_python\\.venv\\Lib\\site-packages\\torch\\nn\\modules\\module.py:1762: FutureWarning: `encoder_attention_mask` is deprecated and will be removed in version 4.55.0 for `BertSdpaSelfAttention.forward`.\n",
      "  return forward_call(*args, **kwargs)\n",
      "d:\\free_python\\.venv\\Lib\\site-packages\\torch\\nn\\modules\\module.py:1762: FutureWarning: `encoder_attention_mask` is deprecated and will be removed in version 4.55.0 for `BertSdpaSelfAttention.forward`.\n",
      "  return forward_call(*args, **kwargs)\n",
      "d:\\free_python\\.venv\\Lib\\site-packages\\torch\\nn\\modules\\module.py:1762: FutureWarning: `encoder_attention_mask` is deprecated and will be removed in version 4.55.0 for `BertSdpaSelfAttention.forward`.\n",
      "  return forward_call(*args, **kwargs)\n",
      "d:\\free_python\\.venv\\Lib\\site-packages\\torch\\nn\\modules\\module.py:1762: FutureWarning: `encoder_attention_mask` is deprecated and will be removed in version 4.55.0 for `BertSdpaSelfAttention.forward`.\n",
      "  return forward_call(*args, **kwargs)\n",
      "d:\\free_python\\.venv\\Lib\\site-packages\\torch\\nn\\modules\\module.py:1762: FutureWarning: `encoder_attention_mask` is deprecated and will be removed in version 4.55.0 for `BertSdpaSelfAttention.forward`.\n",
      "  return forward_call(*args, **kwargs)\n",
      "d:\\free_python\\.venv\\Lib\\site-packages\\torch\\nn\\modules\\module.py:1762: FutureWarning: `encoder_attention_mask` is deprecated and will be removed in version 4.55.0 for `BertSdpaSelfAttention.forward`.\n",
      "  return forward_call(*args, **kwargs)\n",
      "d:\\free_python\\.venv\\Lib\\site-packages\\torch\\nn\\modules\\module.py:1762: FutureWarning: `encoder_attention_mask` is deprecated and will be removed in version 4.55.0 for `BertSdpaSelfAttention.forward`.\n",
      "  return forward_call(*args, **kwargs)\n",
      "d:\\free_python\\.venv\\Lib\\site-packages\\torch\\nn\\modules\\module.py:1762: FutureWarning: `encoder_attention_mask` is deprecated and will be removed in version 4.55.0 for `BertSdpaSelfAttention.forward`.\n",
      "  return forward_call(*args, **kwargs)\n",
      "d:\\free_python\\.venv\\Lib\\site-packages\\torch\\nn\\modules\\module.py:1762: FutureWarning: `encoder_attention_mask` is deprecated and will be removed in version 4.55.0 for `BertSdpaSelfAttention.forward`.\n",
      "  return forward_call(*args, **kwargs)\n",
      "d:\\free_python\\.venv\\Lib\\site-packages\\torch\\nn\\modules\\module.py:1762: FutureWarning: `encoder_attention_mask` is deprecated and will be removed in version 4.55.0 for `BertSdpaSelfAttention.forward`.\n",
      "  return forward_call(*args, **kwargs)\n",
      "d:\\free_python\\.venv\\Lib\\site-packages\\torch\\nn\\modules\\module.py:1762: FutureWarning: `encoder_attention_mask` is deprecated and will be removed in version 4.55.0 for `BertSdpaSelfAttention.forward`.\n",
      "  return forward_call(*args, **kwargs)\n",
      "d:\\free_python\\.venv\\Lib\\site-packages\\torch\\nn\\modules\\module.py:1762: FutureWarning: `encoder_attention_mask` is deprecated and will be removed in version 4.55.0 for `BertSdpaSelfAttention.forward`.\n",
      "  return forward_call(*args, **kwargs)\n",
      "d:\\free_python\\.venv\\Lib\\site-packages\\torch\\nn\\modules\\module.py:1762: FutureWarning: `encoder_attention_mask` is deprecated and will be removed in version 4.55.0 for `BertSdpaSelfAttention.forward`.\n",
      "  return forward_call(*args, **kwargs)\n",
      "d:\\free_python\\.venv\\Lib\\site-packages\\torch\\nn\\modules\\module.py:1762: FutureWarning: `encoder_attention_mask` is deprecated and will be removed in version 4.55.0 for `BertSdpaSelfAttention.forward`.\n",
      "  return forward_call(*args, **kwargs)\n",
      "d:\\free_python\\.venv\\Lib\\site-packages\\torch\\nn\\modules\\module.py:1762: FutureWarning: `encoder_attention_mask` is deprecated and will be removed in version 4.55.0 for `BertSdpaSelfAttention.forward`.\n",
      "  return forward_call(*args, **kwargs)\n",
      "d:\\free_python\\.venv\\Lib\\site-packages\\torch\\nn\\modules\\module.py:1762: FutureWarning: `encoder_attention_mask` is deprecated and will be removed in version 4.55.0 for `BertSdpaSelfAttention.forward`.\n",
      "  return forward_call(*args, **kwargs)\n",
      "d:\\free_python\\.venv\\Lib\\site-packages\\torch\\nn\\modules\\module.py:1762: FutureWarning: `encoder_attention_mask` is deprecated and will be removed in version 4.55.0 for `BertSdpaSelfAttention.forward`.\n",
      "  return forward_call(*args, **kwargs)\n",
      "d:\\free_python\\.venv\\Lib\\site-packages\\torch\\nn\\modules\\module.py:1762: FutureWarning: `encoder_attention_mask` is deprecated and will be removed in version 4.55.0 for `BertSdpaSelfAttention.forward`.\n",
      "  return forward_call(*args, **kwargs)\n",
      "d:\\free_python\\.venv\\Lib\\site-packages\\torch\\nn\\modules\\module.py:1762: FutureWarning: `encoder_attention_mask` is deprecated and will be removed in version 4.55.0 for `BertSdpaSelfAttention.forward`.\n",
      "  return forward_call(*args, **kwargs)\n",
      "d:\\free_python\\.venv\\Lib\\site-packages\\torch\\nn\\modules\\module.py:1762: FutureWarning: `encoder_attention_mask` is deprecated and will be removed in version 4.55.0 for `BertSdpaSelfAttention.forward`.\n",
      "  return forward_call(*args, **kwargs)\n",
      "d:\\free_python\\.venv\\Lib\\site-packages\\torch\\nn\\modules\\module.py:1762: FutureWarning: `encoder_attention_mask` is deprecated and will be removed in version 4.55.0 for `BertSdpaSelfAttention.forward`.\n",
      "  return forward_call(*args, **kwargs)\n",
      "d:\\free_python\\.venv\\Lib\\site-packages\\torch\\nn\\modules\\module.py:1762: FutureWarning: `encoder_attention_mask` is deprecated and will be removed in version 4.55.0 for `BertSdpaSelfAttention.forward`.\n",
      "  return forward_call(*args, **kwargs)\n",
      "d:\\free_python\\.venv\\Lib\\site-packages\\torch\\nn\\modules\\module.py:1762: FutureWarning: `encoder_attention_mask` is deprecated and will be removed in version 4.55.0 for `BertSdpaSelfAttention.forward`.\n",
      "  return forward_call(*args, **kwargs)\n",
      "d:\\free_python\\.venv\\Lib\\site-packages\\torch\\nn\\modules\\module.py:1762: FutureWarning: `encoder_attention_mask` is deprecated and will be removed in version 4.55.0 for `BertSdpaSelfAttention.forward`.\n",
      "  return forward_call(*args, **kwargs)\n",
      "d:\\free_python\\.venv\\Lib\\site-packages\\torch\\nn\\modules\\module.py:1762: FutureWarning: `encoder_attention_mask` is deprecated and will be removed in version 4.55.0 for `BertSdpaSelfAttention.forward`.\n",
      "  return forward_call(*args, **kwargs)\n",
      "d:\\free_python\\.venv\\Lib\\site-packages\\torch\\nn\\modules\\module.py:1762: FutureWarning: `encoder_attention_mask` is deprecated and will be removed in version 4.55.0 for `BertSdpaSelfAttention.forward`.\n",
      "  return forward_call(*args, **kwargs)\n",
      "d:\\free_python\\.venv\\Lib\\site-packages\\torch\\nn\\modules\\module.py:1762: FutureWarning: `encoder_attention_mask` is deprecated and will be removed in version 4.55.0 for `BertSdpaSelfAttention.forward`.\n",
      "  return forward_call(*args, **kwargs)\n",
      "d:\\free_python\\.venv\\Lib\\site-packages\\torch\\nn\\modules\\module.py:1762: FutureWarning: `encoder_attention_mask` is deprecated and will be removed in version 4.55.0 for `BertSdpaSelfAttention.forward`.\n",
      "  return forward_call(*args, **kwargs)\n",
      "d:\\free_python\\.venv\\Lib\\site-packages\\torch\\nn\\modules\\module.py:1762: FutureWarning: `encoder_attention_mask` is deprecated and will be removed in version 4.55.0 for `BertSdpaSelfAttention.forward`.\n",
      "  return forward_call(*args, **kwargs)\n",
      "d:\\free_python\\.venv\\Lib\\site-packages\\torch\\nn\\modules\\module.py:1762: FutureWarning: `encoder_attention_mask` is deprecated and will be removed in version 4.55.0 for `BertSdpaSelfAttention.forward`.\n",
      "  return forward_call(*args, **kwargs)\n",
      "d:\\free_python\\.venv\\Lib\\site-packages\\torch\\nn\\modules\\module.py:1762: FutureWarning: `encoder_attention_mask` is deprecated and will be removed in version 4.55.0 for `BertSdpaSelfAttention.forward`.\n",
      "  return forward_call(*args, **kwargs)\n",
      "d:\\free_python\\.venv\\Lib\\site-packages\\torch\\nn\\modules\\module.py:1762: FutureWarning: `encoder_attention_mask` is deprecated and will be removed in version 4.55.0 for `BertSdpaSelfAttention.forward`.\n",
      "  return forward_call(*args, **kwargs)\n",
      "d:\\free_python\\.venv\\Lib\\site-packages\\torch\\nn\\modules\\module.py:1762: FutureWarning: `encoder_attention_mask` is deprecated and will be removed in version 4.55.0 for `BertSdpaSelfAttention.forward`.\n",
      "  return forward_call(*args, **kwargs)\n",
      "d:\\free_python\\.venv\\Lib\\site-packages\\torch\\nn\\modules\\module.py:1762: FutureWarning: `encoder_attention_mask` is deprecated and will be removed in version 4.55.0 for `BertSdpaSelfAttention.forward`.\n",
      "  return forward_call(*args, **kwargs)\n",
      "d:\\free_python\\.venv\\Lib\\site-packages\\torch\\nn\\modules\\module.py:1762: FutureWarning: `encoder_attention_mask` is deprecated and will be removed in version 4.55.0 for `BertSdpaSelfAttention.forward`.\n",
      "  return forward_call(*args, **kwargs)\n",
      "d:\\free_python\\.venv\\Lib\\site-packages\\torch\\nn\\modules\\module.py:1762: FutureWarning: `encoder_attention_mask` is deprecated and will be removed in version 4.55.0 for `BertSdpaSelfAttention.forward`.\n",
      "  return forward_call(*args, **kwargs)\n",
      "d:\\free_python\\.venv\\Lib\\site-packages\\torch\\nn\\modules\\module.py:1762: FutureWarning: `encoder_attention_mask` is deprecated and will be removed in version 4.55.0 for `BertSdpaSelfAttention.forward`.\n",
      "  return forward_call(*args, **kwargs)\n",
      "d:\\free_python\\.venv\\Lib\\site-packages\\torch\\nn\\modules\\module.py:1762: FutureWarning: `encoder_attention_mask` is deprecated and will be removed in version 4.55.0 for `BertSdpaSelfAttention.forward`.\n",
      "  return forward_call(*args, **kwargs)\n",
      "d:\\free_python\\.venv\\Lib\\site-packages\\torch\\nn\\modules\\module.py:1762: FutureWarning: `encoder_attention_mask` is deprecated and will be removed in version 4.55.0 for `BertSdpaSelfAttention.forward`.\n",
      "  return forward_call(*args, **kwargs)\n",
      "d:\\free_python\\.venv\\Lib\\site-packages\\torch\\nn\\modules\\module.py:1762: FutureWarning: `encoder_attention_mask` is deprecated and will be removed in version 4.55.0 for `BertSdpaSelfAttention.forward`.\n",
      "  return forward_call(*args, **kwargs)\n",
      "d:\\free_python\\.venv\\Lib\\site-packages\\torch\\nn\\modules\\module.py:1762: FutureWarning: `encoder_attention_mask` is deprecated and will be removed in version 4.55.0 for `BertSdpaSelfAttention.forward`.\n",
      "  return forward_call(*args, **kwargs)\n",
      "d:\\free_python\\.venv\\Lib\\site-packages\\torch\\nn\\modules\\module.py:1762: FutureWarning: `encoder_attention_mask` is deprecated and will be removed in version 4.55.0 for `BertSdpaSelfAttention.forward`.\n",
      "  return forward_call(*args, **kwargs)\n",
      "d:\\free_python\\.venv\\Lib\\site-packages\\torch\\nn\\modules\\module.py:1762: FutureWarning: `encoder_attention_mask` is deprecated and will be removed in version 4.55.0 for `BertSdpaSelfAttention.forward`.\n",
      "  return forward_call(*args, **kwargs)\n",
      "d:\\free_python\\.venv\\Lib\\site-packages\\torch\\nn\\modules\\module.py:1762: FutureWarning: `encoder_attention_mask` is deprecated and will be removed in version 4.55.0 for `BertSdpaSelfAttention.forward`.\n",
      "  return forward_call(*args, **kwargs)\n",
      "d:\\free_python\\.venv\\Lib\\site-packages\\torch\\nn\\modules\\module.py:1762: FutureWarning: `encoder_attention_mask` is deprecated and will be removed in version 4.55.0 for `BertSdpaSelfAttention.forward`.\n",
      "  return forward_call(*args, **kwargs)\n",
      "d:\\free_python\\.venv\\Lib\\site-packages\\torch\\nn\\modules\\module.py:1762: FutureWarning: `encoder_attention_mask` is deprecated and will be removed in version 4.55.0 for `BertSdpaSelfAttention.forward`.\n",
      "  return forward_call(*args, **kwargs)\n",
      "d:\\free_python\\.venv\\Lib\\site-packages\\torch\\nn\\modules\\module.py:1762: FutureWarning: `encoder_attention_mask` is deprecated and will be removed in version 4.55.0 for `BertSdpaSelfAttention.forward`.\n",
      "  return forward_call(*args, **kwargs)\n",
      "d:\\free_python\\.venv\\Lib\\site-packages\\torch\\nn\\modules\\module.py:1762: FutureWarning: `encoder_attention_mask` is deprecated and will be removed in version 4.55.0 for `BertSdpaSelfAttention.forward`.\n",
      "  return forward_call(*args, **kwargs)\n",
      "d:\\free_python\\.venv\\Lib\\site-packages\\torch\\nn\\modules\\module.py:1762: FutureWarning: `encoder_attention_mask` is deprecated and will be removed in version 4.55.0 for `BertSdpaSelfAttention.forward`.\n",
      "  return forward_call(*args, **kwargs)\n",
      "d:\\free_python\\.venv\\Lib\\site-packages\\torch\\nn\\modules\\module.py:1762: FutureWarning: `encoder_attention_mask` is deprecated and will be removed in version 4.55.0 for `BertSdpaSelfAttention.forward`.\n",
      "  return forward_call(*args, **kwargs)\n",
      "d:\\free_python\\.venv\\Lib\\site-packages\\torch\\nn\\modules\\module.py:1762: FutureWarning: `encoder_attention_mask` is deprecated and will be removed in version 4.55.0 for `BertSdpaSelfAttention.forward`.\n",
      "  return forward_call(*args, **kwargs)\n",
      "d:\\free_python\\.venv\\Lib\\site-packages\\torch\\nn\\modules\\module.py:1762: FutureWarning: `encoder_attention_mask` is deprecated and will be removed in version 4.55.0 for `BertSdpaSelfAttention.forward`.\n",
      "  return forward_call(*args, **kwargs)\n",
      "d:\\free_python\\.venv\\Lib\\site-packages\\torch\\nn\\modules\\module.py:1762: FutureWarning: `encoder_attention_mask` is deprecated and will be removed in version 4.55.0 for `BertSdpaSelfAttention.forward`.\n",
      "  return forward_call(*args, **kwargs)\n",
      "d:\\free_python\\.venv\\Lib\\site-packages\\torch\\nn\\modules\\module.py:1762: FutureWarning: `encoder_attention_mask` is deprecated and will be removed in version 4.55.0 for `BertSdpaSelfAttention.forward`.\n",
      "  return forward_call(*args, **kwargs)\n",
      "d:\\free_python\\.venv\\Lib\\site-packages\\torch\\nn\\modules\\module.py:1762: FutureWarning: `encoder_attention_mask` is deprecated and will be removed in version 4.55.0 for `BertSdpaSelfAttention.forward`.\n",
      "  return forward_call(*args, **kwargs)\n",
      "d:\\free_python\\.venv\\Lib\\site-packages\\torch\\nn\\modules\\module.py:1762: FutureWarning: `encoder_attention_mask` is deprecated and will be removed in version 4.55.0 for `BertSdpaSelfAttention.forward`.\n",
      "  return forward_call(*args, **kwargs)\n",
      "d:\\free_python\\.venv\\Lib\\site-packages\\torch\\nn\\modules\\module.py:1762: FutureWarning: `encoder_attention_mask` is deprecated and will be removed in version 4.55.0 for `BertSdpaSelfAttention.forward`.\n",
      "  return forward_call(*args, **kwargs)\n",
      "d:\\free_python\\.venv\\Lib\\site-packages\\torch\\nn\\modules\\module.py:1762: FutureWarning: `encoder_attention_mask` is deprecated and will be removed in version 4.55.0 for `BertSdpaSelfAttention.forward`.\n",
      "  return forward_call(*args, **kwargs)\n",
      "d:\\free_python\\.venv\\Lib\\site-packages\\torch\\nn\\modules\\module.py:1762: FutureWarning: `encoder_attention_mask` is deprecated and will be removed in version 4.55.0 for `BertSdpaSelfAttention.forward`.\n",
      "  return forward_call(*args, **kwargs)\n",
      "d:\\free_python\\.venv\\Lib\\site-packages\\torch\\nn\\modules\\module.py:1762: FutureWarning: `encoder_attention_mask` is deprecated and will be removed in version 4.55.0 for `BertSdpaSelfAttention.forward`.\n",
      "  return forward_call(*args, **kwargs)\n",
      "d:\\free_python\\.venv\\Lib\\site-packages\\torch\\nn\\modules\\module.py:1762: FutureWarning: `encoder_attention_mask` is deprecated and will be removed in version 4.55.0 for `BertSdpaSelfAttention.forward`.\n",
      "  return forward_call(*args, **kwargs)\n",
      "d:\\free_python\\.venv\\Lib\\site-packages\\torch\\nn\\modules\\module.py:1762: FutureWarning: `encoder_attention_mask` is deprecated and will be removed in version 4.55.0 for `BertSdpaSelfAttention.forward`.\n",
      "  return forward_call(*args, **kwargs)\n",
      "d:\\free_python\\.venv\\Lib\\site-packages\\torch\\nn\\modules\\module.py:1762: FutureWarning: `encoder_attention_mask` is deprecated and will be removed in version 4.55.0 for `BertSdpaSelfAttention.forward`.\n",
      "  return forward_call(*args, **kwargs)\n",
      "d:\\free_python\\.venv\\Lib\\site-packages\\torch\\nn\\modules\\module.py:1762: FutureWarning: `encoder_attention_mask` is deprecated and will be removed in version 4.55.0 for `BertSdpaSelfAttention.forward`.\n",
      "  return forward_call(*args, **kwargs)\n",
      "d:\\free_python\\.venv\\Lib\\site-packages\\torch\\nn\\modules\\module.py:1762: FutureWarning: `encoder_attention_mask` is deprecated and will be removed in version 4.55.0 for `BertSdpaSelfAttention.forward`.\n",
      "  return forward_call(*args, **kwargs)\n",
      "d:\\free_python\\.venv\\Lib\\site-packages\\torch\\nn\\modules\\module.py:1762: FutureWarning: `encoder_attention_mask` is deprecated and will be removed in version 4.55.0 for `BertSdpaSelfAttention.forward`.\n",
      "  return forward_call(*args, **kwargs)\n",
      "d:\\free_python\\.venv\\Lib\\site-packages\\torch\\nn\\modules\\module.py:1762: FutureWarning: `encoder_attention_mask` is deprecated and will be removed in version 4.55.0 for `BertSdpaSelfAttention.forward`.\n",
      "  return forward_call(*args, **kwargs)\n",
      "d:\\free_python\\.venv\\Lib\\site-packages\\torch\\nn\\modules\\module.py:1762: FutureWarning: `encoder_attention_mask` is deprecated and will be removed in version 4.55.0 for `BertSdpaSelfAttention.forward`.\n",
      "  return forward_call(*args, **kwargs)\n",
      "d:\\free_python\\.venv\\Lib\\site-packages\\torch\\nn\\modules\\module.py:1762: FutureWarning: `encoder_attention_mask` is deprecated and will be removed in version 4.55.0 for `BertSdpaSelfAttention.forward`.\n",
      "  return forward_call(*args, **kwargs)\n",
      "d:\\free_python\\.venv\\Lib\\site-packages\\torch\\nn\\modules\\module.py:1762: FutureWarning: `encoder_attention_mask` is deprecated and will be removed in version 4.55.0 for `BertSdpaSelfAttention.forward`.\n",
      "  return forward_call(*args, **kwargs)\n",
      "d:\\free_python\\.venv\\Lib\\site-packages\\torch\\nn\\modules\\module.py:1762: FutureWarning: `encoder_attention_mask` is deprecated and will be removed in version 4.55.0 for `BertSdpaSelfAttention.forward`.\n",
      "  return forward_call(*args, **kwargs)\n",
      "d:\\free_python\\.venv\\Lib\\site-packages\\torch\\nn\\modules\\module.py:1762: FutureWarning: `encoder_attention_mask` is deprecated and will be removed in version 4.55.0 for `BertSdpaSelfAttention.forward`.\n",
      "  return forward_call(*args, **kwargs)\n",
      "d:\\free_python\\.venv\\Lib\\site-packages\\torch\\nn\\modules\\module.py:1762: FutureWarning: `encoder_attention_mask` is deprecated and will be removed in version 4.55.0 for `BertSdpaSelfAttention.forward`.\n",
      "  return forward_call(*args, **kwargs)\n",
      "d:\\free_python\\.venv\\Lib\\site-packages\\torch\\nn\\modules\\module.py:1762: FutureWarning: `encoder_attention_mask` is deprecated and will be removed in version 4.55.0 for `BertSdpaSelfAttention.forward`.\n",
      "  return forward_call(*args, **kwargs)\n",
      "d:\\free_python\\.venv\\Lib\\site-packages\\torch\\nn\\modules\\module.py:1762: FutureWarning: `encoder_attention_mask` is deprecated and will be removed in version 4.55.0 for `BertSdpaSelfAttention.forward`.\n",
      "  return forward_call(*args, **kwargs)\n",
      "d:\\free_python\\.venv\\Lib\\site-packages\\torch\\nn\\modules\\module.py:1762: FutureWarning: `encoder_attention_mask` is deprecated and will be removed in version 4.55.0 for `BertSdpaSelfAttention.forward`.\n",
      "  return forward_call(*args, **kwargs)\n",
      "d:\\free_python\\.venv\\Lib\\site-packages\\torch\\nn\\modules\\module.py:1762: FutureWarning: `encoder_attention_mask` is deprecated and will be removed in version 4.55.0 for `BertSdpaSelfAttention.forward`.\n",
      "  return forward_call(*args, **kwargs)\n",
      "d:\\free_python\\.venv\\Lib\\site-packages\\torch\\nn\\modules\\module.py:1762: FutureWarning: `encoder_attention_mask` is deprecated and will be removed in version 4.55.0 for `BertSdpaSelfAttention.forward`.\n",
      "  return forward_call(*args, **kwargs)\n",
      "d:\\free_python\\.venv\\Lib\\site-packages\\torch\\nn\\modules\\module.py:1762: FutureWarning: `encoder_attention_mask` is deprecated and will be removed in version 4.55.0 for `BertSdpaSelfAttention.forward`.\n",
      "  return forward_call(*args, **kwargs)\n",
      "d:\\free_python\\.venv\\Lib\\site-packages\\torch\\nn\\modules\\module.py:1762: FutureWarning: `encoder_attention_mask` is deprecated and will be removed in version 4.55.0 for `BertSdpaSelfAttention.forward`.\n",
      "  return forward_call(*args, **kwargs)\n",
      "d:\\free_python\\.venv\\Lib\\site-packages\\torch\\nn\\modules\\module.py:1762: FutureWarning: `encoder_attention_mask` is deprecated and will be removed in version 4.55.0 for `BertSdpaSelfAttention.forward`.\n",
      "  return forward_call(*args, **kwargs)\n",
      "d:\\free_python\\.venv\\Lib\\site-packages\\torch\\nn\\modules\\module.py:1762: FutureWarning: `encoder_attention_mask` is deprecated and will be removed in version 4.55.0 for `BertSdpaSelfAttention.forward`.\n",
      "  return forward_call(*args, **kwargs)\n",
      "d:\\free_python\\.venv\\Lib\\site-packages\\torch\\nn\\modules\\module.py:1762: FutureWarning: `encoder_attention_mask` is deprecated and will be removed in version 4.55.0 for `BertSdpaSelfAttention.forward`.\n",
      "  return forward_call(*args, **kwargs)\n",
      "d:\\free_python\\.venv\\Lib\\site-packages\\torch\\nn\\modules\\module.py:1762: FutureWarning: `encoder_attention_mask` is deprecated and will be removed in version 4.55.0 for `BertSdpaSelfAttention.forward`.\n",
      "  return forward_call(*args, **kwargs)\n",
      "d:\\free_python\\.venv\\Lib\\site-packages\\torch\\nn\\modules\\module.py:1762: FutureWarning: `encoder_attention_mask` is deprecated and will be removed in version 4.55.0 for `BertSdpaSelfAttention.forward`.\n",
      "  return forward_call(*args, **kwargs)\n",
      "d:\\free_python\\.venv\\Lib\\site-packages\\torch\\nn\\modules\\module.py:1762: FutureWarning: `encoder_attention_mask` is deprecated and will be removed in version 4.55.0 for `BertSdpaSelfAttention.forward`.\n",
      "  return forward_call(*args, **kwargs)\n",
      "d:\\free_python\\.venv\\Lib\\site-packages\\torch\\nn\\modules\\module.py:1762: FutureWarning: `encoder_attention_mask` is deprecated and will be removed in version 4.55.0 for `BertSdpaSelfAttention.forward`.\n",
      "  return forward_call(*args, **kwargs)\n",
      "d:\\free_python\\.venv\\Lib\\site-packages\\torch\\nn\\modules\\module.py:1762: FutureWarning: `encoder_attention_mask` is deprecated and will be removed in version 4.55.0 for `BertSdpaSelfAttention.forward`.\n",
      "  return forward_call(*args, **kwargs)\n",
      "d:\\free_python\\.venv\\Lib\\site-packages\\torch\\nn\\modules\\module.py:1762: FutureWarning: `encoder_attention_mask` is deprecated and will be removed in version 4.55.0 for `BertSdpaSelfAttention.forward`.\n",
      "  return forward_call(*args, **kwargs)\n",
      "d:\\free_python\\.venv\\Lib\\site-packages\\torch\\nn\\modules\\module.py:1762: FutureWarning: `encoder_attention_mask` is deprecated and will be removed in version 4.55.0 for `BertSdpaSelfAttention.forward`.\n",
      "  return forward_call(*args, **kwargs)\n",
      "d:\\free_python\\.venv\\Lib\\site-packages\\torch\\nn\\modules\\module.py:1762: FutureWarning: `encoder_attention_mask` is deprecated and will be removed in version 4.55.0 for `BertSdpaSelfAttention.forward`.\n",
      "  return forward_call(*args, **kwargs)\n",
      "d:\\free_python\\.venv\\Lib\\site-packages\\torch\\nn\\modules\\module.py:1762: FutureWarning: `encoder_attention_mask` is deprecated and will be removed in version 4.55.0 for `BertSdpaSelfAttention.forward`.\n",
      "  return forward_call(*args, **kwargs)\n",
      "d:\\free_python\\.venv\\Lib\\site-packages\\torch\\nn\\modules\\module.py:1762: FutureWarning: `encoder_attention_mask` is deprecated and will be removed in version 4.55.0 for `BertSdpaSelfAttention.forward`.\n",
      "  return forward_call(*args, **kwargs)\n",
      "d:\\free_python\\.venv\\Lib\\site-packages\\torch\\nn\\modules\\module.py:1762: FutureWarning: `encoder_attention_mask` is deprecated and will be removed in version 4.55.0 for `BertSdpaSelfAttention.forward`.\n",
      "  return forward_call(*args, **kwargs)\n",
      "d:\\free_python\\.venv\\Lib\\site-packages\\torch\\nn\\modules\\module.py:1762: FutureWarning: `encoder_attention_mask` is deprecated and will be removed in version 4.55.0 for `BertSdpaSelfAttention.forward`.\n",
      "  return forward_call(*args, **kwargs)\n",
      "d:\\free_python\\.venv\\Lib\\site-packages\\torch\\nn\\modules\\module.py:1762: FutureWarning: `encoder_attention_mask` is deprecated and will be removed in version 4.55.0 for `BertSdpaSelfAttention.forward`.\n",
      "  return forward_call(*args, **kwargs)\n",
      "d:\\free_python\\.venv\\Lib\\site-packages\\torch\\nn\\modules\\module.py:1762: FutureWarning: `encoder_attention_mask` is deprecated and will be removed in version 4.55.0 for `BertSdpaSelfAttention.forward`.\n",
      "  return forward_call(*args, **kwargs)\n",
      "d:\\free_python\\.venv\\Lib\\site-packages\\torch\\nn\\modules\\module.py:1762: FutureWarning: `encoder_attention_mask` is deprecated and will be removed in version 4.55.0 for `BertSdpaSelfAttention.forward`.\n",
      "  return forward_call(*args, **kwargs)\n",
      "d:\\free_python\\.venv\\Lib\\site-packages\\torch\\nn\\modules\\module.py:1762: FutureWarning: `encoder_attention_mask` is deprecated and will be removed in version 4.55.0 for `BertSdpaSelfAttention.forward`.\n",
      "  return forward_call(*args, **kwargs)\n",
      "d:\\free_python\\.venv\\Lib\\site-packages\\torch\\nn\\modules\\module.py:1762: FutureWarning: `encoder_attention_mask` is deprecated and will be removed in version 4.55.0 for `BertSdpaSelfAttention.forward`.\n",
      "  return forward_call(*args, **kwargs)\n",
      "d:\\free_python\\.venv\\Lib\\site-packages\\torch\\nn\\modules\\module.py:1762: FutureWarning: `encoder_attention_mask` is deprecated and will be removed in version 4.55.0 for `BertSdpaSelfAttention.forward`.\n",
      "  return forward_call(*args, **kwargs)\n",
      "d:\\free_python\\.venv\\Lib\\site-packages\\torch\\nn\\modules\\module.py:1762: FutureWarning: `encoder_attention_mask` is deprecated and will be removed in version 4.55.0 for `BertSdpaSelfAttention.forward`.\n",
      "  return forward_call(*args, **kwargs)\n",
      "d:\\free_python\\.venv\\Lib\\site-packages\\torch\\nn\\modules\\module.py:1762: FutureWarning: `encoder_attention_mask` is deprecated and will be removed in version 4.55.0 for `BertSdpaSelfAttention.forward`.\n",
      "  return forward_call(*args, **kwargs)\n",
      "d:\\free_python\\.venv\\Lib\\site-packages\\torch\\nn\\modules\\module.py:1762: FutureWarning: `encoder_attention_mask` is deprecated and will be removed in version 4.55.0 for `BertSdpaSelfAttention.forward`.\n",
      "  return forward_call(*args, **kwargs)\n",
      "d:\\free_python\\.venv\\Lib\\site-packages\\torch\\nn\\modules\\module.py:1762: FutureWarning: `encoder_attention_mask` is deprecated and will be removed in version 4.55.0 for `BertSdpaSelfAttention.forward`.\n",
      "  return forward_call(*args, **kwargs)\n",
      "d:\\free_python\\.venv\\Lib\\site-packages\\torch\\nn\\modules\\module.py:1762: FutureWarning: `encoder_attention_mask` is deprecated and will be removed in version 4.55.0 for `BertSdpaSelfAttention.forward`.\n",
      "  return forward_call(*args, **kwargs)\n",
      "d:\\free_python\\.venv\\Lib\\site-packages\\torch\\nn\\modules\\module.py:1762: FutureWarning: `encoder_attention_mask` is deprecated and will be removed in version 4.55.0 for `BertSdpaSelfAttention.forward`.\n",
      "  return forward_call(*args, **kwargs)\n",
      "d:\\free_python\\.venv\\Lib\\site-packages\\torch\\nn\\modules\\module.py:1762: FutureWarning: `encoder_attention_mask` is deprecated and will be removed in version 4.55.0 for `BertSdpaSelfAttention.forward`.\n",
      "  return forward_call(*args, **kwargs)\n",
      "d:\\free_python\\.venv\\Lib\\site-packages\\torch\\nn\\modules\\module.py:1762: FutureWarning: `encoder_attention_mask` is deprecated and will be removed in version 4.55.0 for `BertSdpaSelfAttention.forward`.\n",
      "  return forward_call(*args, **kwargs)\n",
      "d:\\free_python\\.venv\\Lib\\site-packages\\torch\\nn\\modules\\module.py:1762: FutureWarning: `encoder_attention_mask` is deprecated and will be removed in version 4.55.0 for `BertSdpaSelfAttention.forward`.\n",
      "  return forward_call(*args, **kwargs)\n",
      "d:\\free_python\\.venv\\Lib\\site-packages\\torch\\nn\\modules\\module.py:1762: FutureWarning: `encoder_attention_mask` is deprecated and will be removed in version 4.55.0 for `BertSdpaSelfAttention.forward`.\n",
      "  return forward_call(*args, **kwargs)\n",
      "d:\\free_python\\.venv\\Lib\\site-packages\\torch\\nn\\modules\\module.py:1762: FutureWarning: `encoder_attention_mask` is deprecated and will be removed in version 4.55.0 for `BertSdpaSelfAttention.forward`.\n",
      "  return forward_call(*args, **kwargs)\n",
      "d:\\free_python\\.venv\\Lib\\site-packages\\torch\\nn\\modules\\module.py:1762: FutureWarning: `encoder_attention_mask` is deprecated and will be removed in version 4.55.0 for `BertSdpaSelfAttention.forward`.\n",
      "  return forward_call(*args, **kwargs)\n",
      "d:\\free_python\\.venv\\Lib\\site-packages\\torch\\nn\\modules\\module.py:1762: FutureWarning: `encoder_attention_mask` is deprecated and will be removed in version 4.55.0 for `BertSdpaSelfAttention.forward`.\n",
      "  return forward_call(*args, **kwargs)\n",
      "d:\\free_python\\.venv\\Lib\\site-packages\\torch\\nn\\modules\\module.py:1762: FutureWarning: `encoder_attention_mask` is deprecated and will be removed in version 4.55.0 for `BertSdpaSelfAttention.forward`.\n",
      "  return forward_call(*args, **kwargs)\n",
      "d:\\free_python\\.venv\\Lib\\site-packages\\torch\\nn\\modules\\module.py:1762: FutureWarning: `encoder_attention_mask` is deprecated and will be removed in version 4.55.0 for `BertSdpaSelfAttention.forward`.\n",
      "  return forward_call(*args, **kwargs)\n",
      "d:\\free_python\\.venv\\Lib\\site-packages\\torch\\nn\\modules\\module.py:1762: FutureWarning: `encoder_attention_mask` is deprecated and will be removed in version 4.55.0 for `BertSdpaSelfAttention.forward`.\n",
      "  return forward_call(*args, **kwargs)\n",
      "d:\\free_python\\.venv\\Lib\\site-packages\\torch\\nn\\modules\\module.py:1762: FutureWarning: `encoder_attention_mask` is deprecated and will be removed in version 4.55.0 for `BertSdpaSelfAttention.forward`.\n",
      "  return forward_call(*args, **kwargs)\n",
      "d:\\free_python\\.venv\\Lib\\site-packages\\torch\\nn\\modules\\module.py:1762: FutureWarning: `encoder_attention_mask` is deprecated and will be removed in version 4.55.0 for `BertSdpaSelfAttention.forward`.\n",
      "  return forward_call(*args, **kwargs)\n",
      "d:\\free_python\\.venv\\Lib\\site-packages\\torch\\nn\\modules\\module.py:1762: FutureWarning: `encoder_attention_mask` is deprecated and will be removed in version 4.55.0 for `BertSdpaSelfAttention.forward`.\n",
      "  return forward_call(*args, **kwargs)\n",
      "d:\\free_python\\.venv\\Lib\\site-packages\\torch\\nn\\modules\\module.py:1762: FutureWarning: `encoder_attention_mask` is deprecated and will be removed in version 4.55.0 for `BertSdpaSelfAttention.forward`.\n",
      "  return forward_call(*args, **kwargs)\n",
      "d:\\free_python\\.venv\\Lib\\site-packages\\torch\\nn\\modules\\module.py:1762: FutureWarning: `encoder_attention_mask` is deprecated and will be removed in version 4.55.0 for `BertSdpaSelfAttention.forward`.\n",
      "  return forward_call(*args, **kwargs)\n",
      "d:\\free_python\\.venv\\Lib\\site-packages\\torch\\nn\\modules\\module.py:1762: FutureWarning: `encoder_attention_mask` is deprecated and will be removed in version 4.55.0 for `BertSdpaSelfAttention.forward`.\n",
      "  return forward_call(*args, **kwargs)\n",
      "d:\\free_python\\.venv\\Lib\\site-packages\\torch\\nn\\modules\\module.py:1762: FutureWarning: `encoder_attention_mask` is deprecated and will be removed in version 4.55.0 for `BertSdpaSelfAttention.forward`.\n",
      "  return forward_call(*args, **kwargs)\n",
      "d:\\free_python\\.venv\\Lib\\site-packages\\torch\\nn\\modules\\module.py:1762: FutureWarning: `encoder_attention_mask` is deprecated and will be removed in version 4.55.0 for `BertSdpaSelfAttention.forward`.\n",
      "  return forward_call(*args, **kwargs)\n",
      "d:\\free_python\\.venv\\Lib\\site-packages\\torch\\nn\\modules\\module.py:1762: FutureWarning: `encoder_attention_mask` is deprecated and will be removed in version 4.55.0 for `BertSdpaSelfAttention.forward`.\n",
      "  return forward_call(*args, **kwargs)\n",
      "d:\\free_python\\.venv\\Lib\\site-packages\\torch\\nn\\modules\\module.py:1762: FutureWarning: `encoder_attention_mask` is deprecated and will be removed in version 4.55.0 for `BertSdpaSelfAttention.forward`.\n",
      "  return forward_call(*args, **kwargs)\n",
      "d:\\free_python\\.venv\\Lib\\site-packages\\torch\\nn\\modules\\module.py:1762: FutureWarning: `encoder_attention_mask` is deprecated and will be removed in version 4.55.0 for `BertSdpaSelfAttention.forward`.\n",
      "  return forward_call(*args, **kwargs)\n",
      "d:\\free_python\\.venv\\Lib\\site-packages\\torch\\nn\\modules\\module.py:1762: FutureWarning: `encoder_attention_mask` is deprecated and will be removed in version 4.55.0 for `BertSdpaSelfAttention.forward`.\n",
      "  return forward_call(*args, **kwargs)\n",
      "d:\\free_python\\.venv\\Lib\\site-packages\\torch\\nn\\modules\\module.py:1762: FutureWarning: `encoder_attention_mask` is deprecated and will be removed in version 4.55.0 for `BertSdpaSelfAttention.forward`.\n",
      "  return forward_call(*args, **kwargs)\n",
      "d:\\free_python\\.venv\\Lib\\site-packages\\torch\\nn\\modules\\module.py:1762: FutureWarning: `encoder_attention_mask` is deprecated and will be removed in version 4.55.0 for `BertSdpaSelfAttention.forward`.\n",
      "  return forward_call(*args, **kwargs)\n",
      "d:\\free_python\\.venv\\Lib\\site-packages\\torch\\nn\\modules\\module.py:1762: FutureWarning: `encoder_attention_mask` is deprecated and will be removed in version 4.55.0 for `BertSdpaSelfAttention.forward`.\n",
      "  return forward_call(*args, **kwargs)\n",
      "d:\\free_python\\.venv\\Lib\\site-packages\\torch\\nn\\modules\\module.py:1762: FutureWarning: `encoder_attention_mask` is deprecated and will be removed in version 4.55.0 for `BertSdpaSelfAttention.forward`.\n",
      "  return forward_call(*args, **kwargs)\n",
      "d:\\free_python\\.venv\\Lib\\site-packages\\torch\\nn\\modules\\module.py:1762: FutureWarning: `encoder_attention_mask` is deprecated and will be removed in version 4.55.0 for `BertSdpaSelfAttention.forward`.\n",
      "  return forward_call(*args, **kwargs)\n",
      "d:\\free_python\\.venv\\Lib\\site-packages\\torch\\nn\\modules\\module.py:1762: FutureWarning: `encoder_attention_mask` is deprecated and will be removed in version 4.55.0 for `BertSdpaSelfAttention.forward`.\n",
      "  return forward_call(*args, **kwargs)\n",
      "d:\\free_python\\.venv\\Lib\\site-packages\\torch\\nn\\modules\\module.py:1762: FutureWarning: `encoder_attention_mask` is deprecated and will be removed in version 4.55.0 for `BertSdpaSelfAttention.forward`.\n",
      "  return forward_call(*args, **kwargs)\n",
      "d:\\free_python\\.venv\\Lib\\site-packages\\torch\\nn\\modules\\module.py:1762: FutureWarning: `encoder_attention_mask` is deprecated and will be removed in version 4.55.0 for `BertSdpaSelfAttention.forward`.\n",
      "  return forward_call(*args, **kwargs)\n",
      "d:\\free_python\\.venv\\Lib\\site-packages\\torch\\nn\\modules\\module.py:1762: FutureWarning: `encoder_attention_mask` is deprecated and will be removed in version 4.55.0 for `BertSdpaSelfAttention.forward`.\n",
      "  return forward_call(*args, **kwargs)\n",
      "d:\\free_python\\.venv\\Lib\\site-packages\\torch\\nn\\modules\\module.py:1762: FutureWarning: `encoder_attention_mask` is deprecated and will be removed in version 4.55.0 for `BertSdpaSelfAttention.forward`.\n",
      "  return forward_call(*args, **kwargs)\n",
      "d:\\free_python\\.venv\\Lib\\site-packages\\torch\\nn\\modules\\module.py:1762: FutureWarning: `encoder_attention_mask` is deprecated and will be removed in version 4.55.0 for `BertSdpaSelfAttention.forward`.\n",
      "  return forward_call(*args, **kwargs)\n",
      "d:\\free_python\\.venv\\Lib\\site-packages\\torch\\nn\\modules\\module.py:1762: FutureWarning: `encoder_attention_mask` is deprecated and will be removed in version 4.55.0 for `BertSdpaSelfAttention.forward`.\n",
      "  return forward_call(*args, **kwargs)\n",
      "d:\\free_python\\.venv\\Lib\\site-packages\\torch\\nn\\modules\\module.py:1762: FutureWarning: `encoder_attention_mask` is deprecated and will be removed in version 4.55.0 for `BertSdpaSelfAttention.forward`.\n",
      "  return forward_call(*args, **kwargs)\n",
      "d:\\free_python\\.venv\\Lib\\site-packages\\torch\\nn\\modules\\module.py:1762: FutureWarning: `encoder_attention_mask` is deprecated and will be removed in version 4.55.0 for `BertSdpaSelfAttention.forward`.\n",
      "  return forward_call(*args, **kwargs)\n",
      "d:\\free_python\\.venv\\Lib\\site-packages\\torch\\nn\\modules\\module.py:1762: FutureWarning: `encoder_attention_mask` is deprecated and will be removed in version 4.55.0 for `BertSdpaSelfAttention.forward`.\n",
      "  return forward_call(*args, **kwargs)\n",
      "d:\\free_python\\.venv\\Lib\\site-packages\\torch\\nn\\modules\\module.py:1762: FutureWarning: `encoder_attention_mask` is deprecated and will be removed in version 4.55.0 for `BertSdpaSelfAttention.forward`.\n",
      "  return forward_call(*args, **kwargs)\n",
      "d:\\free_python\\.venv\\Lib\\site-packages\\torch\\nn\\modules\\module.py:1762: FutureWarning: `encoder_attention_mask` is deprecated and will be removed in version 4.55.0 for `BertSdpaSelfAttention.forward`.\n",
      "  return forward_call(*args, **kwargs)\n",
      "d:\\free_python\\.venv\\Lib\\site-packages\\torch\\nn\\modules\\module.py:1762: FutureWarning: `encoder_attention_mask` is deprecated and will be removed in version 4.55.0 for `BertSdpaSelfAttention.forward`.\n",
      "  return forward_call(*args, **kwargs)\n",
      "d:\\free_python\\.venv\\Lib\\site-packages\\torch\\nn\\modules\\module.py:1762: FutureWarning: `encoder_attention_mask` is deprecated and will be removed in version 4.55.0 for `BertSdpaSelfAttention.forward`.\n",
      "  return forward_call(*args, **kwargs)\n",
      "d:\\free_python\\.venv\\Lib\\site-packages\\torch\\nn\\modules\\module.py:1762: FutureWarning: `encoder_attention_mask` is deprecated and will be removed in version 4.55.0 for `BertSdpaSelfAttention.forward`.\n",
      "  return forward_call(*args, **kwargs)\n",
      "d:\\free_python\\.venv\\Lib\\site-packages\\torch\\nn\\modules\\module.py:1762: FutureWarning: `encoder_attention_mask` is deprecated and will be removed in version 4.55.0 for `BertSdpaSelfAttention.forward`.\n",
      "  return forward_call(*args, **kwargs)\n",
      "d:\\free_python\\.venv\\Lib\\site-packages\\torch\\nn\\modules\\module.py:1762: FutureWarning: `encoder_attention_mask` is deprecated and will be removed in version 4.55.0 for `BertSdpaSelfAttention.forward`.\n",
      "  return forward_call(*args, **kwargs)\n",
      "d:\\free_python\\.venv\\Lib\\site-packages\\torch\\nn\\modules\\module.py:1762: FutureWarning: `encoder_attention_mask` is deprecated and will be removed in version 4.55.0 for `BertSdpaSelfAttention.forward`.\n",
      "  return forward_call(*args, **kwargs)\n",
      "d:\\free_python\\.venv\\Lib\\site-packages\\torch\\nn\\modules\\module.py:1762: FutureWarning: `encoder_attention_mask` is deprecated and will be removed in version 4.55.0 for `BertSdpaSelfAttention.forward`.\n",
      "  return forward_call(*args, **kwargs)\n",
      "d:\\free_python\\.venv\\Lib\\site-packages\\torch\\nn\\modules\\module.py:1762: FutureWarning: `encoder_attention_mask` is deprecated and will be removed in version 4.55.0 for `BertSdpaSelfAttention.forward`.\n",
      "  return forward_call(*args, **kwargs)\n",
      "d:\\free_python\\.venv\\Lib\\site-packages\\torch\\nn\\modules\\module.py:1762: FutureWarning: `encoder_attention_mask` is deprecated and will be removed in version 4.55.0 for `BertSdpaSelfAttention.forward`.\n",
      "  return forward_call(*args, **kwargs)\n",
      "d:\\free_python\\.venv\\Lib\\site-packages\\torch\\nn\\modules\\module.py:1762: FutureWarning: `encoder_attention_mask` is deprecated and will be removed in version 4.55.0 for `BertSdpaSelfAttention.forward`.\n",
      "  return forward_call(*args, **kwargs)\n",
      "d:\\free_python\\.venv\\Lib\\site-packages\\torch\\nn\\modules\\module.py:1762: FutureWarning: `encoder_attention_mask` is deprecated and will be removed in version 4.55.0 for `BertSdpaSelfAttention.forward`.\n",
      "  return forward_call(*args, **kwargs)\n",
      "d:\\free_python\\.venv\\Lib\\site-packages\\torch\\nn\\modules\\module.py:1762: FutureWarning: `encoder_attention_mask` is deprecated and will be removed in version 4.55.0 for `BertSdpaSelfAttention.forward`.\n",
      "  return forward_call(*args, **kwargs)\n",
      "d:\\free_python\\.venv\\Lib\\site-packages\\torch\\nn\\modules\\module.py:1762: FutureWarning: `encoder_attention_mask` is deprecated and will be removed in version 4.55.0 for `BertSdpaSelfAttention.forward`.\n",
      "  return forward_call(*args, **kwargs)\n",
      "d:\\free_python\\.venv\\Lib\\site-packages\\torch\\nn\\modules\\module.py:1762: FutureWarning: `encoder_attention_mask` is deprecated and will be removed in version 4.55.0 for `BertSdpaSelfAttention.forward`.\n",
      "  return forward_call(*args, **kwargs)\n",
      "d:\\free_python\\.venv\\Lib\\site-packages\\torch\\nn\\modules\\module.py:1762: FutureWarning: `encoder_attention_mask` is deprecated and will be removed in version 4.55.0 for `BertSdpaSelfAttention.forward`.\n",
      "  return forward_call(*args, **kwargs)\n",
      "d:\\free_python\\.venv\\Lib\\site-packages\\torch\\nn\\modules\\module.py:1762: FutureWarning: `encoder_attention_mask` is deprecated and will be removed in version 4.55.0 for `BertSdpaSelfAttention.forward`.\n",
      "  return forward_call(*args, **kwargs)\n",
      "d:\\free_python\\.venv\\Lib\\site-packages\\torch\\nn\\modules\\module.py:1762: FutureWarning: `encoder_attention_mask` is deprecated and will be removed in version 4.55.0 for `BertSdpaSelfAttention.forward`.\n",
      "  return forward_call(*args, **kwargs)\n",
      "d:\\free_python\\.venv\\Lib\\site-packages\\torch\\nn\\modules\\module.py:1762: FutureWarning: `encoder_attention_mask` is deprecated and will be removed in version 4.55.0 for `BertSdpaSelfAttention.forward`.\n",
      "  return forward_call(*args, **kwargs)\n",
      "d:\\free_python\\.venv\\Lib\\site-packages\\torch\\nn\\modules\\module.py:1762: FutureWarning: `encoder_attention_mask` is deprecated and will be removed in version 4.55.0 for `BertSdpaSelfAttention.forward`.\n",
      "  return forward_call(*args, **kwargs)\n",
      "d:\\free_python\\.venv\\Lib\\site-packages\\torch\\nn\\modules\\module.py:1762: FutureWarning: `encoder_attention_mask` is deprecated and will be removed in version 4.55.0 for `BertSdpaSelfAttention.forward`.\n",
      "  return forward_call(*args, **kwargs)\n",
      "d:\\free_python\\.venv\\Lib\\site-packages\\torch\\nn\\modules\\module.py:1762: FutureWarning: `encoder_attention_mask` is deprecated and will be removed in version 4.55.0 for `BertSdpaSelfAttention.forward`.\n",
      "  return forward_call(*args, **kwargs)\n",
      "d:\\free_python\\.venv\\Lib\\site-packages\\torch\\nn\\modules\\module.py:1762: FutureWarning: `encoder_attention_mask` is deprecated and will be removed in version 4.55.0 for `BertSdpaSelfAttention.forward`.\n",
      "  return forward_call(*args, **kwargs)\n",
      "d:\\free_python\\.venv\\Lib\\site-packages\\torch\\nn\\modules\\module.py:1762: FutureWarning: `encoder_attention_mask` is deprecated and will be removed in version 4.55.0 for `BertSdpaSelfAttention.forward`.\n",
      "  return forward_call(*args, **kwargs)\n",
      "d:\\free_python\\.venv\\Lib\\site-packages\\torch\\nn\\modules\\module.py:1762: FutureWarning: `encoder_attention_mask` is deprecated and will be removed in version 4.55.0 for `BertSdpaSelfAttention.forward`.\n",
      "  return forward_call(*args, **kwargs)\n",
      "d:\\free_python\\.venv\\Lib\\site-packages\\torch\\nn\\modules\\module.py:1762: FutureWarning: `encoder_attention_mask` is deprecated and will be removed in version 4.55.0 for `BertSdpaSelfAttention.forward`.\n",
      "  return forward_call(*args, **kwargs)\n",
      "d:\\free_python\\.venv\\Lib\\site-packages\\torch\\nn\\modules\\module.py:1762: FutureWarning: `encoder_attention_mask` is deprecated and will be removed in version 4.55.0 for `BertSdpaSelfAttention.forward`.\n",
      "  return forward_call(*args, **kwargs)\n",
      "d:\\free_python\\.venv\\Lib\\site-packages\\torch\\nn\\modules\\module.py:1762: FutureWarning: `encoder_attention_mask` is deprecated and will be removed in version 4.55.0 for `BertSdpaSelfAttention.forward`.\n",
      "  return forward_call(*args, **kwargs)\n",
      "d:\\free_python\\.venv\\Lib\\site-packages\\torch\\nn\\modules\\module.py:1762: FutureWarning: `encoder_attention_mask` is deprecated and will be removed in version 4.55.0 for `BertSdpaSelfAttention.forward`.\n",
      "  return forward_call(*args, **kwargs)\n",
      "d:\\free_python\\.venv\\Lib\\site-packages\\torch\\nn\\modules\\module.py:1762: FutureWarning: `encoder_attention_mask` is deprecated and will be removed in version 4.55.0 for `BertSdpaSelfAttention.forward`.\n",
      "  return forward_call(*args, **kwargs)\n",
      "d:\\free_python\\.venv\\Lib\\site-packages\\torch\\nn\\modules\\module.py:1762: FutureWarning: `encoder_attention_mask` is deprecated and will be removed in version 4.55.0 for `BertSdpaSelfAttention.forward`.\n",
      "  return forward_call(*args, **kwargs)\n",
      "d:\\free_python\\.venv\\Lib\\site-packages\\torch\\nn\\modules\\module.py:1762: FutureWarning: `encoder_attention_mask` is deprecated and will be removed in version 4.55.0 for `BertSdpaSelfAttention.forward`.\n",
      "  return forward_call(*args, **kwargs)\n",
      "d:\\free_python\\.venv\\Lib\\site-packages\\torch\\nn\\modules\\module.py:1762: FutureWarning: `encoder_attention_mask` is deprecated and will be removed in version 4.55.0 for `BertSdpaSelfAttention.forward`.\n",
      "  return forward_call(*args, **kwargs)\n",
      "d:\\free_python\\.venv\\Lib\\site-packages\\torch\\nn\\modules\\module.py:1762: FutureWarning: `encoder_attention_mask` is deprecated and will be removed in version 4.55.0 for `BertSdpaSelfAttention.forward`.\n",
      "  return forward_call(*args, **kwargs)\n",
      "d:\\free_python\\.venv\\Lib\\site-packages\\torch\\nn\\modules\\module.py:1762: FutureWarning: `encoder_attention_mask` is deprecated and will be removed in version 4.55.0 for `BertSdpaSelfAttention.forward`.\n",
      "  return forward_call(*args, **kwargs)\n",
      "d:\\free_python\\.venv\\Lib\\site-packages\\torch\\nn\\modules\\module.py:1762: FutureWarning: `encoder_attention_mask` is deprecated and will be removed in version 4.55.0 for `BertSdpaSelfAttention.forward`.\n",
      "  return forward_call(*args, **kwargs)\n",
      "d:\\free_python\\.venv\\Lib\\site-packages\\torch\\nn\\modules\\module.py:1762: FutureWarning: `encoder_attention_mask` is deprecated and will be removed in version 4.55.0 for `BertSdpaSelfAttention.forward`.\n",
      "  return forward_call(*args, **kwargs)\n",
      "d:\\free_python\\.venv\\Lib\\site-packages\\torch\\nn\\modules\\module.py:1762: FutureWarning: `encoder_attention_mask` is deprecated and will be removed in version 4.55.0 for `BertSdpaSelfAttention.forward`.\n",
      "  return forward_call(*args, **kwargs)\n",
      "d:\\free_python\\.venv\\Lib\\site-packages\\torch\\nn\\modules\\module.py:1762: FutureWarning: `encoder_attention_mask` is deprecated and will be removed in version 4.55.0 for `BertSdpaSelfAttention.forward`.\n",
      "  return forward_call(*args, **kwargs)\n",
      "d:\\free_python\\.venv\\Lib\\site-packages\\torch\\nn\\modules\\module.py:1762: FutureWarning: `encoder_attention_mask` is deprecated and will be removed in version 4.55.0 for `BertSdpaSelfAttention.forward`.\n",
      "  return forward_call(*args, **kwargs)\n",
      "d:\\free_python\\.venv\\Lib\\site-packages\\torch\\nn\\modules\\module.py:1762: FutureWarning: `encoder_attention_mask` is deprecated and will be removed in version 4.55.0 for `BertSdpaSelfAttention.forward`.\n",
      "  return forward_call(*args, **kwargs)\n",
      "d:\\free_python\\.venv\\Lib\\site-packages\\torch\\nn\\modules\\module.py:1762: FutureWarning: `encoder_attention_mask` is deprecated and will be removed in version 4.55.0 for `BertSdpaSelfAttention.forward`.\n",
      "  return forward_call(*args, **kwargs)\n",
      "d:\\free_python\\.venv\\Lib\\site-packages\\torch\\nn\\modules\\module.py:1762: FutureWarning: `encoder_attention_mask` is deprecated and will be removed in version 4.55.0 for `BertSdpaSelfAttention.forward`.\n",
      "  return forward_call(*args, **kwargs)\n",
      "d:\\free_python\\.venv\\Lib\\site-packages\\torch\\nn\\modules\\module.py:1762: FutureWarning: `encoder_attention_mask` is deprecated and will be removed in version 4.55.0 for `BertSdpaSelfAttention.forward`.\n",
      "  return forward_call(*args, **kwargs)\n",
      "d:\\free_python\\.venv\\Lib\\site-packages\\torch\\nn\\modules\\module.py:1762: FutureWarning: `encoder_attention_mask` is deprecated and will be removed in version 4.55.0 for `BertSdpaSelfAttention.forward`.\n",
      "  return forward_call(*args, **kwargs)\n",
      "d:\\free_python\\.venv\\Lib\\site-packages\\torch\\nn\\modules\\module.py:1762: FutureWarning: `encoder_attention_mask` is deprecated and will be removed in version 4.55.0 for `BertSdpaSelfAttention.forward`.\n",
      "  return forward_call(*args, **kwargs)\n",
      "d:\\free_python\\.venv\\Lib\\site-packages\\torch\\nn\\modules\\module.py:1762: FutureWarning: `encoder_attention_mask` is deprecated and will be removed in version 4.55.0 for `BertSdpaSelfAttention.forward`.\n",
      "  return forward_call(*args, **kwargs)\n",
      "d:\\free_python\\.venv\\Lib\\site-packages\\torch\\nn\\modules\\module.py:1762: FutureWarning: `encoder_attention_mask` is deprecated and will be removed in version 4.55.0 for `BertSdpaSelfAttention.forward`.\n",
      "  return forward_call(*args, **kwargs)\n",
      "d:\\free_python\\.venv\\Lib\\site-packages\\torch\\nn\\modules\\module.py:1762: FutureWarning: `encoder_attention_mask` is deprecated and will be removed in version 4.55.0 for `BertSdpaSelfAttention.forward`.\n",
      "  return forward_call(*args, **kwargs)\n",
      "d:\\free_python\\.venv\\Lib\\site-packages\\torch\\nn\\modules\\module.py:1762: FutureWarning: `encoder_attention_mask` is deprecated and will be removed in version 4.55.0 for `BertSdpaSelfAttention.forward`.\n",
      "  return forward_call(*args, **kwargs)\n",
      "d:\\free_python\\.venv\\Lib\\site-packages\\torch\\nn\\modules\\module.py:1762: FutureWarning: `encoder_attention_mask` is deprecated and will be removed in version 4.55.0 for `BertSdpaSelfAttention.forward`.\n",
      "  return forward_call(*args, **kwargs)\n",
      "d:\\free_python\\.venv\\Lib\\site-packages\\torch\\nn\\modules\\module.py:1762: FutureWarning: `encoder_attention_mask` is deprecated and will be removed in version 4.55.0 for `BertSdpaSelfAttention.forward`.\n",
      "  return forward_call(*args, **kwargs)\n",
      "d:\\free_python\\.venv\\Lib\\site-packages\\torch\\nn\\modules\\module.py:1762: FutureWarning: `encoder_attention_mask` is deprecated and will be removed in version 4.55.0 for `BertSdpaSelfAttention.forward`.\n",
      "  return forward_call(*args, **kwargs)\n",
      "d:\\free_python\\.venv\\Lib\\site-packages\\torch\\nn\\modules\\module.py:1762: FutureWarning: `encoder_attention_mask` is deprecated and will be removed in version 4.55.0 for `BertSdpaSelfAttention.forward`.\n",
      "  return forward_call(*args, **kwargs)\n",
      "d:\\free_python\\.venv\\Lib\\site-packages\\torch\\nn\\modules\\module.py:1762: FutureWarning: `encoder_attention_mask` is deprecated and will be removed in version 4.55.0 for `BertSdpaSelfAttention.forward`.\n",
      "  return forward_call(*args, **kwargs)\n",
      "d:\\free_python\\.venv\\Lib\\site-packages\\torch\\nn\\modules\\module.py:1762: FutureWarning: `encoder_attention_mask` is deprecated and will be removed in version 4.55.0 for `BertSdpaSelfAttention.forward`.\n",
      "  return forward_call(*args, **kwargs)\n",
      "d:\\free_python\\.venv\\Lib\\site-packages\\torch\\nn\\modules\\module.py:1762: FutureWarning: `encoder_attention_mask` is deprecated and will be removed in version 4.55.0 for `BertSdpaSelfAttention.forward`.\n",
      "  return forward_call(*args, **kwargs)\n",
      "d:\\free_python\\.venv\\Lib\\site-packages\\torch\\nn\\modules\\module.py:1762: FutureWarning: `encoder_attention_mask` is deprecated and will be removed in version 4.55.0 for `BertSdpaSelfAttention.forward`.\n",
      "  return forward_call(*args, **kwargs)\n",
      "d:\\free_python\\.venv\\Lib\\site-packages\\torch\\nn\\modules\\module.py:1762: FutureWarning: `encoder_attention_mask` is deprecated and will be removed in version 4.55.0 for `BertSdpaSelfAttention.forward`.\n",
      "  return forward_call(*args, **kwargs)\n",
      "d:\\free_python\\.venv\\Lib\\site-packages\\torch\\nn\\modules\\module.py:1762: FutureWarning: `encoder_attention_mask` is deprecated and will be removed in version 4.55.0 for `BertSdpaSelfAttention.forward`.\n",
      "  return forward_call(*args, **kwargs)\n",
      "d:\\free_python\\.venv\\Lib\\site-packages\\torch\\nn\\modules\\module.py:1762: FutureWarning: `encoder_attention_mask` is deprecated and will be removed in version 4.55.0 for `BertSdpaSelfAttention.forward`.\n",
      "  return forward_call(*args, **kwargs)\n",
      "d:\\free_python\\.venv\\Lib\\site-packages\\torch\\nn\\modules\\module.py:1762: FutureWarning: `encoder_attention_mask` is deprecated and will be removed in version 4.55.0 for `BertSdpaSelfAttention.forward`.\n",
      "  return forward_call(*args, **kwargs)\n",
      "d:\\free_python\\.venv\\Lib\\site-packages\\torch\\nn\\modules\\module.py:1762: FutureWarning: `encoder_attention_mask` is deprecated and will be removed in version 4.55.0 for `BertSdpaSelfAttention.forward`.\n",
      "  return forward_call(*args, **kwargs)\n",
      "d:\\free_python\\.venv\\Lib\\site-packages\\torch\\nn\\modules\\module.py:1762: FutureWarning: `encoder_attention_mask` is deprecated and will be removed in version 4.55.0 for `BertSdpaSelfAttention.forward`.\n",
      "  return forward_call(*args, **kwargs)\n",
      "d:\\free_python\\.venv\\Lib\\site-packages\\torch\\nn\\modules\\module.py:1762: FutureWarning: `encoder_attention_mask` is deprecated and will be removed in version 4.55.0 for `BertSdpaSelfAttention.forward`.\n",
      "  return forward_call(*args, **kwargs)\n",
      "d:\\free_python\\.venv\\Lib\\site-packages\\torch\\nn\\modules\\module.py:1762: FutureWarning: `encoder_attention_mask` is deprecated and will be removed in version 4.55.0 for `BertSdpaSelfAttention.forward`.\n",
      "  return forward_call(*args, **kwargs)\n",
      "d:\\free_python\\.venv\\Lib\\site-packages\\torch\\nn\\modules\\module.py:1762: FutureWarning: `encoder_attention_mask` is deprecated and will be removed in version 4.55.0 for `BertSdpaSelfAttention.forward`.\n",
      "  return forward_call(*args, **kwargs)\n",
      "d:\\free_python\\.venv\\Lib\\site-packages\\torch\\nn\\modules\\module.py:1762: FutureWarning: `encoder_attention_mask` is deprecated and will be removed in version 4.55.0 for `BertSdpaSelfAttention.forward`.\n",
      "  return forward_call(*args, **kwargs)\n",
      "d:\\free_python\\.venv\\Lib\\site-packages\\torch\\nn\\modules\\module.py:1762: FutureWarning: `encoder_attention_mask` is deprecated and will be removed in version 4.55.0 for `BertSdpaSelfAttention.forward`.\n",
      "  return forward_call(*args, **kwargs)\n",
      "d:\\free_python\\.venv\\Lib\\site-packages\\torch\\nn\\modules\\module.py:1762: FutureWarning: `encoder_attention_mask` is deprecated and will be removed in version 4.55.0 for `BertSdpaSelfAttention.forward`.\n",
      "  return forward_call(*args, **kwargs)\n",
      "d:\\free_python\\.venv\\Lib\\site-packages\\torch\\nn\\modules\\module.py:1762: FutureWarning: `encoder_attention_mask` is deprecated and will be removed in version 4.55.0 for `BertSdpaSelfAttention.forward`.\n",
      "  return forward_call(*args, **kwargs)\n",
      "d:\\free_python\\.venv\\Lib\\site-packages\\torch\\nn\\modules\\module.py:1762: FutureWarning: `encoder_attention_mask` is deprecated and will be removed in version 4.55.0 for `BertSdpaSelfAttention.forward`.\n",
      "  return forward_call(*args, **kwargs)\n",
      "d:\\free_python\\.venv\\Lib\\site-packages\\torch\\nn\\modules\\module.py:1762: FutureWarning: `encoder_attention_mask` is deprecated and will be removed in version 4.55.0 for `BertSdpaSelfAttention.forward`.\n",
      "  return forward_call(*args, **kwargs)\n",
      "d:\\free_python\\.venv\\Lib\\site-packages\\torch\\nn\\modules\\module.py:1762: FutureWarning: `encoder_attention_mask` is deprecated and will be removed in version 4.55.0 for `BertSdpaSelfAttention.forward`.\n",
      "  return forward_call(*args, **kwargs)\n",
      "d:\\free_python\\.venv\\Lib\\site-packages\\torch\\nn\\modules\\module.py:1762: FutureWarning: `encoder_attention_mask` is deprecated and will be removed in version 4.55.0 for `BertSdpaSelfAttention.forward`.\n",
      "  return forward_call(*args, **kwargs)\n",
      "d:\\free_python\\.venv\\Lib\\site-packages\\torch\\nn\\modules\\module.py:1762: FutureWarning: `encoder_attention_mask` is deprecated and will be removed in version 4.55.0 for `BertSdpaSelfAttention.forward`.\n",
      "  return forward_call(*args, **kwargs)\n",
      "d:\\free_python\\.venv\\Lib\\site-packages\\torch\\nn\\modules\\module.py:1762: FutureWarning: `encoder_attention_mask` is deprecated and will be removed in version 4.55.0 for `BertSdpaSelfAttention.forward`.\n",
      "  return forward_call(*args, **kwargs)\n",
      "d:\\free_python\\.venv\\Lib\\site-packages\\torch\\nn\\modules\\module.py:1762: FutureWarning: `encoder_attention_mask` is deprecated and will be removed in version 4.55.0 for `BertSdpaSelfAttention.forward`.\n",
      "  return forward_call(*args, **kwargs)\n",
      "d:\\free_python\\.venv\\Lib\\site-packages\\torch\\nn\\modules\\module.py:1762: FutureWarning: `encoder_attention_mask` is deprecated and will be removed in version 4.55.0 for `BertSdpaSelfAttention.forward`.\n",
      "  return forward_call(*args, **kwargs)\n",
      "d:\\free_python\\.venv\\Lib\\site-packages\\torch\\nn\\modules\\module.py:1762: FutureWarning: `encoder_attention_mask` is deprecated and will be removed in version 4.55.0 for `BertSdpaSelfAttention.forward`.\n",
      "  return forward_call(*args, **kwargs)\n",
      "d:\\free_python\\.venv\\Lib\\site-packages\\torch\\nn\\modules\\module.py:1762: FutureWarning: `encoder_attention_mask` is deprecated and will be removed in version 4.55.0 for `BertSdpaSelfAttention.forward`.\n",
      "  return forward_call(*args, **kwargs)\n",
      "d:\\free_python\\.venv\\Lib\\site-packages\\torch\\nn\\modules\\module.py:1762: FutureWarning: `encoder_attention_mask` is deprecated and will be removed in version 4.55.0 for `BertSdpaSelfAttention.forward`.\n",
      "  return forward_call(*args, **kwargs)\n",
      "d:\\free_python\\.venv\\Lib\\site-packages\\torch\\nn\\modules\\module.py:1762: FutureWarning: `encoder_attention_mask` is deprecated and will be removed in version 4.55.0 for `BertSdpaSelfAttention.forward`.\n",
      "  return forward_call(*args, **kwargs)\n",
      "d:\\free_python\\.venv\\Lib\\site-packages\\torch\\nn\\modules\\module.py:1762: FutureWarning: `encoder_attention_mask` is deprecated and will be removed in version 4.55.0 for `BertSdpaSelfAttention.forward`.\n",
      "  return forward_call(*args, **kwargs)\n",
      "d:\\free_python\\.venv\\Lib\\site-packages\\torch\\nn\\modules\\module.py:1762: FutureWarning: `encoder_attention_mask` is deprecated and will be removed in version 4.55.0 for `BertSdpaSelfAttention.forward`.\n",
      "  return forward_call(*args, **kwargs)\n",
      "d:\\free_python\\.venv\\Lib\\site-packages\\torch\\nn\\modules\\module.py:1762: FutureWarning: `encoder_attention_mask` is deprecated and will be removed in version 4.55.0 for `BertSdpaSelfAttention.forward`.\n",
      "  return forward_call(*args, **kwargs)\n",
      "d:\\free_python\\.venv\\Lib\\site-packages\\torch\\nn\\modules\\module.py:1762: FutureWarning: `encoder_attention_mask` is deprecated and will be removed in version 4.55.0 for `BertSdpaSelfAttention.forward`.\n",
      "  return forward_call(*args, **kwargs)\n",
      "d:\\free_python\\.venv\\Lib\\site-packages\\torch\\nn\\modules\\module.py:1762: FutureWarning: `encoder_attention_mask` is deprecated and will be removed in version 4.55.0 for `BertSdpaSelfAttention.forward`.\n",
      "  return forward_call(*args, **kwargs)\n",
      "d:\\free_python\\.venv\\Lib\\site-packages\\torch\\nn\\modules\\module.py:1762: FutureWarning: `encoder_attention_mask` is deprecated and will be removed in version 4.55.0 for `BertSdpaSelfAttention.forward`.\n",
      "  return forward_call(*args, **kwargs)\n",
      "d:\\free_python\\.venv\\Lib\\site-packages\\torch\\nn\\modules\\module.py:1762: FutureWarning: `encoder_attention_mask` is deprecated and will be removed in version 4.55.0 for `BertSdpaSelfAttention.forward`.\n",
      "  return forward_call(*args, **kwargs)\n",
      "d:\\free_python\\.venv\\Lib\\site-packages\\torch\\nn\\modules\\module.py:1762: FutureWarning: `encoder_attention_mask` is deprecated and will be removed in version 4.55.0 for `BertSdpaSelfAttention.forward`.\n",
      "  return forward_call(*args, **kwargs)\n",
      "d:\\free_python\\.venv\\Lib\\site-packages\\torch\\nn\\modules\\module.py:1762: FutureWarning: `encoder_attention_mask` is deprecated and will be removed in version 4.55.0 for `BertSdpaSelfAttention.forward`.\n",
      "  return forward_call(*args, **kwargs)\n",
      "d:\\free_python\\.venv\\Lib\\site-packages\\torch\\nn\\modules\\module.py:1762: FutureWarning: `encoder_attention_mask` is deprecated and will be removed in version 4.55.0 for `BertSdpaSelfAttention.forward`.\n",
      "  return forward_call(*args, **kwargs)\n",
      "d:\\free_python\\.venv\\Lib\\site-packages\\torch\\nn\\modules\\module.py:1762: FutureWarning: `encoder_attention_mask` is deprecated and will be removed in version 4.55.0 for `BertSdpaSelfAttention.forward`.\n",
      "  return forward_call(*args, **kwargs)\n",
      "d:\\free_python\\.venv\\Lib\\site-packages\\torch\\nn\\modules\\module.py:1762: FutureWarning: `encoder_attention_mask` is deprecated and will be removed in version 4.55.0 for `BertSdpaSelfAttention.forward`.\n",
      "  return forward_call(*args, **kwargs)\n",
      "d:\\free_python\\.venv\\Lib\\site-packages\\torch\\nn\\modules\\module.py:1762: FutureWarning: `encoder_attention_mask` is deprecated and will be removed in version 4.55.0 for `BertSdpaSelfAttention.forward`.\n",
      "  return forward_call(*args, **kwargs)\n",
      "d:\\free_python\\.venv\\Lib\\site-packages\\torch\\nn\\modules\\module.py:1762: FutureWarning: `encoder_attention_mask` is deprecated and will be removed in version 4.55.0 for `BertSdpaSelfAttention.forward`.\n",
      "  return forward_call(*args, **kwargs)\n"
     ]
    }
   ],
   "source": [
    "\n",
    "# embedding_map={ [(data:[],embeddings=[])] * whatever }\n",
    "#ill be appending the data like this: (para data,embedding)\\\n",
    "\n",
    "# print(answers[4])\n",
    "# print(\"---------------\")\n",
    "# print(answers[5])\n",
    "# emb=model.encode(answers[4])\n",
    "# emb2=model.encode(answers[5])\n",
    "# print(cosine_similarity([emb],[emb2])[0][0])\n",
    "summaries=answers\n",
    "#i also have all the parag data in the datas arr\n",
    "embedding_map={}\n",
    "THRESHOLD=0.7\n",
    "group_index = 0\n",
    "\n",
    "for i in range(len(summaries)):\n",
    "    embed=[model.encode(summaries[i])] #im only encoding summaries rn, maybe ill do datas only later or both idk\n",
    "    matched=False\n",
    "\n",
    "    for j in range(len(embedding_map)):\n",
    "        summarized_data,embedding,para_data=embedding_map[j][0]\n",
    "        sim=cosine_similarity(embedding,embed)[0][0]\n",
    "        if sim>THRESHOLD:\n",
    "            embedding_map[j].append( (summaries[i],embed,datas[i]) )\n",
    "            matched = True\n",
    "    if not matched:\n",
    "        embedding_map[group_index] = [ ( summaries[i],embed,datas[i] ) ]\n",
    "        group_index+=1\n",
    "\n"
   ]
  },
  {
   "cell_type": "code",
   "execution_count": 15,
   "id": "fc126a4b",
   "metadata": {},
   "outputs": [
    {
     "name": "stdout",
     "output_type": "stream",
     "text": [
      "\n",
      ".Group 4:\n",
      "-  The Policy is based on the Standard Definitions and Specific Definitions of words and terms . The Policy will be amended to reflect the meaning of the words and phrases mentioned below . The policies are based on these definitions and the specific meanings of words . The policy is based upon the Standard Definition and Specific definitions of words or terms .\n",
      "-  Endorsement means any writing on a Policy Schedule or Policy, in addition to its normal Policy Schedule/Policy wording/Standard Terms and Conditions . It may be added when Policy is prepared, or subsequently . Provided any Service Level Agreement [SLA] or Agreement/MOU laying down various service levels shall not be treated as Endorsements .\n",
      "-  Policy or Contract means the Proposal, the Policy Schedule, along with these Terms and Conditions issued to the Insured . Policy or contract means the proposal, the policy Schedule, the . Policy Schedule and these Terms of the  Insured and any annexures and/or Endorse\n",
      "-  Policy Year is the period of the year that the government\n",
      "\n",
      ".Group 5:\n",
      "-  Accident means sudden, unforeseen and involuntary event caused by external, visible and violent means . Acc\n",
      "-  Injury means Accidental physical bodily harm excluding Illness or disease solely and directly caused by external, violent, visible and evident means . Illness  verified and certified by\n",
      "-  Accidental shall be construed as per definition of Accident in\n",
      "\n",
      ".Group 6:\n",
      "-  Any one Illness means continuous Period of Illness . It includes relapse within 45 days from the date of last consultation with the Hospital/Nursing Home where treatment was taken . 2\n",
      "-  Hospitalization is admission in a Hospital for a minimum period of 24 consecutive In-patient Care hours . Hospitalization means admission in hospital for a period of less than 24 consecutive hours .\n",
      "-  Illness means a sickness or a disease or pathological condition leading to the impairment of normal physiological function and requires medical treatment . A chronic condition is defined as a disease, Illness, or Injury that has one or more of the following characteristics: it needs ongoing or long-term monitoring through consultations, examinations, check-ups, and /or tests . It needs ongoing . or long .term monitoring . It is likely to respond quickly to treatment . It recurs or is likely . to recur . It continues indefinitely . It requires rehabilitation for the patient or for the . patient to be specially trained to cope with it .\n",
      "-  Inpatient care is defined as per Standard Definition of Inpatient\n",
      "-  Rehabilitation is a treatment that combines therapies such as physical, occupational and speech therapy . Treatment must take place in a licensed rehabilitation facility and start within 14 days of discharge from acute medical and/or surgical treatment . Treatment aims to restore original form or function after an acute Illness, Injury or surgery .\n",
      "-  The Medical Expenses incurred during the 60 days immediately before You were Hospitalized, provided that such expenses were incurred for the same Illness/Injury for which subsequent Hospitalization was required, provided . Such expenses were for the very same Illnesses/Injuries for which subsequently\n",
      "-  The Medical Expenses incurred during the 45 days immediately before You were Hospitalized, provided that such Expenses were incurred for the same Illness/Injury for which subsequent Hospitalization was required, provided . Such Expenses are incurred for such an Illness or injury .\n",
      "\n",
      ".Group 7:\n",
      "-  AYUSH Hospital is a healthcare facility where medical/surgical/para-surgical treatment procedures and interventions are carried out by AYush Medical Practitioner(s) It must comply with all the following criterion:  Having at least 5 Inpatient beds;  having qualified AYUS Medical Practitionser in charge round the clock;  Having dedicated AYushes therapy sections as required and/or has dedicated AyUSH therapy sections . The hospital must comply with all the criteria:  Having at least five Inpatient  beds; having qualified AYHS Medical Practicioner in charge round the clock; Having dedicated A\n",
      "-  The AYUSH Day Care Centre must comply with all the following criterion: qualified registered AYush Medical Practitioner(s) in charge . The centre must comply with all the criteria: having qualified registered A.USH Medical Practitionser(S) in . charge; having dedicated AYUS therapy sections as required and/or has equipped operation theatre where . operations are to be carried out;  maintaining daily records of the patients and making them accessible to the  Insurance Company’s . representative .\n",
      "-  Hospital is a hospital which provides Inpatient care and Day Care Treatment of Illness and/or injuries . It complies with all minimum criteria as under: qualified nursing staff under its employment round the clock; qualified medical Practitioner(s) in charge round theclock; has at least 10 Inpatient beds in towns having a population of less than 10,00,000 and at least 15 Inpatient beds in all other places . The hospital has a fully equipped operation theatre of its own where surgical procedures are carried out .\n",
      "-  Ayurvedic / Homeopathic Hospitalization Expenses are up to In-patient Hospitalization Sum Insured . Hospitalization costs are up until 24 hours . Medical expenses for Ayurvingic and Homeopathic treatment include room rent, boarding expenses, nursing care, consulting fees and medical consumables . Our maximum liability is up to the In- Patient Hospitalization sum Insured. We will pay You:  In-patient Treatment- Medical Expenses for Ayarvedic and . Homeopathic .\n",
      "\n",
      ".Group 8:\n",
      "-  Cashless Facility is a facility extended by the Insurer to the Insured where the payments, of the costs of  treatment undergone by the . Insured . Payments, of  the costs . of the . treatment undergone . by the  provider by the insurer, are directly made to\n",
      "-  Hospitals or health care providers enlisted by an insurer, TPA or jointly by an Insurer and TPA to provide medical services to an Insured by a Cashless Facility .\n",
      "-  Inpatient cash benefit is payable when You receive Inpatient treatment free of charge for a medical condition that is covered by us . Cover is limited to the amount and maximum number of nights specified in the Table of Benefits .\n",
      "\n",
      ".Group 9:\n",
      "-  Condition Precedent means a Policy term or condition upon which Insurer's liability under the Policy is conditional upon . 6.6.6:\n",
      "\n",
      ".Group 10:\n",
      "-  Congenital Anomaly means a condition which is present since birth, and which is abnormal with reference to form, structure or position . Internal Congenitals Anomaly is not in the visible and accessible parts of the body . External Congencial Anomaly- Congenical Anomaly which is in the external body is in visible and external parts of body .\n",
      "\n",
      ".Group 11:\n",
      "-  A Co-Payment is a cost-sharing requirement under a health insurance Policy . A Co -Payment does not reduce the Sum Insured . A co-Payments are a cost sharing requirement under the policy .\n",
      "-  Deductible means a cost sharing requirement under a health insurance Policy . Insurers will not be liable for a specified amount in case of indemnity policies and for a number of days/hours in case  of Hospital cash policies .\n",
      "-  We will reimburse the amount as per the limits specified in the Policy Schedule . Payment under this benefit will not reduce the base sum Insured mentioned in Policy Schedule. Payment under the benefit will . not reduce base sum . Payment will not . reduce the . base sum mentioned in the policy . We shall not be iable for any other ancillary or peripheral costs or expenses . We will not be . be liable for any additional ancilliary or peripheral . costs or . expenses .\n",
      "-  Travel costs for accompanying person are included in the insurance scheme . Insured family members are also required to be with family members at risk of death or who has died .\n",
      "-  Global Health Care Policy extended to pay the expenses incurred for the below mentioned Dental related covers . Mandatory Co-Payment of 20% on each and every claim . Policy extended with terms, conditions and definitions, exclusions, up to the limit specified in the Policy Schedule .\n",
      "\n",
      ".Group 12:\n",
      "-  The bonus is an increase or addition in the Sum Insured granted by the insurer without an associated increase in premium . 9.6% increase\n",
      "-  Sum Insured or SI means the amount stated in the Policy Schedule against each relevant Section . Sum Insurance or SI is the amount of liability under this Policy .\n",
      "\n",
      ".Group 13:\n",
      "-  A Day Care Centre must comply with all minimum criteria as under: qualified nursing staff under its employment . It must comply: has qualified nursing staff; qualified Medical Practitioner (s) in charge; has a fully equipped operation theatre of its own where surgical procedures are carried out . It also must maintain daily records of patients and will make these accessible to the Insurance Company’s authorized personnel .\n",
      "-  Hospital is a hospital which provides Inpatient care and Day Care Treatment of Illness and/or injuries . It complies with all minimum criteria as under: qualified nursing staff under its employment round the clock; qualified medical Practitioner(s) in charge round theclock; has at least 10 Inpatient beds in towns having a population of less than 10,00,000 and at least 15 Inpatient beds in all other places . The hospital has a fully equipped operation theatre of its own where surgical procedures are carried out .\n",
      "-  The Insured is not admitted as a Day Care Treatment or Inpatient . The Insurers are not  admitted as a Day care Treatment or inpatient .\n",
      "-  Qualified Nurse means a person who holds a valid registration from the Nursing Council of India or the Nursing Council of any state in India .\n",
      "\n",
      ".Group 14:\n",
      "-  Day Care Treatment is a form of treatment that is taken in less than 24 hours . It is not included in the scope of this definition . Day care treatment is not considered a form that is not taken on an out-patient basis .\n",
      "-  Inpatient care means treatment for which the Insured has to stay in a Hospital for more than 24 hours for a covered event .\n",
      "-  The Insured is not admitted as a Day Care Treatment or Inpatient . The Insurers are not  admitted as a Day care Treatment or inpatient .\n",
      "-  Only treatment commencing within 24 hours of the Emergency event will be covered . Only treatment begins within 24 days of the event .\n",
      "-  Emergency treatment outside area of cover is treatment for medical emergencies which occur during business or holiday trips outside Your area of . cover . Cover is provided for up to six weeks per trip within the maximum benefit amount . Treatment by a Doctor must start within 24 hours of an Emergency event . Treatment is not provided for curative or follow-up non-Emergency treatment, even if You are  deemed unable to travel to a country within Your geographical area of Cover . Nor does it extend to charges relating to maternity, pregnancy, childbirth or any complications of pregnancy or childbirth .\n",
      "-  Rehabilitation is a treatment that combines therapies such as physical, occupational and speech therapy . Treatment must take place in a licensed rehabilitation facility and start within 14 days of discharge from acute medical and/or surgical treatment . Treatment aims to restore original form or function after an acute Illness, Injury or surgery .\n",
      "\n",
      ".Group 15:\n",
      "-  Dental Treatment means treatment related to teeth or structures supporting teeth . Includes examinations, fillings, crowns, extractions and surgery .\n",
      "-  Surgery or Surgical Procedure is performed in a Hospital or Day Care Centre by a Medical Practitioner . It is performed by a medical Practitioners . It means manual and / or operative procedure (s) required for treatment of an Illness or Injury .\n",
      "-  Dental prescription drugs outside India refers to those prescribed by a dentist for the treatment of dental inflammation or infection . The prescription drugs must be proven to be effective for the condition and recognized by the pharmaceutical regulator in a given country . They do not include mouthwashes, fluoride products, antiseptic gels and\n",
      "-  Dental surgery outside India includes the surgical extraction of teeth, as well as other tooth-related surgical procedures such as apicoectomy and dental prescription drugs . All investigative procedures that establish the need for dental surgery such as laboratory tests, X-rays, CT scans and MRI(s) are included under this benefit .\n",
      "-  Dental treatment outside India includes an annual check-up, simple fillings related to cavities or decay, root canal treatment and dental prescription drugs .\n",
      "-  Emergency Inpatient Dental Treatment arising from an Accident refers to acute Emergency Dental treatment that is due to a serious Accident and requires admission to Hospital . The treatment must take place within 24 hours of the Accident\n",
      "-  Periodontics refers to Dental Treatment related to gum disease . Periodontic treatment is often used\n",
      "-  Speech therapy refers to treatment carried out by a qualified speech therapist to treat diagnosed physical impairments . This includes conditions such as nasal obstruction, neurogenic impairment (e.g. lingual paresis) or articulation disorders involving the oral structure (e .g. cle\n",
      "-  Dental treatment outside India will be paid up to the limits specified in the policy . Dental treatments include annual check-up, simple fillings related to cavities or decay .\n",
      "-  All investigative procedures that establish the need for dental surgery such as X-rays, X-ray, CT scans and MRI(s) are included under this\n",
      "\n",
      ".Group 16:\n",
      "-  Policy will be void and premium paid thereon forfeited to the Company . Policy will not be used in the event of misrepresentation, mis-description or non-disclosure of any material\n",
      "-  We will reimburse the amount as per the limits specified in the Policy Schedule . Payment under this benefit will not reduce the base sum Insured mentioned in Policy Schedule. Payment under the benefit will . not reduce base sum . Payment will not . reduce the . base sum mentioned in the policy . We shall not be iable for any other ancillary or peripheral costs or expenses . We will not be . be liable for any additional ancilliary or peripheral . costs or . expenses .\n",
      "-  Deductible is Optional and the amount will apply as specified in the Policy\n",
      "\n",
      ".Group 17:\n",
      "-  Emergency Care means management for an Illness or Injury which results in symptoms which occur suddenly and  unexpectedly, and requires immediate care by a Medical Practitioner . Emergency Care is management for a sudden illness or injury which results  occurring \n",
      "-  Medically Necessary Treatment is required for the medical management of the Illness or Injury suffered by the Insured . The level of care necessary to provide safe, adequate and appropriate medical care in the appropriate medical conditions . The medical community in India is not required to provide appropriate medical treatment . The treatment, tests, medication, or stay in Hospital or part of a stay in hospital is required .\n",
      "-  Surgery or Surgical Procedure is performed in a Hospital or Day Care Centre by a Medical Practitioner . It is performed by a medical Practitioners . It means manual and / or operative procedure (s) required for treatment of an Illness or Injury .\n",
      "-  Emergency Inpatient Dental Treatment arising from an Accident refers to acute Emergency Dental treatment that is due to a serious Accident and requires admission to Hospital . The treatment must take place within 24 hours of the Accident\n",
      "\n",
      ".Group 18:\n",
      "-  Grace Period is specified period of time immediately following premium due date . Coverage is not available for the period for which no premium is received . Coverage of pre-existing diseases is not covered for the time no premium has been given .\n",
      "-  Policy Period means period from risk inception date [RID] to risk end date [RED], as mentioned in the Policy Schedule\n",
      "-  Cover does not cover curative or follow-up non-Emergency treatment . Nor does it extend to charges relating to maternity, pregnancy, birth or complications of pregnancy or childbirth . Exclusion is not provided for curative treatment even if You are deemed unable to travel .\n",
      "-  30 days waiting period would be applicable for all claims under out-patient except those arising out of Accidental Injury . Dental treatment expenses will not be covered . Out-patient Dental Treatment expenses will also not be paid .\n",
      "-  30 days waiting period would be applicable for all claims under Alternate/Complementary Treatment Expenses except those arising out of Accidental Injury . Exclusions:  Accidental Injury, Accident injuries, and ad\n",
      "-  30 days waiting period would be applicable for all claims except those arising out of Accidental Injury . 30 days period would not be applied during  subsequent renewals .\n",
      "-  Expenses related to the treatment of a Pre-Existing Disease (PED) and its direct complications shall be excluded until the expiry of 36 months of continuous coverage after the date of inception of the first Global Health Care Policy with Us . Coverage under the Policy after the expiriry of the Policy is subject to the same declaration at the time of application and accepted by Insurer . Coverage after the . expiry . of 36 . months for any Pre-existing Disease is subject . to the . same  being declared at the . time of applying and accepted .\n",
      "-  Expenses related to the treatment of any Illness within 30 days from the first Policy commencement date shall be excluded . Expenses  excluded except claims arising due to an Accident, provided the same are covered . Exclusion does not apply if the Insured has Continuous Coverage for more than twelve months .\n",
      "\n",
      ".Group 19:\n",
      "-  Intensive Care Unit is a section, ward or wing of a Hospital which is under the constant supervision of a dedicated Medical Practitioner . Intensive care unit is a unit which is specially equipped for continuous monitoring of patients in a critical condition .\n",
      "-  ICU Charges means the amount charged by a Hospital towards ICU expenses . The amount charged is the amount paid by a hospital towards ICu expenses . ICU charges include the expenses for ICU bed, general medical support services provided to any ICU\n",
      "\n",
      ".Group 20:\n",
      "-  Kidney Failure Requiring Regular Dialysis is a result of chronic irreversible failure of both kidneys . Diagnosis has to be confirmed by a Specialist Medical Practitioner . Kidney failure requires regular  renal  dialysis or renal transplantation . Kidneys are either either regular  dialysysis (hemodialysis or peritoneal dialysis) or renal transplantation is recomm\n",
      "\n",
      ".Group 21:\n",
      "-  Maternity expenses means medical treatment expenses traceable to childbirth . Medical expenses towards lawful medical termination of pregnancy during the Policy Period . Costs towards lawful medical termination of pregnancy during the Policy period .\n",
      "-  Medical Expenses are no more than would have been payable if the Insured had not been Insured . Medical Expense is no more expensive than other Hospitals or Medical Practitioners in the same locality would have charged for the same treatment .\n",
      "-  Pre-Hospitalization Medical Expenses is a pre-defined number of days prior to the Insured’s Hospitalization of the Insurers . Pre-hospitalization Medical expenses are incurred for the same condition for which the Insuring’�s . Hospitalization is admissible by the Insurance Company .\n",
      "-  Post-Hospitalization Medical Expenses is a pre-defined number of days after the Insured is discharged from the Hospital . Such expenses are for the same condition for which the Insurers’s Hospitalization was required, and the Inpatient Hospitalization claim for such Hospitalization is admissible by the Insurance Company .\n",
      "-  The Medical Expenses incurred during the 180 days immediately after You were discharged post Hospitalization . Such costs are incurred in respect of the same Illness/Injury for which the earlier Hospitalization was required, and We have accepted an Inpatient Hospitalization claim under Inpatient hospitalization Treatment\n",
      "-  We will pay You the medical expenses listed under Section C, Part A I-1- In-patient Hospitalization Treatment . We will also pay You medical expenses as listed under section C, . Section C is listed under . Section A is listed as . Inpatient in a Hospital or Day Care Centre but not in\n",
      "-  The Medical Expenses incurred during the 45 days immediately before You were Hospitalized, provided that such Expenses were incurred for the same Illness/Injury for which subsequent Hospitalization was required, provided . Such Expenses are incurred for such an Illness or injury .\n",
      "-  The Medical Expenses incurred during the 90 days immediately after You were discharged post Hospitalization . Such costs are incurred in respect of the same Illness/Injury for which the earlier Hospitalization was required, and We have accepted an Inpatient Hospitalization claim under Inpatient . Treatment .\n",
      "-  We will also reimburse the expenses incurred on an ambulance offered by a healthcare or ambulance service . We will pay for the expenses of transferring You from the Hospital where You were admitted initially to another Hospital with higher medical facilities . Claim under this section shall be payable by Us only when:  Such life threatening Emergency condition is certified by the Medical Practitioner, and such life threatening emergency condition is . Such life threatening condition is cert\n",
      "-  Cover does not cover curative or follow-up non-Emergency treatment . Nor does it extend to charges relating to maternity, pregnancy, birth or complications of pregnancy or childbirth . Exclusion is not provided for curative treatment even if You are deemed unable to travel .\n",
      "-  If You contract any Illness/ sustain any Injury which necessitates Hospitalization, We will pay reasonable and customary expenses up to the limits specified in the policy . We will cover hotel accommodation costs if You choose to be medically  repatriated to   Your home country for treatment, provided that:    your home country is within  Your geographical area of cover .\n",
      "-  Expenses incurred towards treatment in any Hospital or by any Medical Practitioner or any other provider are not admissible . Expenses up to the stage of stabilization are payable but not the complete claim . Expense up to stage of stabilized are payable in case of life threatening situations .\n",
      "-  Expenses related to any unproven treatment, services and supplies for or in connection with any treatment . 16) Unproven Treatments are treatments, procedures or supplies that lack significant medical documentation to support their effectiveness .\n",
      "-  Expenses traceable to childbirth (including complicated deliveries and caesarean sections) except ectopic pregnancy except ectopia pregnancy . Expenses towards miscarriage (unless due to an Accident) and lawful medical termination of pregnancy during the Policy Period .\n",
      "\n",
      ".Group 22:\n",
      "-  Medical Advice means any consultation or advice from a Medical Practitioner . 26. 26. Medical Advice is any consultation with a\n",
      "-  Medical Practitioner means a person who holds a valid registration from the Medical Council of any State . Medical Practitionser means person who is entitled to practice medicine within its jurisdiction . Medical practitioner means person with valid registration .\n",
      "-  Medical Practitioners/Doctor (for International Cover):-   Medical Practitioner/Doctor for international practice . Medical Practitionsers/Doctors for international Practice are Doctors who are licensed to practise medicine under the law of the country in which Medically\n",
      "\n",
      ".Group 23:\n",
      "-  Health insurance policyholders can transfer credit gained for pre-existing conditions and time bound exclusions, with the same insurer . Migration means, the right accorded to health insurance policyholder .\n",
      "-  Portability means the right to transfer credit gained for pre-existing conditions and time-bound exclusions from one insurer to another .\n",
      "-  Insurance can be renewed on mutual consent with a provision for treating the renewal continuous for the purpose of gaining credit for pre-existing diseases . Insurance companies must also offer credit for  pre--existing diseases, time-bound exclus\n",
      "-  Policy or Contract means the Proposal, the Policy Schedule, along with these Terms and Conditions issued to the Insured . Policy or contract means the proposal, the policy Schedule, the . Policy Schedule and these Terms of the  Insured and any annexures and/or Endorse\n",
      "-  If You contract any Illness/ sustain any Injury which necessitates Hospitalization, We will pay reasonable and customary expenses up to the limits specified in the policy . We will cover hotel accommodation costs if You choose to be medically  repatriated to   Your home country for treatment, provided that:    your home country is within  Your geographical area of cover .\n",
      "-  Travel costs for accompanying person are included in the insurance scheme . Insured family members are also required to be with family members at risk of death or who has died .\n",
      "\n",
      ".Group 24:\n",
      "-  New Born Baby means baby born during the Policy Period and is aged up to 90 days . 32. New\n",
      "\n",
      ".Group 25:\n",
      "-  Non-Network Provider means any Hospital, Day Care Centre or other provider that is not part of the Network . Non\n",
      "\n",
      ".Group 26:\n",
      "-  Notification of claim is the process of intimating a claim to the insurer or TPA . Notification is the most common method of communication .\n",
      "\n",
      ".Group 27:\n",
      "-  Pre-Existing Disease means any condition, ailment or Injury or disease diagnosed by a physician within 48 months prior to the effective date of the Policy issued by the Insurance Company . Pre-existing Disease is any condition or injury that is/are diagnosed by an individual within 48 years prior to that date of that date .\n",
      "-  Pre-Hospitalization Medical Expenses is a pre-defined number of days prior to the Insured’s Hospitalization of the Insurers . Pre-hospitalization Medical expenses are incurred for the same condition for which the Insuring’�s . Hospitalization is admissible by the Insurance Company .\n",
      "-  Insurance can be renewed on mutual consent with a provision for treating the renewal continuous for the purpose of gaining credit for pre-existing diseases . Insurance companies must also offer credit for  pre--existing diseases, time-bound exclus\n",
      "-  Expenses related to the treatment of a Pre-Existing Disease (PED) and its direct complications shall be excluded until the expiry of 36 months of continuous coverage after the date of inception of the first Global Health Care Policy with Us . Coverage under the Policy after the expiriry of the Policy is subject to the same declaration at the time of application and accepted by Insurer . Coverage after the . expiry . of 36 . months for any Pre-existing Disease is subject . to the . same  being declared at the . time of applying and accepted .\n",
      "-  Expenses related to the treatment of any Illness within 30 days from the first Policy commencement date shall be excluded . Expenses  excluded except claims arising due to an Accident, provided the same are covered . Exclusion does not apply if the Insured has Continuous Coverage for more than twelve months .\n",
      "\n",
      ".Group 28:\n",
      "-  Reasonable and Customary Charges means the charges for services or supplies are the standard charges for the specific provider . The charges are the charges  consistent with the prevailing charges in the geographical area for identical or similar services .\n",
      "-  The Company agrees to pay Reasonable and Customary expenses in respect of an admissible claim . The Company hereby agrees to cover Reasonable or Customary costs in respect to an admissable claim .\n",
      "\n",
      ".Group 29:\n",
      "-  Room Rent is the amount charged by a Hospital towards Room and Boarding expenses . Room Rent means the amount . charged by\n",
      "-  The Company will pay up to actual ICU expenses provided by Hospital . Room rent and Boarding expenses as provided by the Hospital/Nursing Home without any sub limit . Surgeon, anesthetist, Medical Practitioner, Consultants, Specialists Fees . Surgeons, Anesthetists, Medical Consultants and Specialists fees . The Company pays up to the actual ICu expenses provided . The policy applies to all medical expenses incurred in India . The Policy Policy is based on the above above . The policies are subject to the policy of Inpatient Hospitalization within India . For more information, visit the policy policy below . The guidelines are published by the Company. For more details, visit www.\n",
      "\n",
      ".Group 30:\n",
      "-  Unproven/Experimental treatment means treatment is not based on established medical practice in India . Unproven treatment means the treatment is treatment not based  on established practice .\n",
      "-  Expenses related to any unproven treatment, services and supplies for or in connection with any treatment . 16) Unproven Treatments are treatments, procedures or supplies that lack significant medical documentation to support their effectiveness .\n",
      "\n",
      ".Group 31:\n",
      "-  Section B: Describes the use of the language\n",
      "\n",
      ".Group 32:\n",
      "-  Act of Terrorism is an act or thing by any person or group(s) of persons, whether acting alone or on behalf of or in connection with or in connivance with or at the instance or instigation of any person . Act of terrorism is an attempt to threaten the unity, integrity, security or sovereignty of India . The act of terrorism can be committed for political, religious or ideological purposes . The Act of Terror is a form of terrorism, not a form that is committed by a group or a group of people . The definition of terrorism has been defined as terrorism .\n",
      "\n",
      ".Group 33:\n",
      "-  The accused are accused of attempting to intimidate, injure, damage or destroy any property or disruption of any supplies or services essential to the life of the community . The accused also threatened to kill or injure any person and threatens to kill such person in order to compel the Government or any other  person to do or abstain from doing any act . The alleged attack was carried out in the name of the Indian National Security Council . The council has been accused of being ‘aware of the fact that the Government of India, any State Government or an of their agencies, or any of their . agencies, have been accused .\n",
      "\n",
      ".Group 34:\n",
      "-  Complementary treatment refers to therapeutic and diagnostic treatment outside of traditional Western medicine . Chirky treatment is also known as osteopathy, Chinese herbal medicine, homeopathy, acupuncture and acupuncture .\n",
      "-  Therapist refers to chiropractor, osteopath, Chinese herbalist, homeopath, acupuncturist, physiotherapist, speech therapist, occupational therapist or oculomotor therapist .\n",
      "\n",
      ".Group 35:\n",
      "-  Dental prostheses outside India includes crowns, inlays, onlays and implants . All necessary and ancillary treatment required required .\n",
      "-  Dental surgery outside India includes the surgical extraction of teeth, as well as other tooth-related surgical procedures such as apicoectomy and dental prescription drugs . All investigative procedures that establish the need for dental surgery such as laboratory tests, X-rays, CT scans and MRI(s) are included under this benefit .\n",
      "-  Dental treatment outside India includes an annual check-up, simple fillings related to cavities or decay, root canal treatment and dental prescription drugs .\n",
      "-  Oral and maxillofacial surgical procedures outside India are performed in a Hospital by an oral and maxillsofacial surgeon . Oral pathology, facial bone fractures, congenital jaw deformities, salivary gland diseases and tumours are among the procedures carried out by an Oral and Maxillofal surgeon . We do not cover the following procedures even if they are performed by an . oral and . maxill ofacial surgeon, we do not . cover the . following procedures .\n",
      "-  Dental treatment outside India will be paid up to the limits specified in the policy . Dental treatments include annual check-up, simple fillings related to cavities or decay .\n",
      "-  Dental surgery outside India is a policy policy . We will pay customary and reasonable expenses up to the limits specified in the policy . Dental surgeries include the surgical extraction of teeth, apicoectomy, Surgical removal of cysts, Orthognathic surgeries for the correction of malocclusion and\n",
      "-  Dental surgery does not cover surgical treatment that relates to dental implants . Exclusions: Dental Prostheses, dental implants, orthodontics\n",
      "\n",
      ".Group 36:\n",
      "-  The word \"dependent\" means a family member who is Your spouse, children and parents/parents-\n",
      "-  A child is considered a dependent for insurance purposes up to the day before his/her 25th birthday . If enrolled in full time education a child is  dependent up to  the day . If enrolling in full-time education a . child is deemed dependent up\n",
      "-  You, Your, Your and Yourself, Your Family:-  named in the Policy Schedule means the Insured or Insured’s Family Members who are beneficiaries that We ins\n",
      "\n",
      ".Group 37:\n",
      "-  Diagnostic tests refers to investigations such as x-rays or blood tests . Diagnostic investigation is undertaken to determine the cause of\n",
      "\n",
      ".Group 38:\n",
      "-  Cover does not extend to follow-up dental surgery, dental surgery or dental prostheses . Cover does also not extend for follow\n",
      "-  Oral and maxillofacial surgical procedures outside India are performed in a Hospital by an oral and maxillsofacial surgeon . Oral pathology, facial bone fractures, congenital jaw deformities, salivary gland diseases and tumours are among the procedures carried out by an Oral and Maxillofal surgeon . We do not cover the following procedures even if they are performed by an . oral and . maxill ofacial surgeon, we do not . cover the . following procedures .\n",
      "-  Cover does not cover curative or follow-up non-Emergency treatment . Nor does it extend to charges relating to maternity, pregnancy, birth or complications of pregnancy or childbirth . Exclusion is not provided for curative treatment even if You are deemed unable to travel .\n",
      "-  30 days waiting period would be applicable for all claims under out-patient except those arising out of Accidental Injury . Dental treatment expenses will not be covered . Out-patient Dental Treatment expenses will also not be paid .\n",
      "-  Dental surgery does not cover surgical treatment that relates to dental implants . Exclusions: Dental Prostheses, dental implants, orthodontics\n",
      "\n",
      ".Group 39:\n",
      "-  Family history exists where a parent, grandparent, sibling, child, child or uncle has been previously diagnosed with the condition in question .\n",
      "\n",
      ".Group 40:\n",
      "-  Home country is a country for which You hold a current passport or which is Your principal country of residence .\n",
      "-  Principal country of residence is the country where You and Your dependents (if applicable) live for more than six months of the Policy year . Principal country\n",
      "\n",
      ".Group 41:\n",
      "-  Hospital for international practice is any establishment which is licensed as a medical or surgical Hospital in the country where it operates and where the patient is permanently supervised by a Doctor . Rest and nursing homes, spas, spa, cure-centres and health resorts are not considered Hospitals .\n",
      "-  Medical Practitioners/Doctor (for International Cover):-   Medical Practitioner/Doctor for international practice . Medical Practitionsers/Doctors for international Practice are Doctors who are licensed to practise medicine under the law of the country in which Medically\n",
      "\n",
      ".Group 42:\n",
      "-  Limit of Indemnity represents Our maximum liability to make payment for each and every claim per person . Limit of indemnity means the amount stated in the Policy Schedule against each Cover .\n",
      "-  We will reimburse the amount as per the limits specified in the Policy Schedule . Payment under this benefit will not reduce the base sum Insured mentioned in Policy Schedule. Payment under the benefit will . not reduce base sum . Payment will not . reduce the . base sum mentioned in the policy . We shall not be iable for any other ancillary or peripheral costs or expenses . We will not be . be liable for any additional ancilliary or peripheral . costs or . expenses .\n",
      "\n",
      ".Group 43:\n",
      "-  Living donor medical costs are paid towards the organ donor’s treatment for harvesting of the donated organ . The organ donor is any person whose organ has been made available in accordance and in compliance with  the local regulation . The donation is for the use of the Insured, and the organ donated is for use of  the Insurers .\n",
      "-  Organ transplant refers to the following organ or tissue transplants: heart, heart/valve, heart, liver, pancreas, pancresas, kidney, bone marrow, parathyroid, muscular/skeletal and cornea . Organ\n",
      "-  We will pay expenses up to the limits specified in the Policy Schedule, towards organ donor’s treatment for the organ donor's treatment for harvesting of the donated organ . The organ donor is any person whose organ has been made available in accordance and in compliance with THE TRANSPLANTATION OF HUMAN ORGANS (AMENDMENT) BILL, 2011)\n",
      "-  We will also reimburse the expenses incurred on an ambulance offered by a healthcare or ambulance service . We will pay for the expenses of transferring You from the Hospital where You were admitted initially to another Hospital with higher medical facilities . Claim under this section shall be payable by Us only when:  Such life threatening Emergency condition is certified by the Medical Practitioner, and such life threatening emergency condition is . Such life threatening condition is cert\n",
      "-  We will pay expenses up to the limits specified in the policy Schedule, towards organ donor’s treatment for the organ donor's treatment for harvesting of the donated organ . The organ donor is any person whose organ has been made available in accordance and in compliance with  the local regulation .\n",
      "\n",
      ".Group 44:\n",
      "-  Local (Road) ambulance is ambulance transport that is required for an Emergency or out of medical necessity . It is required to be transported to the nearest available and appropriate Hospital\n",
      "-  We will pay the reasonable cost, specified in the Policy Schedule, incurred on an ambulance offered by a  healthcare or ambulance service provider for transferring You to the nearest Hospital with adequate Emergency facilities . 4. Local (Road) Ambulance  will pay reasonable cost\n",
      "-  We will pay the reasonable cost, specified in the Policy Schedule, incurred on an ambulance offered by a  healthcare or ambulance service provider for transferring You to the nearest Hospital with adequate Emergency facilities . 4. Local (Road) Ambulance  will pay reasonable cost\n",
      "\n",
      ".Group 45:\n",
      "-  Medical consumable and equipment includes syringes, needles, sutures, staples, packaging, tubing, tubing and tubing . Medical consumables include syringles, needles and suture, staples and staples .\n",
      "-  Surgical appliances and materials are those required for surgeries . They include artificial body parts or devices such as bone screws and plates . They are also known as artificial body part or devices .\n",
      "\n",
      ".Group 46:\n",
      "-  Medical Practitioner fees refers to non-surgical treatment performed or administered by a Medical Practitor . 25.50\n",
      "-  Specialist fees refers to non-surgical treatment performed or administered by a specialist . 47\n",
      "\n",
      ".Group 47:\n",
      "-  Medical underwriting is the assessment of insurance risk based on information that You give us when applying for cover . 26.\n",
      "\n",
      ".Group 48:\n",
      "-  \"Mental Illness\" means a substantial disorder of thinking, mood, mood or perception, orientation or memory that grossly impairs judgment, behaviour, capacity to recognise reality or ability to meet the ordinary demands of life . \"Malfess\" means \"a substantial disorder that grossly impairs judgement, behaviour\" does\n",
      "\n",
      ".Group 49:\n",
      "-  The insurer's Global Health Care Policy is available to customers who are not older than 65 years of age . The policy is available at the company's website, www.g.com/global-healthcare.com .\n",
      "-  The policy will not cover sundry expenses such as meals, phone calls or newspapers . The policy is subject to the Sum Insured, sub-limits, terms, conditions and definitions, exclusions contained or  otherwise expressed in this Policy . The Policy will not include meals, telephone calls or newspaper costs . The Insurance Policy does not cover the expenses of one parent staying in Hospital with an Insured child under 18 years of age . The benefit would be applicable for the duration of Hospitalization of the Insured Child .\n",
      "-  Expenses related to the treatment of a Pre-Existing Disease (PED) and its direct complications shall be excluded until the expiry of 36 months of continuous coverage after the date of inception of the first Global Health Care Policy with Us . Coverage under the Policy after the expiriry of the Policy is subject to the same declaration at the time of application and accepted by Insurer . Coverage after the . expiry . of 36 . months for any Pre-existing Disease is subject . to the . same  being declared at the . time of applying and accepted .\n",
      "-  Expenses related to the treatment of the listed Conditions, surgeries/treatments shall be excluded until the   expiry of 24 months of continuous coverage after the date of inception of the first Global Health Care Policy . This exclusion shall not be applicable for claims arising due to an Accident . Exclusion shall not apply for claims . Excessions related to treatment of listed Conditions shall be . excluded until 24 months after inception of first Global . Health Care policy . Exhibits include expenses related to the treatment of the listed conditions, surgeries and treatment of surgeries/ .\n",
      "\n",
      ".Group 50:\n",
      "-  Network shall be construed as per the Standard Definition of\n",
      "\n",
      ".Group 51:\n",
      "-  Obesity is measured in Body  Mass Index . BMI greater than or equal to 30 is obesity . BMI is a simple index of weight-for-height . BMI means a person's weight in kilograms divided by square of his height in meters . BMI greater than or equals 25 is overweight . BMI over 25 is obese . BMI under 30 is overweight or obese .\n",
      "-  Obesity/Weight Control (Code- Excl06) is defined as obesity/Weight control . The member has to be 18 years of age or older and has a BMI of 40 or greater than 40 . The surgery/Procedure conducted should be supported by clinical protocols . The patient has to undergo surgery upon the advice of the Doctor . The person has to have a BMI greater than or equal to 40 or less than equal to 35 .\n",
      "\n",
      ".Group 52:\n",
      "-  Podiatry refers to Medically Necessary Treatment carried out by a State Registered podiatrist .\n",
      "\n",
      ".Group 53:\n",
      "-  Policy Schedule means the Policy Schedule and any annexure or Endorsements to it, if any, as issued by the Company, as . issued by . the\n",
      "-  Policy Period means period from risk inception date [RID] to risk end date [RED], as mentioned in the Policy Schedule\n",
      "-  You, Your, Your and Yourself, Your Family:-  named in the Policy Schedule means the Insured or Insured’s Family Members who are beneficiaries that We ins\n",
      "\n",
      ".Group 54:\n",
      "-  Physiotherapy is initially restricted to 12 sessions per condition . After that treatment must be reviewed by the Doctor who referred You . Physiotherapies such as Rolfing, massage, Pilates, Fango and Milta do not include Rolfers, massage and Fango .\n",
      "-  Physiotherapy is initially restricted to 12 sessions per condition . Treatment must be reviewed by the Doctor who referred You . Physiotherapist must send You a new progress report after every session . Physiological benefits are limited to the maximum of 12 sessions . Physio therapy is available at a Hospital or a clinic as defined under the Policy Policy . We will pay the expenses incurred towards Prescribed Physi Therapy taken on Out-patient basis for Illness/Injury .\n",
      "-  Physiotherapy does not include therapies such as Rolfing, massage, Pilates, Fango and Milta . 90 days waiting period would be applicable for all claims under PhysiTherapy Benefit except those arising out of Accidental Injury .\n",
      "\n",
      ".Group 55:\n",
      "-  Prescription drugs are to treat a confirmed diagnosis or medical condition . Examples are antibiotics, sedatives, etc. Prescription drugs must be clinically proven to be effective for the diagnosed condition . They must also be recognised by internationally accepted medical guidelines .\n",
      "\n",
      ".Group 56:\n",
      "-  Psychiatrist is a registered Medical Practitioner who specializes in psychiatry . Psychiatrist  is a certified Medical Practicing Practitioneer .\n",
      "-  46. Specialist is a licensed Doctor with additional qualifications and expertise necessary to practise as a specialist in diagnostic techniques, treatment and prevention in a particular field of medicine\n",
      "\n",
      ".Group 57:\n",
      "-  Rehabilitation Hospitals/unit/facility are devoted to the rehabilitation of patients with various neurological, musculoskeletal, musmuskeletal and other medical conditions .\n",
      "-  Rehabilitation is defined as a set of interventions designed to optimize functioning and reduce disability in individuals with health conditions . It aims to restore original form or function  after an acute Illness, Injury or surgery . We will pay You up to the limits specified in the Policy Schedule for the cost of In-patient Rehabilitation provided . We have accepted an Inpatient Hospitalization claim for the Insured under In Patient Hospitalization Treatment . We are happy to pay You for Inpatient Rehabment provided . The treatment could not be carried out on an out-patient basis .\n",
      "\n",
      ".Group 58:\n",
      "-  Deluxe, executive rooms and suites are not covered . Single Private Room means a single occupancy air-conditioned room .\n",
      "\n",
      ".Group 59:\n",
      "-  Type of\n",
      "\n",
      ".Group 60:\n",
      "-  Domestic (Within India Only) for Imperial and Imperial Plus Plans .\n",
      "-  Imperial Plus Plan covers medical repatriation for necessary treatment for which You are covered . This only applies when Your home country is within Your geographical area of cover . We also cover the cost of Your return trip (i.e. one way ticket) at economy rates, to the country from where you were repatriated .\n",
      "-  Imperial Plus Plan only applies to Imperial Plus plan . Imperial Plus is Imperial Plus Plus Plan\n",
      "\n",
      ".Group 61:\n",
      "-  I. I. IN-PATIENT BEN\n",
      "-  I. I. IN-PATIENT BEN\n",
      "\n",
      ".Group 62:\n",
      "-  We will also reimburse the expenses incurred on an ambulance offered by a healthcare or ambulance service provider for transferring You from the Hospital where You were admitted initially to another Hospital with higher  medical facilities . The Claim under this section shall be payable by Us only when:  Such life threatening Emergency condition is certified by the Medical Practitioner, and  such life threatening emergency condition is certified by the medical Practitioners .\n",
      "-  We will pay You the medical expenses listed under Section C, Part A I-1- In-patient Hospitalization Treatment . We will also pay You medical expenses as listed under section C, . Section C is listed under . Section A is listed as . Inpatient in a Hospital or Day Care Centre but not in\n",
      "-  We will pay expenses up to the limits specified in the Policy Schedule, towards organ donor’s treatment for the organ donor's treatment for harvesting of the donated organ . The organ donor is any person whose organ has been made available in accordance and in compliance with THE TRANSPLANTATION OF HUMAN ORGANS (AMENDMENT) BILL, 2011)\n",
      "-  Air Ambulance is reimbursed up to the limits specified in the policy . Air ambulance is excluded from the client's home . Return transportation to the client’s home by air ambulance is included . The claim would be reimbursed provided that We have accepted an Inpatient Hospitalization claim .\n",
      "-  The Medical Expenses incurred during the 45 days immediately before You were Hospitalized, provided that such Expenses were incurred for the same Illness/Injury for which subsequent Hospitalization was required, provided . Such Expenses are incurred for such an Illness or injury .\n",
      "-  The Medical Expenses incurred during the 90 days immediately after You were discharged post Hospitalization . Such costs are incurred in respect of the same Illness/Injury for which the earlier Hospitalization was required, and We have accepted an Inpatient Hospitalization claim under Inpatient . Treatment .\n",
      "-  We will pay the reasonable cost, specified in the Policy Schedule, incurred on an ambulance offered by a  healthcare or ambulance service provider for transferring You to the nearest Hospital with adequate Emergency facilities . 4. Local (Road) Ambulance  will pay reasonable cost\n",
      "-  We will also reimburse the expenses incurred on an ambulance offered by a healthcare or ambulance service . We will pay for the expenses of transferring You from the Hospital where You were admitted initially to another Hospital with higher medical facilities . Claim under this section shall be payable by Us only when:  Such life threatening Emergency condition is certified by the Medical Practitioner, and such life threatening emergency condition is . Such life threatening condition is cert\n",
      "-  We will pay You the medical expenses listed under Section C, Part B,I-1 - In-patient Hospitalization Treatment . We will also pay You for Day Care Procedures / Surgeries taken as an Inpatient in a Hospital or Day Care Centre but not in the outpatient department .\n",
      "-  We will pay expenses up to the limits specified in the policy Schedule, towards organ donor’s treatment for the organ donor's treatment for harvesting of the donated organ . The organ donor is any person whose organ has been made available in accordance and in compliance with  the local regulation .\n",
      "-  Air ambulance will be reimbursed up to the limits specified in the policy . Air ambulance transportation in an airplane or helicopter is excluded . Return transportation to the client’s home by any mode of transport is excluded. Return transportation  to the clients’ home by . any mode . of transport . is excluded from the client's home by the client . Return transport to the . client”s home is excluded in the . Policy .\n",
      "-  Air Ambulance + Medical Evacuation (Applicable to Imperial Plus Plan only) (Applicate to Imperial plus Plan only ) If You contract any Illness/ sustain any Injury which necessitates Emergency Hospitalization, We will pay reasonable and customary expenses up to the limits specified in the policy Schedule . We will provide an evacuation by ambulance, helicopter or airplane provided that the evacuation is carried out in the most economical way appropriate to Your medical condition .\n",
      "-  If You contract any Illness/ sustain any Injury which necessitates Hospitalization, We will pay reasonable and customary expenses up to the limits specified in the policy . We will cover hotel accommodation costs if You choose to be medically  repatriated to   Your home country for treatment, provided that:    your home country is within  Your geographical area of cover .\n",
      "-  If You consult a consultant/Medical Practitioner on Outpatient basis for the Illness/ Injury contracted during the Policy Period, We will pay You Out Patient expenses up to the limits specified in the Policy Schedule for medical practice fees .\n",
      "-  Expenses for cosmetic or plastic surgery are not covered unless for reconstruction following an Accident, Burn(s) or Cancer . For this to be considered a medical necessity, it must be certified by a medical practitioner . For surgery to remove a direct and immediate health risk to the Insured, it is considered a 'medical necessity'\n",
      "-  Expenses incurred towards treatment in any Hospital or by any Medical Practitioner or any other provider are not admissible . Expenses up to the stage of stabilization are payable but not the complete claim . Expense up to stage of stabilized are payable in case of life threatening situations .\n",
      "-  Expenses traceable to childbirth (including complicated deliveries and caesarean sections) except ectopic pregnancy except ectopia pregnancy . Expenses towards miscarriage (unless due to an Accident) and lawful medical termination of pregnancy during the Policy Period .\n",
      "\n",
      ".Group 63:\n",
      "-  The claim will be admissible under the Policy provided that, the Illness/Injury requires Inpatient admission . The claim is admissible provided that the Ill illness\n",
      "-  Rehabilitation is defined as a set of interventions designed to optimize functioning and reduce disability in individuals with health conditions . It aims to restore original form or function  after an acute Illness, Injury or surgery . We will pay You up to the limits specified in the Policy Schedule for the cost of In-patient Rehabilitation provided . We have accepted an Inpatient Hospitalization claim for the Insured under In Patient Hospitalization Treatment . We are happy to pay You for Inpatient Rehabment provided . The treatment could not be carried out on an out-patient basis .\n",
      "-  The policy applies to Inpatient Hospitalization for Dental Treatment . The policy does not apply to In-patient Hospitalizations for Inpatient Dental Care . The Policy does not cover Inpatient Care for In-Patients . The policies are intended to cover In-patients' medical expenses . The company will pay for Inpatients to receive treatment at a Hospital in the appropriate facility . The Company will pay up to actual ICU expenses provided by Hospital . The insurance policy does include a policy on Inpatient care for In Patient Care . We will pay You for Inordinate Hospitalization of Inpatient Treatment of Inpatient Care . For Inpatient Healthcare of In Patient Cases, Inpatient Cases, The Policy is not applicable to Inpatience Care\n",
      "-  The Medical Expenses incurred during the 45 days immediately before You were Hospitalized, provided that such Expenses were incurred for the same Illness/Injury for which subsequent Hospitalization was required, provided . Such Expenses are incurred for such an Illness or injury .\n",
      "-  The Medical Expenses incurred during the 90 days immediately after You were discharged post Hospitalization . Such costs are incurred in respect of the same Illness/Injury for which the earlier Hospitalization was required, and We have accepted an Inpatient Hospitalization claim under Inpatient . Treatment .\n",
      "-  We will pay You up to the limits specified in the Policy Schedule for the cost of In-patient Rehabilitation provided . We have accepted an Inpatient Hospitalization claim for the Insured under In Patient Hospitalization Treatment . We will accept an In Patient Rehabilitation claim for an Insured Under In Patient Hospitalship . We are happy to provide an In-Patients with Inpatient Rehab Therapy . We apologise for any errors made in the policy statement . We also apologise for the errors made by our policy.\n",
      "-  If You contract any Illness/ sustain any Injury which necessitates Hospitalization, We will pay reasonable and customary expenses up to the limits specified in the policy . We will cover hotel accommodation costs if You choose to be medically  repatriated to   Your home country for treatment, provided that:    your home country is within  Your geographical area of cover .\n",
      "-  30 days waiting period would be applicable for all claims under Alternate/Complementary Treatment Expenses except those arising out of Accidental Injury . Exclusions:  Accidental Injury, Accident injuries, and ad\n",
      "-  Expenses related to the treatment of any Illness within 30 days from the first Policy commencement date shall be excluded . Expenses  excluded except claims arising due to an Accident, provided the same are covered . Exclusion does not apply if the Insured has Continuous Coverage for more than twelve months .\n",
      "-  Expenses incurred towards treatment in any Hospital or by any Medical Practitioner or any other provider are not admissible . Expenses up to the stage of stabilization are payable but not the complete claim . Expense up to stage of stabilized are payable in case of life threatening situations .\n",
      "\n",
      ".Group 64:\n",
      "-  We will pay the Customary and Reasonable expenses for In-patient treatment of Mental Illness . We will cover the costs up to the sum insured up to up to $2,000 . The treatment should be taken in Mental Health Establishment either wholly or partly meant for the care of persons with mental Illness, where persons with Mental Illnesses are admitted for treatment . The Hospitalization is for Medically Necessary Treatment. The Hospitalized is for . Medically . Necessaries .\n",
      "-  Mental Illness Treatment does not cover: Any expenses for Mental Illnesses Treatment related to Alcoholism, drug or substance abuse or any addictive condition and consequences thereof . For autism spectrum disorder, admissions, stays or day care treatment at specialised educational facilities are not covered . For Autism spectrum disorder admissions, stay or daycare treatment at . specialised . educational facilities .\n",
      "-  Rehabilitation is defined as a set of interventions designed to optimize functioning and reduce disability in individuals with health conditions . It aims to restore original form or function  after an acute Illness, Injury or surgery . We will pay You up to the limits specified in the Policy Schedule for the cost of In-patient Rehabilitation provided . We have accepted an Inpatient Hospitalization claim for the Insured under In Patient Hospitalization Treatment . We are happy to pay You for Inpatient Rehabment provided . The treatment could not be carried out on an out-patient basis .\n",
      "-  We will pay the Customary and Reasonable expenses for the Modern Treatment Methods as mentioned in nexure III subject to the Sum Insured, terms, conditions and definitions, exclusions contained\n",
      "-  The Sum Insured payable under all the above covers will not exceed the Inpatient Hospitalization Treatment Limits . The total Sum Insure payable under the covers will NOT exceed the Sum Insuring payable under each of the covers . The Sum insured will not be exceeded the In-patient Hospitalized Hospitalization Treatment  Limits . For more information on the benefits of the insurance policy, visit the Insurance Policy Policy and Policy . The policy is based on the current policy of insurance coverage . The plan is available at the Insurance Company of India and the State Insurance Company, which provides the policy of all insurance companies in India . The insurance company is responsible for the policy . The company is not obliged to provide the policy on the policy to provide a policy that covers the policy. The policy includes the policy that includes the insurance company’s policy. For more details, visit www.insurance.com/insurancepolicy.com . The Policy Policy.com.com and the policy is available in the\n",
      "-  The policy applies to Inpatient Hospitalization for Dental Treatment . The policy does not apply to In-patient Hospitalizations for Inpatient Dental Care . The Policy does not cover Inpatient Care for In-Patients . The policies are intended to cover In-patients' medical expenses . The company will pay for Inpatients to receive treatment at a Hospital in the appropriate facility . The Company will pay up to actual ICU expenses provided by Hospital . The insurance policy does include a policy on Inpatient care for In Patient Care . We will pay You for Inordinate Hospitalization of Inpatient Treatment of Inpatient Care . For Inpatient Healthcare of In Patient Cases, Inpatient Cases, The Policy is not applicable to Inpatience Care\n",
      "-  The Medical Expenses incurred during the 90 days immediately after You were discharged post Hospitalization . Such costs are incurred in respect of the same Illness/Injury for which the earlier Hospitalization was required, and We have accepted an Inpatient Hospitalization claim under Inpatient . Treatment .\n",
      "-  We will pay You the medical expenses listed under Section C, Part B,I-1 - In-patient Hospitalization Treatment . We will also pay You for Day Care Procedures / Surgeries taken as an Inpatient in a Hospital or Day Care Centre but not in the outpatient department .\n",
      "-  We will pay the Customary and Reasonable expenses for In-patient treatment of Mental Illness . We will cover the costs up to the sum insured up to up to $2,000 . The treatment should be taken in Mental Health Establishment either wholly or partly meant for the care of persons with mental Illness, where persons with Mental Illnesses are admitted for treatment . The Hospitalization is for Medically Necessary Treatment. The Hospitalized is for . Medically . Necessaries .\n",
      "-  We will pay You up to the limits specified in the Policy Schedule for the cost of In-patient Rehabilitation provided . We have accepted an Inpatient Hospitalization claim for the Insured under In Patient Hospitalization Treatment . We will accept an In Patient Rehabilitation claim for an Insured Under In Patient Hospitalship . We are happy to provide an In-Patients with Inpatient Rehab Therapy . We apologise for any errors made in the policy statement . We also apologise for the errors made by our policy.\n",
      "-  If You contract any Illness/ sustain any Injury which necessitates Hospitalization, We will pay reasonable and customary expenses up to the limits specified in the policy . We will cover hotel accommodation costs if You choose to be medically  repatriated to   Your home country for treatment, provided that:    your home country is within  Your geographical area of cover .\n",
      "-  In-patient cash benefit (Applicable to Imperial Plus Plan only)  - - Includes In- Patient Care for 25 nights when You receive Inpatient treatment free of charge for a medical condition that is covered by Us . This benefit is payable after You are discharged from Hospital .\n",
      "-  If You consult a consultant/Medical Practitioner on Outpatient basis for the Illness/ Injury contracted during the Policy Period, We will pay You Out Patient expenses up to the limits specified in the Policy Schedule for medical practice fees .\n",
      "-  If You consult a therapist on Outpatient basis for the Illness/ Injury contracted during the Policy Period, We will pay You Out Patient expenses up to the limits specified in the Policy Schedule for Alternate treatment methods . Alternate treatment methods are practised by approved therapists .\n",
      "-  The plan is based on a plan that includes a plan to cover the cost of a hospital stay . The plan includes a minimum of $100,000 per night up to $200,000 . The cost of the plan is $1,000/USD . The amount is based upon the amount of insurance coverage . The policy includes a policy that covers the entire plan to provide a plan for the plan . The budget is $100/USD, with a maximum of $1/USD cap of $200/USD and $1.000/ USD cap . The average cost of an insured hospital stay is $10,000,000 and $100 per night . The total cost of insurance is $20,000. The policy is $150/USD. The average of insurance cover is $2,000 or $1 per day. The total of insurance. The cost is $5,000-a-month. The insurance policy is $1,300/year. The coverage is $6,000 in a single hospital room . The insurance coverage is in excess of $10/day . The coverage of the policy is based on a single room . Insurance is \n",
      "-  The Sum Insured payable under all the above covers will not exceed the In-patient Hospitalization                 Treatment Limits                 **The covers will be on cashless basis only . Note: The total Sum Insure payable under the above cover will not exceeded the Inpatient Hospitalized Hospitalization . The covers will also be on a cashless-free basis only. Note: Excluding out-patient Dental Treatment                 : Dental treatment outside India                                                  periodontics outside India provides 20% Co-Payment . The Sum insured will not exceed                  receive a permanent hospitalization of the In patient Hospitalizations . The Sum insured permission will be on an credible basement of all the crown and referred to the In‑patient Hospitalisation of hospitalizations . For more information, visit www.credential.com/creditor/cudud.\n",
      "-  Expenses related to the treatment of the listed Conditions, surgeries/treatments shall be excluded until the   expiry of 24 months of continuous coverage after the date of inception of the first Global Health Care Policy . This exclusion shall not be applicable for claims arising due to an Accident . Exclusion shall not apply for claims . Excessions related to treatment of listed Conditions shall be . excluded until 24 months after inception of first Global . Health Care policy . Exhibits include expenses related to the treatment of the listed conditions, surgeries and treatment of surgeries/ .\n",
      "-  Expenses for treatment directly arising from or consequent upon any Insured committing or attempting to commit a breach of law with criminal intent . 10) Breach of law\n",
      "-  Expenses incurred towards treatment in any Hospital or by any Medical Practitioner or any other provider are not admissible . Expenses up to the stage of stabilization are payable but not the complete claim . Expense up to stage of stabilized are payable in case of life threatening situations .\n",
      "\n",
      ".Group 65:\n",
      "-  Modern Treatment Methods and Advancements\n",
      "-  17. Modern Treatment Methods and Advancement in Technologies  are included in the policy . We will pay the Customary and Reasonable expenses for the Modern Treatment . Methods as mentioned in the Policy .\n",
      "\n",
      ".Group 66:\n",
      "-  International is a part\n",
      "\n",
      ".Group 67:\n",
      "-  This cover is subject to the Sum Insured, sub-limits, sub, limits, Deductibles, terms and conditions .\n",
      "-  Deductible is Optional and the amount will apply as specified in the Policy\n",
      "-  This cover is subject to the Sum Insured, sub-limits, terms, conditions and definitions, terms and definitions .\n",
      "-  This cover is subject to the Sum Insured, sub-limits, terms, conditions and definitions, terms and definitions .\n",
      "-  This cover is subject to the Sum Insured, sub-limits, terms, conditions and definitions, terms and definitions .\n",
      "-  This cover is subject to the Sum Insured, sub-limits, terms, conditions and definitions, terms and definitions .\n",
      "-  This cover is subject to the Sum Insured, sub-limits, terms, conditions and definitions, terms and definitions .\n",
      "-  This cover is subject to the Sum Insured, sub-limits, terms, conditions and definitions, terms and definitions .\n",
      "-  This cover is subject to the Sum Insured, sub-limits, terms, conditions and definitions, terms and definitions .\n",
      "-  The policy will not cover sundry expenses such as meals, phone calls or newspapers . The policy is subject to the Sum Insured, sub-limits, terms, conditions and definitions, exclusions contained or  otherwise expressed in this Policy . The Policy will not include meals, telephone calls or newspaper costs . The Insurance Policy does not cover the expenses of one parent staying in Hospital with an Insured child under 18 years of age . The benefit would be applicable for the duration of Hospitalization of the Insured Child .\n",
      "-  Imperial Plus Plan only if “Excluding USA’s cover  is opted . We will pay the Customary and Reasonable expenses, up to the limit specified in the Policy Schedule, incurred for medical emergencies which occur during business or holiday trips outside Your area of cover . Cover is provided for up to six weeks per trip within the Sum Insured limit .\n",
      "-  This cover is subject to the Sum Insured, sub-limits, terms, conditions and definitions, terms and definitions .\n",
      "-  This cover is subject to the Sum Insured, sub-limits, terms, conditions and definitions, terms and definitions .\n",
      "\n",
      ".Group 68:\n",
      "-  We will organize and coordinate for the Air Ambulance until You arrive safely at Your destination . We reserve the right to decline all costs incurred by us . This cover is on cashless basis only .\n",
      "-  Air Ambulance + Medical Evacuation (Applicable to Imperial Plus Plan only) (Applicate to Imperial plus Plan only ) If You contract any Illness/ sustain any Injury which necessitates Emergency Hospitalization, We will pay reasonable and customary expenses up to the limits specified in the policy Schedule . We will provide an evacuation by ambulance, helicopter or airplane provided that the evacuation is carried out in the most economical way appropriate to Your medical condition .\n",
      "-  You must contact us on +353 1 630 1301 at the first indication that You need an evacuation . From this point onwards, We will organize and coordinate the evacuation until You arrive safely at Your destination of care . If evacuation services are not organized by Us, We reserve the right to decline \n",
      "-  This cover is on cashless basis only . To avail this service, You must contact us on +353 1 630 1301 . We reserve the right to decline all costs incurred .\n",
      "\n",
      ".Group 69:\n",
      "-  We will cover the reasonable cost of hotel accommodation in a private en-suite room for up to seven days . We will also cover the cost of a private room\n",
      "-  We will cover the reasonable cost of hotel accommodation in a private en-suite room . This cost must be more economical than the cost of a series of journeys between the nearest appropriate medical centre and Your principal country of residence .\n",
      "-  We will cover the reasonable cost of hotel accommodation costs up to seven days . We will also cover the cost of accommodation up to 7\n",
      "\n",
      ".Group 70:\n",
      "-  Following completion of treatment, we will also cover the cost of Your return trip (i.e. one way ticket) at economy \n",
      "-  Imperial Plus Plan covers medical repatriation for necessary treatment for which You are covered . This only applies when Your home country is within Your geographical area of cover . We also cover the cost of Your return trip (i.e. one way ticket) at economy rates, to the country from where you were repatriated .\n",
      "-  The return journey must take place within one month after\n",
      "-  If You contract any Illness/ sustain any Injury which necessitates Hospitalization, We will pay reasonable and customary expenses up to the limits specified in the policy . We will cover hotel accommodation costs if You choose to be medically  repatriated to   Your home country for treatment, provided that:    your home country is within  Your geographical area of cover .\n",
      "\n",
      ".Group 71:\n",
      "-  Exclusions include costs for hotel suites, four or five-star hotel accommodation or hotel accommodation for an accompanying person . Exclusions (Applicable to Medical Evacuation):   costs for accommodation for Insured family members in the event of\n",
      "-  The policy will not cover sundry expenses such as meals, phone calls or newspapers . The policy is subject to the Sum Insured, sub-limits, terms, conditions and definitions, exclusions contained or  otherwise expressed in this Policy . The Policy will not include meals, telephone calls or newspaper costs . The Insurance Policy does not cover the expenses of one parent staying in Hospital with an Insured child under 18 years of age . The benefit would be applicable for the duration of Hospitalization of the Insured Child .\n",
      "-  Cover does not cover curative or follow-up non-Emergency treatment . Nor does it extend to charges relating to maternity, pregnancy, birth or complications of pregnancy or childbirth . Exclusion is not provided for curative treatment even if You are deemed unable to travel .\n",
      "-  If You contract any Illness/ sustain any Injury which necessitates Hospitalization, We will pay reasonable and customary expenses up to the limits specified in the policy . We will cover hotel accommodation costs if You choose to be medically  repatriated to   Your home country for treatment, provided that:    your home country is within  Your geographical area of cover .\n",
      "-  Travel costs for accompanying person are included in the insurance scheme . Insured family members are also required to be with family members at risk of death or who has died .\n",
      "-  Expenses related to the treatment of any Illness within 30 days from the first Policy commencement date shall be excluded . Expenses  excluded except claims arising due to an Accident, provided the same are covered . Exclusion does not apply if the Insured has Continuous Coverage for more than twelve months .\n",
      "\n",
      ".Group 72:\n",
      "-  Where adequately screened blood is not available locally, We will try to locate and transport screened blood and sterile transfusion equipment . We accept no liability if We are unsuccessful or if contaminated blood or equipment is used by the treating authority .\n",
      "\n",
      ".Group 73:\n",
      "-  Mental Illness Treatment does not cover:  Alcoholism, drug or substance abuse . Exclusions: Mental Illnesses Treatment does't cover: Al\n",
      "-  Autism spectrum disorder treatment not covered . Admissions, stays or day care treatment at specialised educational facilities not covered for autism spectrum disorder . Treatment for mental illness not covered in out-patient treatment . Treatment not supported by psychiatrist's prescriptions .\n",
      "-  Cover does not cover curative or follow-up non-Emergency treatment . Nor does it extend to charges relating to maternity, pregnancy, birth or complications of pregnancy or childbirth . Exclusion is not provided for curative treatment even if You are deemed unable to travel .\n",
      "\n",
      ".Group 74:\n",
      "-  You must contact us on +353 1 630 1301 at the first indication that repatriation is required . From this point onwards We will organise and coordinate all stages of the repatriation until  you arrive safely at Your destination of care .\n",
      "\n",
      ".Group 75:\n",
      "-  Repatriation of mortal remains is the transportation of the Insured deceased remains from the principal country of idence to the country of burial . We cover costs such as: embalming, a container legally appropriate for transportation, shipping and the necessary government authorisations . Cremation costs will only be covered if the remation is required for legal purposes .\n",
      "\n",
      ".Group 76:\n",
      "-  Expense incurred for any person accompanying the remains is not covered .\n",
      "-  Expenses incurred towards treatment in any Hospital or by any Medical Practitioner or any other provider are not admissible . Expenses up to the stage of stabilization are payable but not the complete claim . Expense up to stage of stabilized are payable in case of life threatening situations .\n",
      "-  We do not cover the following expenses unless indicated otherwise in the Table of Benefits or in any\n",
      "\n",
      ".Group 77:\n",
      "-  Palliative care (Applicable to Imperial Plus Plan only) Includes Inpatient, day-care and out-patient treatment . We will pay for physical care, psychological care, Hospital or hospice accommodation, nursing care and prescription drugs . This cover is subject to the Sum Insured, sub-limits, terms, conditions and definitions, exclusions contained in this Policy . It includes Inpatient care, day care and Hospital or Hospice accommodation .\n",
      "-  Imperial Plus Plan only applies to Imperial Plus plan . Imperial Plus is Imperial Plus Plus Plan\n",
      "-  The Sum Insured payable under all the above covers will not exceed the In-patient Hospitalization                 Treatment Limits                 **The covers will be on cashless basis only . Note: The total Sum Insure payable under the above cover will not exceeded the Inpatient Hospitalized Hospitalization . The covers will also be on a cashless-free basis only. Note: Excluding out-patient Dental Treatment                 : Dental treatment outside India                                                  periodontics outside India provides 20% Co-Payment . The Sum insured will not exceed                  receive a permanent hospitalization of the In patient Hospitalizations . The Sum insured permission will be on an credible basement of all the crown and referred to the In‑patient Hospitalisation of hospitalizations . For more information, visit www.credential.com/creditor/cudud.\n",
      "-  Expenses related to the treatment of the listed Conditions, surgeries/treatments shall be excluded until the   expiry of 24 months of continuous coverage after the date of inception of the first Global Health Care Policy . This exclusion shall not be applicable for claims arising due to an Accident . Exclusion shall not apply for claims . Excessions related to treatment of listed Conditions shall be . excluded until 24 months after inception of first Global . Health Care policy . Exhibits include expenses related to the treatment of the listed conditions, surgeries and treatment of surgeries/ .\n",
      "-  Rest Cure, rehabilitation and respite care (Code -Excl05) includes: custodial care either at home or in a nursing facility for personal care such as bathing, dressing, moving around . Services for people who are terminally ill to address physical, social, emotional and spiritual needs .\n",
      "\n",
      ".Group 78:\n",
      "-  We will pay customary and reasonable expenses up to the limits specified in the policy Schedule . Periodontics outside India   will pay\n",
      "-  The Sum Insured payable under all the above covers will not exceed the In-patient Hospitalization                 Treatment Limits                 **The covers will be on cashless basis only . Note: The total Sum Insure payable under the above cover will not exceeded the Inpatient Hospitalized Hospitalization . The covers will also be on a cashless-free basis only. Note: Excluding out-patient Dental Treatment                 : Dental treatment outside India                                                  periodontics outside India provides 20% Co-Payment . The Sum insured will not exceed                  receive a permanent hospitalization of the In patient Hospitalizations . The Sum insured permission will be on an credible basement of all the crown and referred to the In‑patient Hospitalisation of hospitalizations . For more information, visit www.credential.com/creditor/cudud.\n",
      "\n",
      ".Group 79:\n",
      "-  Certain benefits would require You to seek pre-approval at least 72 hours prior to admission or availing the benefit . For more details, please refer to Section E 45 .\n",
      "\n",
      ".Group 80:\n",
      "-  Section D: STANDARD EXCLUSIONS- STANDARD ECLUSIONS . Section D is a section of the policy that covers the entire section of our\n",
      "-  Section D: Excludes specific EXCLUSIONS appear in the section D . Section D is a section of the section that includes the\n",
      "\n",
      ".Group 81:\n",
      "-  Cataracts, fistula, Macular Degeneration, Macululosis, Hernia of all types, Fissure in ano, Fususus, Hemorrhoids, piles, Hydrocele, Hydroce and Fibromyoma . Surgery on all internal or external tumours/ cysts/  nodules/polyps/polypluses/polypies including breast lumps . Surgery  on all tumours  with exception of Malignant tumor or growth .\n",
      "\n",
      ".Group 82:\n",
      "-  The list of diseases includes gall bladder, pancreatitis, cirrhosis, gout, gouts, chronic kidney disease, chronic Alzheimer's Disease, galls, glands, gardsides, gardens, gans, gantans, chronic lymph nodes, garteritis, garrarrarrasitis, chronic diabetes, gillies, gills, gordies, chronic renal disease, gartins, gortrans, garts, ginsins, chronic kidneys, gorgans, colon colonisation, girtals, gellars, gintars, lymph nodes and gillars, colonisations, garlars, spina, guthers, guttards, gelars, kidneys, lymphads, girdars, teeth, girans, lymphadads, sp\n",
      "\n",
      ".Group 83:\n",
      "-  Expenses related to any admission primarily for diagnostics and evaluation purposes only are excluded . Expenses not related or not incidental to the current diagnosis and treatment are excluded.\n",
      "-  Expenses related to any treatment, including surgical management, to change characteristics of the body to those of the opposite sex . 7) Change-of-gender treatments\n",
      "-  Expenses incurred towards treatment in any Hospital or by any Medical Practitioner or any other provider are not admissible . Expenses up to the stage of stabilization are payable but not the complete claim . Expense up to stage of stabilized are payable in case of life threatening situations .\n",
      "-  Expenses related to the treatment for correction of eye sight due to refractive error less than 7.5 dioptres . 15) Refractive\n",
      "-  Expenses related to any unproven treatment, services and supplies for or in connection with any treatment . 16) Unproven Treatments are treatments, procedures or supplies that lack significant medical documentation to support their effectiveness .\n",
      "-  We do not cover the following expenses unless indicated otherwise in the Table of Benefits or in any\n",
      "\n",
      ".Group 84:\n",
      "-  Obesity-related cardiomyopathy, obesity-related heart disease and sleep apnea are common conditions for people with severe sleep apniasias .\n",
      "\n",
      ".Group 85:\n",
      "-  Expenses related to any treatment necessitated due to participation as a professional in hazardous or adventure sports, including but not limited to, para-jumping, rock climbing, mountaineering, rafting, motor racing, horse racing or scuba diving .\n",
      "\n",
      ".Group 86:\n",
      "-  Alcoholism, drug or substance abuse or any addictive condition is treated for any addictive conditions . (Code \n",
      "\n",
      ".Group 87:\n",
      "-  Treatments received in heath hydros, nature cure clinics, spas or similar establishments or private beds registered as a nursing home . (Code -Excl13) Treatments are received in  heath .\n",
      "\n",
      ".Group 88:\n",
      "-  Dietary supplements and substances that can be purchased without prescription, including but not limited to vitamins, minerals and organic substances . (Code -Excl14)\n",
      "\n",
      ".Group 89:\n",
      "-  Expenses related to sterility and infertility include contraception, sterilization, assisted reproduction and advanced reproductive technologies . 17) Sterility and Infertility (Code -Excl17) Expenses include: artificial insemination, Gestational Surrogacy, Gestual Surrogate, Gestorial Surrogation, Gesteral Surrogates .\n",
      "-  Expenses traceable to childbirth (including complicated deliveries and caesarean sections) except ectopic pregnancy except ectopia pregnancy . Expenses towards miscarriage (unless due to an Accident) and lawful medical termination of pregnancy during the Policy Period .\n"
     ]
    }
   ],
   "source": [
    "for i in range(3,len(embedding_map)):\n",
    "    print(f\"\\n.Group {i + 1}:\")\n",
    "    for para, _,data in embedding_map[i]:\n",
    "        print(\"-\", para)"
   ]
  },
  {
   "cell_type": "code",
   "execution_count": null,
   "id": "93ffe043",
   "metadata": {},
   "outputs": [],
   "source": [
    "def create_natural_language_llm():\n",
    "    # llm = AutoModelForCausalLM.from_pretrained(\n",
    "    #     'models\\phi-2.Q4_K_M.gguf',\n",
    "    #     model_type='llama',\n",
    "    #     context_length=2048\n",
    "    # )\n",
    "    print(\"starting\")\n",
    "    llm = Llama(\n",
    "        # model_path='models\\openhermes-2.5-mistral-7b.Q5_K_M.gguf',\n",
    "        model_path='tinyllama_model\\\\tinyllama-1.1b-chat-v1.0.Q5_K_M.gguf',\n",
    "        # model_path='models\\gemma-2-2b-it-f32.gguf',\n",
    "        # model_path='models\\gemma-2-2b-it-Q4_K_M.gguf',\n",
    "        # model_path='models/phi-2.Q4_K_M.gguf',\n",
    "        n_ctx=2048,        # Keep small unless you need long context\n",
    "        n_threads=5,       # Match your CPU's cores\n",
    "        n_batch=256 ,       # Speed up generation\n",
    "        f16_kv=True,       # Lower memory, faster KV cache\n",
    "        use_mlock=False,    # Pin model in RAM (optional, speeds up access)\n",
    "        verbose=False\n",
    "    )\n",
    "    # print(llm.config[\"context_length\"])\n",
    "    return llm\n",
    "\n",
    "def get_embedding_friendly_prompt():\n",
    "    prompt = '''### Instruction:\n",
    "Write a concise and short answer to the query given below using the data in Paragraph. ANSWER IN SIMPLE YES OR NO AND FOLLOW ALONG WITH THE QUERY\n",
    "User query:\n",
    "{user_query}\n",
    "Paragraph:\n",
    "{paragraph}\n",
    "\n",
    "### Response:'''\n",
    "    return PromptTemplate(prompt)"
   ]
  },
  {
   "cell_type": "code",
   "execution_count": 17,
   "id": "619804c7",
   "metadata": {},
   "outputs": [
    {
     "name": "stdout",
     "output_type": "stream",
     "text": [
      "starting\n"
     ]
    },
    {
     "name": "stderr",
     "output_type": "stream",
     "text": [
      "llama_kv_cache_unified: LLAMA_SET_ROWS=0, using old ggml_cpy() method for backwards compatibility\n",
      "d:\\free_python\\.venv\\Lib\\site-packages\\torch\\nn\\modules\\module.py:1762: FutureWarning: `encoder_attention_mask` is deprecated and will be removed in version 4.55.0 for `BertSdpaSelfAttention.forward`.\n",
      "  return forward_call(*args, **kwargs)\n"
     ]
    }
   ],
   "source": [
    "#so now i need to have a query and match similarity for each group\n",
    "llm=create_natural_language_llm()\n",
    "\n",
    "query='46M, knee surgery, Pune, 3-month policy'\n",
    "query_embed= [ model.encode(query) ]\n",
    "prompt_data=[]\n",
    "for i in range(len(embedding_map)):\n",
    "    # for j in range(len(embedding_map[i])):\n",
    "    summarized_data,embedding,para_data=embedding_map[i][0]\n",
    "    sim=cosine_similarity(embedding,query_embed)[0][0]\n",
    "    if sim>dynamic_threshold(query):\n",
    "        prompt_data.append(summarized_data)\n",
    "    # if sim>0.7:\n",
    "    #     prompt_data.append(summarized_data)\n",
    "\n",
    "# prompt=get_embedding_friendly_prompt()\n",
    "# prompt=prompt.format(\n",
    "#     user_query=query,paragraph=json.dumps(prompt_data)\n",
    "# )\n",
    "# para = 'Write this in short '+query.strip()\n",
    "# if len(para)>10:\n",
    "# # # print(f\"\\nParagraph {i + 1}:\")\n",
    "# # print(para, \"\\n\")\n",
    "#     #token leng\n",
    "#     tokens = tokenizer(para, return_tensors=\"pt\", truncation=True)\n",
    "#     input_len = tokens.input_ids.shape[1]\n",
    "\n",
    "#     # Dynamically set summarization length\n",
    "#     max_len = int(input_len * 0.8)\n",
    "#     min_len = max(10, int(input_len * 0.5))\n",
    "\n",
    "#     # Ensure max_len is shorter than input_len\n",
    "#     max_len = min(max_len, input_len - 1)\n",
    "\n",
    "#     summary = summarizer(para, max_length=max_len, min_length=min_len, num_beams=1, do_sample=False)[0]['summary_text']\n",
    "#     print(summary)\n",
    "# query_embed=[ model.encode(query) ]\n",
    "# answers=[]\n",
    "# for i in range(len(embedding_map)):\n",
    "#     data,embedding=embedding_map[i][0]\n",
    "#     sim=cosine_similarity(embedding,query_embed)[0][0]\n",
    "#     # print(data)\n",
    "#     if sim>0.7:\n",
    "#         answers.append(data)\n",
    "#         print(data)\n",
    "\n",
    "# for ans in answers:\n",
    "#     print(ans)\n",
    "\n"
   ]
  },
  {
   "cell_type": "code",
   "execution_count": 18,
   "id": "67fedf24",
   "metadata": {},
   "outputs": [
    {
     "data": {
      "text/plain": [
       "[' UIN- BAJHLIP2302020V012223 . UIN:    BAJ HLIP230 20V0123 .   UIN 23020V022223. U',\n",
       " ' Bajaj Allianz General Insurance Co. Ltd. is a Pune-based insurance company . The company is based in the city of Yerawada, Pune . The Pune based company is a global health insurance provider . The cost of the insurance is based at Bajaja Allianza General Insurance Company, Puna .',\n",
       " ' Policy',\n",
       " ' Any one Illness means continuous Period of Illness . It includes relapse within 45 days from the date of last consultation with the Hospital/Nursing Home where treatment was taken . 2',\n",
       " ' AYUSH Hospital is a healthcare facility where medical/surgical/para-surgical treatment procedures and interventions are carried out by AYush Medical Practitioner(s) It must comply with all the following criterion:  Having at least 5 Inpatient beds; \\xa0having qualified AYUS Medical Practitionser in charge round the clock;  Having dedicated AYushes therapy sections as required and/or has dedicated AyUSH therapy sections . The hospital must comply\\xa0with all the criteria: \\xa0Having at least five Inpatient\\xa0 beds;\\xa0having\\xa0qualified AYHS Medical Practicioner in\\xa0charge round the\\xa0clock;\\xa0Having dedicated A',\n",
       " ' A Co-Payment is a cost-sharing requirement under a health insurance Policy . A Co -Payment does not reduce the Sum Insured . A co-Payments are a cost sharing requirement under the policy .',\n",
       " ' The bonus is an increase or addition in the Sum Insured granted by the insurer without an associated increase in premium . 9.6% increase',\n",
       " ' A Day Care Centre must comply with all minimum criteria as under:\\xa0qualified nursing staff under its employment . It must comply:\\xa0has qualified nursing staff;\\xa0qualified Medical Practitioner (s) in charge;\\xa0has a fully equipped operation theatre of its own where surgical procedures are carried out . It also must maintain daily records of patients and will make these accessible to the Insurance Company’s authorized personnel .',\n",
       " ' Day Care Treatment is a form of treatment that is taken in less than 24 hours . It is not included in the scope of this definition . Day care treatment is not considered a form that is not taken on an out-patient basis .',\n",
       " ' Policy will be void and premium paid thereon forfeited to the Company . Policy will not be used in the event of misrepresentation, mis-description or non-disclosure of any material',\n",
       " ' Emergency Care means management for an Illness or Injury which results in symptoms which occur suddenly and  unexpectedly, and requires immediate care by a Medical Practitioner . Emergency Care is management for a sudden illness or injury which results \\xa0occurring\\xa0',\n",
       " ' Grace Period is specified period of time immediately following premium due date . Coverage is not available for the period for which no premium is received . Coverage of pre-existing diseases is not covered for the time no premium has been given .',\n",
       " ' Intensive Care Unit is a section, ward or wing of a Hospital which is under the constant supervision of a dedicated Medical Practitioner . Intensive care unit is a unit which is specially equipped for continuous monitoring of patients in a critical condition .',\n",
       " ' Kidney Failure Requiring Regular Dialysis is a result of chronic irreversible failure of both kidneys . Diagnosis has to be confirmed by a Specialist Medical Practitioner . Kidney failure requires regular  renal  dialysis or renal transplantation . Kidneys are either either regular  dialysysis (hemodialysis or peritoneal dialysis) or renal\\xa0transplantation\\xa0is\\xa0recomm',\n",
       " ' Maternity expenses means medical treatment expenses traceable to childbirth . Medical expenses towards lawful medical termination of pregnancy during the Policy Period . Costs towards lawful\\xa0medical termination of\\xa0pregnancy\\xa0during the Policy period .',\n",
       " ' Medical Advice means any consultation or advice from a Medical Practitioner . 26. 26. Medical Advice is any consultation with a',\n",
       " ' Health insurance policyholders can transfer credit gained for pre-existing conditions and time bound exclusions, with the same insurer . Migration means, the right accorded to health insurance policyholder .',\n",
       " ' New Born Baby means baby born during the Policy Period and is aged up to 90 days . 32. New',\n",
       " ' Non-Network Provider means any Hospital, Day Care Centre or other provider that is not part of the Network . Non',\n",
       " ' Pre-Existing Disease means any condition, ailment or Injury or disease diagnosed by a physician within 48 months prior to the effective date of the Policy issued by the Insurance Company . Pre-existing Disease is any condition or injury that is/are diagnosed by an individual within 48 years prior to that date of that date .',\n",
       " ' Room Rent is the amount charged by a Hospital towards Room and Boarding expenses . Room Rent means the amount . charged by',\n",
       " ' Unproven/Experimental treatment means treatment is not based on established medical practice in India . Unproven treatment means the treatment is treatment not based  on established practice .',\n",
       " ' Complementary treatment refers to therapeutic and diagnostic treatment outside of traditional Western medicine . Chirky treatment is also known as osteopathy, Chinese herbal medicine, homeopathy, acupuncture and acupuncture .',\n",
       " ' Dental prostheses outside India includes crowns, inlays, onlays and implants . All necessary and ancillary treatment required required .',\n",
       " ' Cover does not extend to follow-up dental surgery, dental surgery or dental prostheses . Cover does also not extend for follow',\n",
       " ' Hospital for international practice is any establishment which is licensed as a medical or surgical Hospital in the country where it operates and where the patient is permanently supervised by a Doctor . Rest and nursing homes, spas, spa, cure-centres and health resorts are not considered Hospitals .',\n",
       " ' Local (Road) ambulance is ambulance transport that is required for an Emergency or out of medical necessity . It is required to be transported to the nearest available and appropriate Hospital',\n",
       " ' Medical consumable and equipment includes syringes, needles, sutures, staples, packaging, tubing, tubing and tubing . Medical consumables include syringles, needles and suture, staples and staples .',\n",
       " ' Medical Practitioner fees refers to non-surgical treatment performed or administered by a Medical Practitor . 25.50',\n",
       " ' Medical underwriting is the assessment of insurance risk based on information that You give us when applying for cover . 26.',\n",
       " \" The insurer's Global Health Care Policy is available to customers who are not older than 65 years of age . The policy is available at the company's website, www.g.com/global-healthcare.com .\",\n",
       " ' Podiatry refers to Medically Necessary Treatment carried out by a State Registered podiatrist .',\n",
       " ' Physiotherapy is initially restricted to 12 sessions per condition . After that treatment must be reviewed by the Doctor who referred You . Physiotherapies such as Rolfing, massage, Pilates, Fango and Milta do not include Rolfers, massage and Fango .',\n",
       " ' Rehabilitation Hospitals/unit/facility are devoted to the rehabilitation of patients with various neurological, musculoskeletal, musmuskeletal and other medical conditions .',\n",
       " ' Domestic (Within India Only) for Imperial and Imperial Plus Plans .',\n",
       " ' I. I. IN-PATIENT BEN',\n",
       " ' We will also reimburse the expenses incurred on an ambulance offered by a healthcare or ambulance service provider for transferring You from the Hospital where You were admitted initially to another Hospital with higher  medical facilities . The Claim under this section shall be payable by Us only when: \\xa0Such life threatening Emergency condition is certified by the Medical Practitioner, and \\xa0such life threatening emergency condition is\\xa0certified by the medical Practitioners .',\n",
       " ' The claim will be admissible under the Policy provided that, the Illness/Injury requires Inpatient admission . The claim is admissible provided that the Ill illness',\n",
       " ' We will pay the Customary and Reasonable expenses for In-patient treatment of Mental Illness . We will cover the costs up to the sum insured up to up to $2,000 . The treatment should be taken in Mental Health Establishment either wholly or partly meant for the care of persons with mental Illness, where persons with Mental Illnesses are admitted for treatment . The Hospitalization is for Medically Necessary Treatment. The Hospitalized is for . Medically . Necessaries .',\n",
       " ' Modern Treatment Methods and Advancements',\n",
       " ' International is a part',\n",
       " ' This cover is subject to the Sum Insured, sub-limits, sub, limits, Deductibles, terms and conditions .',\n",
       " ' We will organize and coordinate for the Air Ambulance until You arrive safely at Your destination . We reserve the right to decline all costs incurred by us . This cover is on cashless basis only .',\n",
       " ' We will cover the reasonable cost of hotel accommodation in a private en-suite room for up to seven days . We will also cover the cost of a private room',\n",
       " ' Following completion of treatment, we will also cover the cost of Your return trip (i.e. one way ticket) at economy ',\n",
       " ' Exclusions include costs for hotel suites, four or five-star hotel accommodation or hotel accommodation for an accompanying person . Exclusions (Applicable to Medical Evacuation): \\xa0 costs for accommodation for Insured family members in the event of',\n",
       " ' You must contact us on +353 1 630 1301 at the first indication that repatriation is required . From this point onwards We will organise and coordinate all stages of the repatriation until  you arrive safely at Your destination of care .',\n",
       " ' Repatriation of mortal remains is the transportation of the Insured deceased remains from the principal country of idence to the country of burial . We cover costs such as: embalming, a container legally appropriate for transportation, shipping and the necessary government authorisations . Cremation costs will only be covered if the remation is required for legal purposes .',\n",
       " ' Palliative care (Applicable to Imperial Plus Plan only) Includes Inpatient, day-care and out-patient treatment . We will pay for physical care, psychological care, Hospital or hospice accommodation, nursing care and prescription drugs . This cover is subject to the Sum Insured, sub-limits, terms, conditions and definitions, exclusions contained in this Policy . It includes Inpatient care, day care and Hospital or Hospice accommodation .',\n",
       " ' We will pay customary and reasonable expenses up to the limits specified in the policy Schedule . Periodontics outside India  \\xa0will pay',\n",
       " ' Certain benefits would require You to seek pre-approval at least 72 hours prior to admission or availing the benefit . For more details, please refer to Section E 45 .',\n",
       " ' Cataracts, fistula, Macular Degeneration, Macululosis, Hernia of all types, Fissure in ano, Fususus, Hemorrhoids, piles, Hydrocele, Hydroce and Fibromyoma . Surgery on all internal or external tumours/ cysts/ \\xa0nodules/polyps/polypluses/polypies including breast lumps . Surgery  on all tumours \\xa0with exception of Malignant tumor or growth .',\n",
       " \" The list of diseases includes gall bladder, pancreatitis, cirrhosis, gout, gouts, chronic kidney disease, chronic Alzheimer's Disease, galls, glands, gardsides, gardens, gans, gantans, chronic lymph nodes, garteritis, garrarrarrasitis, chronic diabetes, gillies, gills, gordies, chronic renal disease, gartins, gortrans, garts, ginsins, chronic kidneys, gorgans, colon colonisation, girtals, gellars, gintars, lymph nodes and gillars, colonisations, garlars, spina, guthers, guttards, gelars, kidneys, lymphads, girdars, teeth, girans, lymphadads, sp\",\n",
       " ' Expenses related to any admission primarily for diagnostics and evaluation purposes only are excluded . Expenses not related or not incidental to the current diagnosis and treatment are excluded.',\n",
       " ' Expenses related to any treatment necessitated due to participation as a professional in hazardous or adventure sports, including but not limited to, para-jumping, rock climbing, mountaineering, rafting, motor racing, horse racing or scuba diving .',\n",
       " ' Alcoholism, drug or substance abuse or any addictive condition is treated for any addictive conditions . (Code ',\n",
       " ' Treatments received in heath hydros, nature cure clinics, spas or similar establishments or private beds registered as a nursing home . (Code -Excl13) Treatments are received in  heath .']"
      ]
     },
     "execution_count": 18,
     "metadata": {},
     "output_type": "execute_result"
    }
   ],
   "source": [
    "# print(len(prompt_data))\n",
    "\n",
    "# print(len(answers))\n",
    "prompt_data"
   ]
  },
  {
   "cell_type": "code",
   "execution_count": 19,
   "id": "5a4dee84",
   "metadata": {},
   "outputs": [],
   "source": [
    "summarizer_text = f\"Can you summarize the following content based on the query: '{query}'\\n\\n{'\\n'.join(prompt_data)}\""
   ]
  },
  {
   "cell_type": "code",
   "execution_count": 20,
   "id": "e9005a45",
   "metadata": {},
   "outputs": [],
   "source": [
    "# para = summarizer_text.strip()\n",
    "# if len(para)>10:\n",
    "# #token leng\n",
    "#     tokens = tokenizer(para, return_tensors=\"pt\", truncation=True)\n",
    "#     input_len = tokens.input_ids.shape[1]\n",
    "\n",
    "#     # Dynamically set summarization length\n",
    "#     max_len = int(input_len * 0.7)\n",
    "#     min_len = max(10, int(input_len * 0.5))\n",
    "\n",
    "#     # Ensure max_len is shorter than input_len\n",
    "#     max_len = min(max_len, input_len - 1)\n",
    "\n",
    "#     summary = summarizer(summarizer_text, max_length=max_len, min_length=min_len, num_beams=1, do_sample=False)[0]['summary_text']\n",
    "\n",
    "\n",
    "# Truncate total characters or paragraphs if it's too long\n",
    "max_para_char_limit = 4000  # adjust based on tokenizer type\n",
    "joined_data = \"\\n\".join(prompt_data)\n",
    "if len(joined_data) > max_para_char_limit:\n",
    "    joined_data = joined_data[:max_para_char_limit]\n",
    "\n",
    "summarizer_text = f\"Can you summarize the following content based on the query: '{query}'\\n\\n{joined_data}\"\n"
   ]
  },
  {
   "cell_type": "code",
   "execution_count": 21,
   "id": "bc5fa1f2",
   "metadata": {},
   "outputs": [
    {
     "data": {
      "text/plain": [
       "\"Can you summarize the following content based on the query: '46M, knee surgery, Pune, 3-month policy'\\n\\n UIN- BAJHLIP2302020V012223 . UIN:    BAJ HLIP230 20V0123 .   UIN 23020V022223. U\\n Bajaj Allianz General Insurance Co. Ltd. is a Pune-based insurance company . The company is based in the city of Yerawada, Pune . The Pune based company is a global health insurance provider . The cost of the insurance is based at Bajaja Allianza General Insurance Company, Puna .\\n Policy\\n Any one Illness means continuous Period of Illness . It includes relapse within 45 days from the date of last consultation with the Hospital/Nursing Home where treatment was taken . 2\\n AYUSH Hospital is a healthcare facility where medical/surgical/para-surgical treatment procedures and interventions are carried out by AYush Medical Practitioner(s) It must comply with all the following criterion:  Having at least 5 Inpatient beds; \\xa0having qualified AYUS Medical Practitionser in charge round the clock;  Having dedicated AYushes therapy sections as required and/or has dedicated AyUSH therapy sections . The hospital must comply\\xa0with all the criteria: \\xa0Having at least five Inpatient\\xa0 beds;\\xa0having\\xa0qualified AYHS Medical Practicioner in\\xa0charge round the\\xa0clock;\\xa0Having dedicated A\\n A Co-Payment is a cost-sharing requirement under a health insurance Policy . A Co -Payment does not reduce the Sum Insured . A co-Payments are a cost sharing requirement under the policy .\\n The bonus is an increase or addition in the Sum Insured granted by the insurer without an associated increase in premium . 9.6% increase\\n A Day Care Centre must comply with all minimum criteria as under:\\xa0qualified nursing staff under its employment . It must comply:\\xa0has qualified nursing staff;\\xa0qualified Medical Practitioner (s) in charge;\\xa0has a fully equipped operation theatre of its own where surgical procedures are carried out . It also must maintain daily records of patients and will make these accessible to the Insurance Company’s authorized personnel .\\n Day Care Treatment is a form of treatment that is taken in less than 24 hours . It is not included in the scope of this definition . Day care treatment is not considered a form that is not taken on an out-patient basis .\\n Policy will be void and premium paid thereon forfeited to the Company . Policy will not be used in the event of misrepresentation, mis-description or non-disclosure of any material\\n Emergency Care means management for an Illness or Injury which results in symptoms which occur suddenly and  unexpectedly, and requires immediate care by a Medical Practitioner . Emergency Care is management for a sudden illness or injury which results \\xa0occurring\\xa0\\n Grace Period is specified period of time immediately following premium due date . Coverage is not available for the period for which no premium is received . Coverage of pre-existing diseases is not covered for the time no premium has been given .\\n Intensive Care Unit is a section, ward or wing of a Hospital which is under the constant supervision of a dedicated Medical Practitioner . Intensive care unit is a unit which is specially equipped for continuous monitoring of patients in a critical condition .\\n Kidney Failure Requiring Regular Dialysis is a result of chronic irreversible failure of both kidneys . Diagnosis has to be confirmed by a Specialist Medical Practitioner . Kidney failure requires regular  renal  dialysis or renal transplantation . Kidneys are either either regular  dialysysis (hemodialysis or peritoneal dialysis) or renal\\xa0transplantation\\xa0is\\xa0recomm\\n Maternity expenses means medical treatment expenses traceable to childbirth . Medical expenses towards lawful medical termination of pregnancy during the Policy Period . Costs towards lawful\\xa0medical termination of\\xa0pregnancy\\xa0during the Policy period .\\n Medical Advice means any consultation or advice from a Medical Practitioner . 26. 26. Medical Advice is any consultation with a\\n Health insurance policyholders can transfer credit gained for pre-existing conditions and time bound exclusions, with the same insurer . Migration means, th\""
      ]
     },
     "execution_count": 21,
     "metadata": {},
     "output_type": "execute_result"
    }
   ],
   "source": [
    "# len(summarizer_text)\n",
    "summarizer_text"
   ]
  },
  {
   "cell_type": "code",
   "execution_count": 22,
   "id": "a1ac886b",
   "metadata": {},
   "outputs": [
    {
     "name": "stderr",
     "output_type": "stream",
     "text": [
      "The following generation flags are not valid and may be ignored: ['early_stopping', 'length_penalty']. Set `TRANSFORMERS_VERBOSITY=info` for more details.\n"
     ]
    }
   ],
   "source": [
    "para = summarizer_text.strip()\n",
    "if len(para)>10:\n",
    "#token leng\n",
    "    tokens = tokenizer(para, return_tensors=\"pt\", truncation=True)\n",
    "    input_len = tokens.input_ids.shape[1]\n",
    "\n",
    "    # Dynamically set summarization length\n",
    "    max_len = int(input_len * 0.7)\n",
    "    min_len = max(10, int(input_len * 0.5))\n",
    "\n",
    "    # Ensure max_len is shorter than input_len\n",
    "    max_len = min(max_len, input_len - 1)\n",
    "\n",
    "    summary = summarizer(summarizer_text, max_length=max_len, min_length=min_len, num_beams=1, do_sample=False)[0]['summary_text']"
   ]
  },
  {
   "cell_type": "code",
   "execution_count": 23,
   "id": "72206b0d",
   "metadata": {},
   "outputs": [
    {
     "name": "stdout",
     "output_type": "stream",
     "text": [
      " The Pune-based insurance company is based in the city of Yerawada, Pune . The cost of the insurance is based at Bajaja Allianza General Insurance Company, Puna . The policy is based on Bajaj Allianz General Insurance Co. Ltd. The policy will be void and premium paid thereon forfeited to the Company . The bonus is an increase or addition in the Sum Insured granted by the insurer without an associated increase in premium . The company is a global health insurance provider . The insurance company has a policy based in Pune and is based there . The premium is based upon the policy amount of $46.6 million . The policies are available in India and the policy is available in the U.S. and the U-S. is available for a year . The Insurance Company has a three-month policy. The policies cover the entire policy. A policy is not available in Puna and the insurance. The insurance. is based based on the policy. It is available to cover the policy of $1,000 per year. The Policy. The Insurance. Policy. Policy is available on the basis of the policy, and the amount of the . policy. Policy has been approved. The. policy. For the policy to cover. The . policy is. available to the policy�. The policy. The ‘policy.’. The coverage. The price. The pricing. The amount. for the. policy is ‘. The’s. for. the. insurance. For. the policy and the. ’t. for a. and for the policy has been. The Coverage. The Company. For The Policy, the. Policy, however, is. not. The Service. is. The service. Thepolicy. is not. the . Policy. is the. Insurance. policyholders. The Claim. The claim. The Claims. The Price. For For The Claim, the . Claim. For A. List. of the. Claim. of a. Claim, for the . Insurance. For a. List of the Claim. To. The Back Back. For Back\n"
     ]
    }
   ],
   "source": [
    "print(summary)"
   ]
  },
  {
   "cell_type": "code",
   "execution_count": 24,
   "id": "e4ca1d33",
   "metadata": {},
   "outputs": [
    {
     "name": "stdout",
     "output_type": "stream",
     "text": [
      "Yes, the data in the given paragraph supports the query. The policy is based in Pune, and the cost of the insurance is based at Bajaja Allaniz General InsuraNCe Company, PuNA. The premium paid in the policy is forfeited to the Company, and the bonus is an increase or addition in the Sum Insured granted by the insurer without an associated increase in premium. The policy is valid for a year and has a three-month policy. The policies in India and the U.S. Are available for a year. The policies cover the entire policy. The insurance company has a policy based in PuNA and is available for a year in the U.S. The policy is available in PuNA, and the insurance is available to cover the policy of $1,000 per year. The policy is available on the basis of the policy, and the amount of the policy is $46.6 million. The insurance is not available in PuNA and the policy is not available in the U.S. The policy has been approved. The coverage is for the policy, and the company is a global health insurance provider. The claim is for a policy, the price is for the policy, and the amount for the claim is $46.6 million. The policy covers the entire policy, and the premium paid in the policy is forfeited to the Company. The bonus is an increase or addition in the Sum Insured granted by the insurer without an associated increase in premium. The policy has a three-month policy. The policies in India and the U.S. Are available for a year. The policies cover the policy of $1,000 per year. The policy is available in the U.S., and the insurance is available to cover the policy of $1,000 per year. The policy has been approved. The coverage is for the policy, and the company is a global health insurance provider. The claim is for a policy, the price is for the policy, and the amount for the claim is $46.6 million. The policy covers the entire policy, and the premium paid in the policy is forfeited to the Company. The bonus is an increase or addition in the Sum Insured granted by the insurer without an associated increase in premium. The policy has a three-month policy. The policies in India and the U.S.\n"
     ]
    }
   ],
   "source": [
    "prompt=get_embedding_friendly_prompt()\n",
    "prompt=prompt.format(\n",
    "    user_query=query,paragraph=summary\n",
    ")\n",
    "output=llm(prompt,max_tokens=512)\n",
    "answer=output['choices'][0][\"text\"].strip()\n",
    "\n",
    "print(answer)"
   ]
  }
 ],
 "metadata": {
  "kernelspec": {
   "display_name": "Python 3",
   "language": "python",
   "name": "python3"
  },
  "language_info": {
   "codemirror_mode": {
    "name": "ipython",
    "version": 3
   },
   "file_extension": ".py",
   "mimetype": "text/x-python",
   "name": "python",
   "nbconvert_exporter": "python",
   "pygments_lexer": "ipython3",
   "version": "3.12.10"
  }
 },
 "nbformat": 4,
 "nbformat_minor": 5
}
